{
 "cells": [
  {
   "cell_type": "markdown",
   "metadata": {},
   "source": [
    "<h1>Содержание<span class=\"tocSkip\"></span></h1>\n",
    "\n",
    "* [1  Загрузка и подготовка данных](#Загрузка-и-подготовка-данных)\n",
    "* [1.1 Импорт и предобработка данных](#Импорт-и-предобработка-данных)\n",
    "* [1.2  Подготовка данных](#Подготовка-данных)\n",
    "* [2  Обучение и проверка модели](#Обучение-и-проверка-модели)\n",
    "* [3  Подготовка к расчёту прибыли](#Подготовка-к-расчёту-прибыли)\n",
    "* [3.1  Нахождение точки безубыточности скважины по объему запасов](#Нахождение-точки-безубыточности-скважины-по-объему-запасов)\n",
    "* [3.2  Написание функции для расчета прибыли](#Написание-функции-для-расчета-прибыли)\n",
    "* [4  Расчёт прибыли и рисков](#Расчёт-прибыли-и-рисков)\n",
    "* [5  Чек-лист готовности проекта](#Чек-лист-готовности-проекта)\n",
    "* [Общий вывод](#Общий-вывод)"
   ]
  },
  {
   "cell_type": "markdown",
   "metadata": {},
   "source": [
    "# Самостоятельный проект: «Выбор локации для скважины»"
   ]
  },
  {
   "cell_type": "markdown",
   "metadata": {},
   "source": [
    "**Цель самостоятельного проекта:**\n",
    "\n",
    "Построить для компании «ГлавРосГосНефть» модель машинного обучения, которая определит регион, где добыча принесёт наибольшую прибыль.\n",
    "\n",
    "**Источники информации:**\n",
    "Данные геологоразведки трёх регионов с идентификаторами скважин id, признаками точек f0, f1 и f2, а также данными по объекмам запасов product в тысячах баррелей.\n",
    "\n",
    "Для потроения модели необходимо решить следующие **задачи**:\n",
    "1. J,exbnm модели для каждого из трех регионов (алгоритм LinearRegression);\n",
    "2. Оценить модели с помощью метрик регрессии;\n",
    "3. Произвести расчет точки безубыточности по объему для одной скважины;\n",
    "4. Написать функцию для расчета прибыли;\n",
    "5. С помощью техники Bootstrap проанализировать возможную прибыль и риски для каждого региона."
   ]
  },
  {
   "cell_type": "markdown",
   "metadata": {},
   "source": [
    "## Загрузка и подготовка данных"
   ]
  },
  {
   "cell_type": "markdown",
   "metadata": {},
   "source": [
    "### Импорт и предобработка данных"
   ]
  },
  {
   "cell_type": "markdown",
   "metadata": {},
   "source": [
    "Загружаю библиотеки и модули, с помощью которых я буду выполнять проект. Далее импортируем DataSet'ы, в которых хранятся интересующие данные (импорт производится в переменные 'dataset_0', 'dataset_1', 'dataset_2'):"
   ]
  },
  {
   "cell_type": "code",
   "execution_count": 1,
   "metadata": {},
   "outputs": [],
   "source": [
    "import pandas as pd\n",
    "import numpy as np\n",
    "from sklearn.model_selection import train_test_split, GridSearchCV, cross_val_score\n",
    "from sklearn.linear_model import LinearRegression\n",
    "from sklearn.metrics import mean_squared_error, r2_score, mean_absolute_error\n",
    "from scipy import stats as st"
   ]
  },
  {
   "cell_type": "code",
   "execution_count": 2,
   "metadata": {},
   "outputs": [],
   "source": [
    "region0 = pd.read_csv('geo_data_0.csv')"
   ]
  },
  {
   "cell_type": "code",
   "execution_count": 3,
   "metadata": {},
   "outputs": [],
   "source": [
    "region1 = pd.read_csv('geo_data_1.csv')"
   ]
  },
  {
   "cell_type": "code",
   "execution_count": 4,
   "metadata": {},
   "outputs": [],
   "source": [
    "region2 = pd.read_csv('geo_data_2.csv')"
   ]
  },
  {
   "cell_type": "markdown",
   "metadata": {},
   "source": [
    "Проверяю размеры переменной **region_0** полученных переменных с помощью метода .info(), а также наличие строк - дубликатов с помощью методов duolicated() и sum(). Для ознакомления вывел через метод .head() первые пять значений полученных DataFrame'ов:"
   ]
  },
  {
   "cell_type": "code",
   "execution_count": 5,
   "metadata": {},
   "outputs": [
    {
     "name": "stdout",
     "output_type": "stream",
     "text": [
      "<class 'pandas.core.frame.DataFrame'>\n",
      "RangeIndex: 100000 entries, 0 to 99999\n",
      "Data columns (total 5 columns):\n",
      " #   Column   Non-Null Count   Dtype  \n",
      "---  ------   --------------   -----  \n",
      " 0   id       100000 non-null  object \n",
      " 1   f0       100000 non-null  float64\n",
      " 2   f1       100000 non-null  float64\n",
      " 3   f2       100000 non-null  float64\n",
      " 4   product  100000 non-null  float64\n",
      "dtypes: float64(4), object(1)\n",
      "memory usage: 3.8+ MB\n"
     ]
    }
   ],
   "source": [
    "region0.info()"
   ]
  },
  {
   "cell_type": "code",
   "execution_count": 6,
   "metadata": {},
   "outputs": [
    {
     "data": {
      "text/plain": [
       "0"
      ]
     },
     "execution_count": 6,
     "metadata": {},
     "output_type": "execute_result"
    }
   ],
   "source": [
    "region0.duplicated().sum()"
   ]
  },
  {
   "cell_type": "code",
   "execution_count": 7,
   "metadata": {},
   "outputs": [
    {
     "data": {
      "text/html": [
       "<div>\n",
       "<style scoped>\n",
       "    .dataframe tbody tr th:only-of-type {\n",
       "        vertical-align: middle;\n",
       "    }\n",
       "\n",
       "    .dataframe tbody tr th {\n",
       "        vertical-align: top;\n",
       "    }\n",
       "\n",
       "    .dataframe thead th {\n",
       "        text-align: right;\n",
       "    }\n",
       "</style>\n",
       "<table border=\"1\" class=\"dataframe\">\n",
       "  <thead>\n",
       "    <tr style=\"text-align: right;\">\n",
       "      <th></th>\n",
       "      <th>id</th>\n",
       "      <th>f0</th>\n",
       "      <th>f1</th>\n",
       "      <th>f2</th>\n",
       "      <th>product</th>\n",
       "    </tr>\n",
       "  </thead>\n",
       "  <tbody>\n",
       "    <tr>\n",
       "      <th>0</th>\n",
       "      <td>txEyH</td>\n",
       "      <td>0.705745</td>\n",
       "      <td>-0.497823</td>\n",
       "      <td>1.221170</td>\n",
       "      <td>105.280062</td>\n",
       "    </tr>\n",
       "    <tr>\n",
       "      <th>1</th>\n",
       "      <td>2acmU</td>\n",
       "      <td>1.334711</td>\n",
       "      <td>-0.340164</td>\n",
       "      <td>4.365080</td>\n",
       "      <td>73.037750</td>\n",
       "    </tr>\n",
       "    <tr>\n",
       "      <th>2</th>\n",
       "      <td>409Wp</td>\n",
       "      <td>1.022732</td>\n",
       "      <td>0.151990</td>\n",
       "      <td>1.419926</td>\n",
       "      <td>85.265647</td>\n",
       "    </tr>\n",
       "    <tr>\n",
       "      <th>3</th>\n",
       "      <td>iJLyR</td>\n",
       "      <td>-0.032172</td>\n",
       "      <td>0.139033</td>\n",
       "      <td>2.978566</td>\n",
       "      <td>168.620776</td>\n",
       "    </tr>\n",
       "    <tr>\n",
       "      <th>4</th>\n",
       "      <td>Xdl7t</td>\n",
       "      <td>1.988431</td>\n",
       "      <td>0.155413</td>\n",
       "      <td>4.751769</td>\n",
       "      <td>154.036647</td>\n",
       "    </tr>\n",
       "  </tbody>\n",
       "</table>\n",
       "</div>"
      ],
      "text/plain": [
       "      id        f0        f1        f2     product\n",
       "0  txEyH  0.705745 -0.497823  1.221170  105.280062\n",
       "1  2acmU  1.334711 -0.340164  4.365080   73.037750\n",
       "2  409Wp  1.022732  0.151990  1.419926   85.265647\n",
       "3  iJLyR -0.032172  0.139033  2.978566  168.620776\n",
       "4  Xdl7t  1.988431  0.155413  4.751769  154.036647"
      ]
     },
     "execution_count": 7,
     "metadata": {},
     "output_type": "execute_result"
    }
   ],
   "source": [
    "region0.head()"
   ]
  },
  {
   "cell_type": "markdown",
   "metadata": {},
   "source": [
    "В переменной все типы столбцов соответствуют их содержанию, дублирующиеся строки отсутствуют.\n",
    "\n",
    "Аналогичным образом проверяю переменную **region_1**:"
   ]
  },
  {
   "cell_type": "code",
   "execution_count": 8,
   "metadata": {},
   "outputs": [
    {
     "name": "stdout",
     "output_type": "stream",
     "text": [
      "<class 'pandas.core.frame.DataFrame'>\n",
      "RangeIndex: 100000 entries, 0 to 99999\n",
      "Data columns (total 5 columns):\n",
      " #   Column   Non-Null Count   Dtype  \n",
      "---  ------   --------------   -----  \n",
      " 0   id       100000 non-null  object \n",
      " 1   f0       100000 non-null  float64\n",
      " 2   f1       100000 non-null  float64\n",
      " 3   f2       100000 non-null  float64\n",
      " 4   product  100000 non-null  float64\n",
      "dtypes: float64(4), object(1)\n",
      "memory usage: 3.8+ MB\n"
     ]
    }
   ],
   "source": [
    "region1.info()"
   ]
  },
  {
   "cell_type": "code",
   "execution_count": 9,
   "metadata": {},
   "outputs": [
    {
     "data": {
      "text/plain": [
       "0"
      ]
     },
     "execution_count": 9,
     "metadata": {},
     "output_type": "execute_result"
    }
   ],
   "source": [
    "region1.duplicated().sum()"
   ]
  },
  {
   "cell_type": "code",
   "execution_count": 10,
   "metadata": {},
   "outputs": [
    {
     "data": {
      "text/html": [
       "<div>\n",
       "<style scoped>\n",
       "    .dataframe tbody tr th:only-of-type {\n",
       "        vertical-align: middle;\n",
       "    }\n",
       "\n",
       "    .dataframe tbody tr th {\n",
       "        vertical-align: top;\n",
       "    }\n",
       "\n",
       "    .dataframe thead th {\n",
       "        text-align: right;\n",
       "    }\n",
       "</style>\n",
       "<table border=\"1\" class=\"dataframe\">\n",
       "  <thead>\n",
       "    <tr style=\"text-align: right;\">\n",
       "      <th></th>\n",
       "      <th>id</th>\n",
       "      <th>f0</th>\n",
       "      <th>f1</th>\n",
       "      <th>f2</th>\n",
       "      <th>product</th>\n",
       "    </tr>\n",
       "  </thead>\n",
       "  <tbody>\n",
       "    <tr>\n",
       "      <th>0</th>\n",
       "      <td>kBEdx</td>\n",
       "      <td>-15.001348</td>\n",
       "      <td>-8.276000</td>\n",
       "      <td>-0.005876</td>\n",
       "      <td>3.179103</td>\n",
       "    </tr>\n",
       "    <tr>\n",
       "      <th>1</th>\n",
       "      <td>62mP7</td>\n",
       "      <td>14.272088</td>\n",
       "      <td>-3.475083</td>\n",
       "      <td>0.999183</td>\n",
       "      <td>26.953261</td>\n",
       "    </tr>\n",
       "    <tr>\n",
       "      <th>2</th>\n",
       "      <td>vyE1P</td>\n",
       "      <td>6.263187</td>\n",
       "      <td>-5.948386</td>\n",
       "      <td>5.001160</td>\n",
       "      <td>134.766305</td>\n",
       "    </tr>\n",
       "    <tr>\n",
       "      <th>3</th>\n",
       "      <td>KcrkZ</td>\n",
       "      <td>-13.081196</td>\n",
       "      <td>-11.506057</td>\n",
       "      <td>4.999415</td>\n",
       "      <td>137.945408</td>\n",
       "    </tr>\n",
       "    <tr>\n",
       "      <th>4</th>\n",
       "      <td>AHL4O</td>\n",
       "      <td>12.702195</td>\n",
       "      <td>-8.147433</td>\n",
       "      <td>5.004363</td>\n",
       "      <td>134.766305</td>\n",
       "    </tr>\n",
       "  </tbody>\n",
       "</table>\n",
       "</div>"
      ],
      "text/plain": [
       "      id         f0         f1        f2     product\n",
       "0  kBEdx -15.001348  -8.276000 -0.005876    3.179103\n",
       "1  62mP7  14.272088  -3.475083  0.999183   26.953261\n",
       "2  vyE1P   6.263187  -5.948386  5.001160  134.766305\n",
       "3  KcrkZ -13.081196 -11.506057  4.999415  137.945408\n",
       "4  AHL4O  12.702195  -8.147433  5.004363  134.766305"
      ]
     },
     "execution_count": 10,
     "metadata": {},
     "output_type": "execute_result"
    }
   ],
   "source": [
    "region1.head()"
   ]
  },
  {
   "cell_type": "markdown",
   "metadata": {},
   "source": [
    "В переменной region_1 также все типы столбцов соответствуют их содержанию, дублирующиеся строки отсутствуют.\n",
    "\n",
    "Проверяю переменную **region_2**:"
   ]
  },
  {
   "cell_type": "code",
   "execution_count": 11,
   "metadata": {},
   "outputs": [
    {
     "name": "stdout",
     "output_type": "stream",
     "text": [
      "<class 'pandas.core.frame.DataFrame'>\n",
      "RangeIndex: 100000 entries, 0 to 99999\n",
      "Data columns (total 5 columns):\n",
      " #   Column   Non-Null Count   Dtype  \n",
      "---  ------   --------------   -----  \n",
      " 0   id       100000 non-null  object \n",
      " 1   f0       100000 non-null  float64\n",
      " 2   f1       100000 non-null  float64\n",
      " 3   f2       100000 non-null  float64\n",
      " 4   product  100000 non-null  float64\n",
      "dtypes: float64(4), object(1)\n",
      "memory usage: 3.8+ MB\n"
     ]
    }
   ],
   "source": [
    "region2.info()"
   ]
  },
  {
   "cell_type": "code",
   "execution_count": 12,
   "metadata": {},
   "outputs": [
    {
     "data": {
      "text/plain": [
       "0"
      ]
     },
     "execution_count": 12,
     "metadata": {},
     "output_type": "execute_result"
    }
   ],
   "source": [
    "region2.duplicated().sum()"
   ]
  },
  {
   "cell_type": "code",
   "execution_count": 13,
   "metadata": {},
   "outputs": [
    {
     "data": {
      "text/html": [
       "<div>\n",
       "<style scoped>\n",
       "    .dataframe tbody tr th:only-of-type {\n",
       "        vertical-align: middle;\n",
       "    }\n",
       "\n",
       "    .dataframe tbody tr th {\n",
       "        vertical-align: top;\n",
       "    }\n",
       "\n",
       "    .dataframe thead th {\n",
       "        text-align: right;\n",
       "    }\n",
       "</style>\n",
       "<table border=\"1\" class=\"dataframe\">\n",
       "  <thead>\n",
       "    <tr style=\"text-align: right;\">\n",
       "      <th></th>\n",
       "      <th>id</th>\n",
       "      <th>f0</th>\n",
       "      <th>f1</th>\n",
       "      <th>f2</th>\n",
       "      <th>product</th>\n",
       "    </tr>\n",
       "  </thead>\n",
       "  <tbody>\n",
       "    <tr>\n",
       "      <th>0</th>\n",
       "      <td>fwXo0</td>\n",
       "      <td>-1.146987</td>\n",
       "      <td>0.963328</td>\n",
       "      <td>-0.828965</td>\n",
       "      <td>27.758673</td>\n",
       "    </tr>\n",
       "    <tr>\n",
       "      <th>1</th>\n",
       "      <td>WJtFt</td>\n",
       "      <td>0.262778</td>\n",
       "      <td>0.269839</td>\n",
       "      <td>-2.530187</td>\n",
       "      <td>56.069697</td>\n",
       "    </tr>\n",
       "    <tr>\n",
       "      <th>2</th>\n",
       "      <td>ovLUW</td>\n",
       "      <td>0.194587</td>\n",
       "      <td>0.289035</td>\n",
       "      <td>-5.586433</td>\n",
       "      <td>62.871910</td>\n",
       "    </tr>\n",
       "    <tr>\n",
       "      <th>3</th>\n",
       "      <td>q6cA6</td>\n",
       "      <td>2.236060</td>\n",
       "      <td>-0.553760</td>\n",
       "      <td>0.930038</td>\n",
       "      <td>114.572842</td>\n",
       "    </tr>\n",
       "    <tr>\n",
       "      <th>4</th>\n",
       "      <td>WPMUX</td>\n",
       "      <td>-0.515993</td>\n",
       "      <td>1.716266</td>\n",
       "      <td>5.899011</td>\n",
       "      <td>149.600746</td>\n",
       "    </tr>\n",
       "  </tbody>\n",
       "</table>\n",
       "</div>"
      ],
      "text/plain": [
       "      id        f0        f1        f2     product\n",
       "0  fwXo0 -1.146987  0.963328 -0.828965   27.758673\n",
       "1  WJtFt  0.262778  0.269839 -2.530187   56.069697\n",
       "2  ovLUW  0.194587  0.289035 -5.586433   62.871910\n",
       "3  q6cA6  2.236060 -0.553760  0.930038  114.572842\n",
       "4  WPMUX -0.515993  1.716266  5.899011  149.600746"
      ]
     },
     "execution_count": 13,
     "metadata": {},
     "output_type": "execute_result"
    }
   ],
   "source": [
    "region2.head()"
   ]
  },
  {
   "cell_type": "markdown",
   "metadata": {},
   "source": [
    "**Краткий вывод:**\n",
    "\n",
    "Все три переменные имеют размер 10 000 строк на 5 столбцов. Типы столбцов соответствует их содержанию, отсутствуют дублирующиеся и пустые строки."
   ]
  },
  {
   "cell_type": "markdown",
   "metadata": {},
   "source": [
    "### Подготовка данных"
   ]
  },
  {
   "cell_type": "markdown",
   "metadata": {},
   "source": [
    "В данном разделе произвел разделение переменных на обучающий и валидационный наборы данных в разбивке по регионам. Разделение на наборы данных произвел с помощью функции .train_test_split. Так как масштабы в признаках 'f0', 'f1', 'f2' в полученных DataFrame'ах примерно сопоставимы, решил не производить масштабирование.\n",
    "\n",
    "**Разделение данных на наборы**\n",
    "\n",
    "При разделении наборов данных разбил исходные DataSet'ы на обучающую и валидационную выборки по паритету 0.75 / 0.25:"
   ]
  },
  {
   "cell_type": "code",
   "execution_count": 14,
   "metadata": {},
   "outputs": [],
   "source": [
    "train_0, valid_0, train_1, valid_1, train_2, valid_2 = train_test_split(\n",
    "    region0, region1, region2, test_size = 0.25)"
   ]
  },
  {
   "cell_type": "markdown",
   "metadata": {},
   "source": [
    "Проверяю размеры новых наборов данных:\n",
    "\n",
    "Для **region_0**:"
   ]
  },
  {
   "cell_type": "code",
   "execution_count": 15,
   "metadata": {},
   "outputs": [
    {
     "name": "stdout",
     "output_type": "stream",
     "text": [
      "(75000, 5)\n",
      "(25000, 5)\n"
     ]
    }
   ],
   "source": [
    "print(train_0.shape)\n",
    "print(valid_0.shape)"
   ]
  },
  {
   "cell_type": "markdown",
   "metadata": {},
   "source": [
    "Для **region_1**:"
   ]
  },
  {
   "cell_type": "code",
   "execution_count": 16,
   "metadata": {},
   "outputs": [
    {
     "name": "stdout",
     "output_type": "stream",
     "text": [
      "(75000, 5)\n",
      "(25000, 5)\n"
     ]
    }
   ],
   "source": [
    "print(train_1.shape)\n",
    "print(valid_1.shape)"
   ]
  },
  {
   "cell_type": "markdown",
   "metadata": {},
   "source": [
    "Для region_2:"
   ]
  },
  {
   "cell_type": "code",
   "execution_count": 17,
   "metadata": {},
   "outputs": [
    {
     "name": "stdout",
     "output_type": "stream",
     "text": [
      "(75000, 5)\n",
      "(25000, 5)\n"
     ]
    }
   ],
   "source": [
    "print(train_2.shape)\n",
    "print(valid_2.shape)"
   ]
  },
  {
   "cell_type": "markdown",
   "metadata": {},
   "source": [
    "Разделение на наборы данных произошло по схеме '75 % / 25 %'.\n",
    "\n",
    "Далее разбиваем наборы данных на признаки и целевые признаки (при формировании наборов с признаками помимо целевого признака также удалил признак 'id', так как он не нужен для обучения модели):\n",
    "\n",
    "**Признаки**:"
   ]
  },
  {
   "cell_type": "code",
   "execution_count": 18,
   "metadata": {},
   "outputs": [],
   "source": [
    "features_train_0 = train_0.drop(['id', 'product'], axis = 1)\n",
    "features_train_1 = train_1.drop(['id', 'product'], axis = 1)\n",
    "features_train_2 = train_2.drop(['id', 'product'], axis = 1)\n",
    "\n",
    "features_valid_0 = valid_0.drop(['id', 'product'], axis = 1)\n",
    "features_valid_1 = valid_1.drop(['id', 'product'], axis = 1)\n",
    "features_valid_2 = valid_2.drop(['id', 'product'], axis = 1)"
   ]
  },
  {
   "cell_type": "markdown",
   "metadata": {},
   "source": [
    "**Целевые признаки**"
   ]
  },
  {
   "cell_type": "code",
   "execution_count": 19,
   "metadata": {},
   "outputs": [],
   "source": [
    "target_train_0 = train_0['product']\n",
    "target_train_1 = train_1['product']\n",
    "target_train_2 = train_2['product']\n",
    "\n",
    "\n",
    "target_valid_0 = valid_0['product']\n",
    "target_valid_1 = valid_1['product']\n",
    "target_valid_2 = valid_2['product']"
   ]
  },
  {
   "cell_type": "markdown",
   "metadata": {},
   "source": [
    "Данные по скважинам в трех регионах импортированы, обучающий и валидационный наборы данных сформированы. Переходим к обучению моделей для регионов."
   ]
  },
  {
   "cell_type": "markdown",
   "metadata": {},
   "source": [
    "## Обучение и проверка модели"
   ]
  },
  {
   "cell_type": "markdown",
   "metadata": {},
   "source": [
    "Ниже проведем обучение модели с помощью алгоритма LinearRegression() для каждого региона, после чего посчитаем среднее значение прогнозированных запасов скважин (метод .mean()) по регионам, а также перепроверим модели с помощью метрик root mean squared error, r2 и mean absolute error (соответственно через функции mean_squared_error, от которой получим корень, r2_score и mean_absolute_error):"
   ]
  },
  {
   "cell_type": "markdown",
   "metadata": {},
   "source": [
    "**Регион 0**"
   ]
  },
  {
   "cell_type": "markdown",
   "metadata": {},
   "source": [
    "Обучение модели и получение прогнозных данных на валидационном наборе для Региона 0:"
   ]
  },
  {
   "cell_type": "code",
   "execution_count": 20,
   "metadata": {},
   "outputs": [],
   "source": [
    "model_0 = LinearRegression()\n",
    "model_0.fit(features_train_0, target_train_0)\n",
    "predicted_valid_0 = model_0.predict(features_valid_0)"
   ]
  },
  {
   "cell_type": "code",
   "execution_count": 21,
   "metadata": {},
   "outputs": [
    {
     "data": {
      "text/plain": [
       "92.53009385867597"
      ]
     },
     "execution_count": 21,
     "metadata": {},
     "output_type": "execute_result"
    }
   ],
   "source": [
    "predicted_valid_0.mean()"
   ]
  },
  {
   "cell_type": "markdown",
   "metadata": {},
   "source": [
    "Расчитываю mse и rmse для Региона 0:"
   ]
  },
  {
   "cell_type": "code",
   "execution_count": 22,
   "metadata": {},
   "outputs": [],
   "source": [
    "mse = mean_squared_error(target_valid_0, predicted_valid_0)"
   ]
  },
  {
   "cell_type": "code",
   "execution_count": 23,
   "metadata": {},
   "outputs": [
    {
     "data": {
      "text/plain": [
       "1404.5802061605139"
      ]
     },
     "execution_count": 23,
     "metadata": {},
     "output_type": "execute_result"
    }
   ],
   "source": [
    "mse"
   ]
  },
  {
   "cell_type": "code",
   "execution_count": 24,
   "metadata": {},
   "outputs": [],
   "source": [
    "rmse = mse ** 0.5"
   ]
  },
  {
   "cell_type": "code",
   "execution_count": 25,
   "metadata": {},
   "outputs": [
    {
     "data": {
      "text/plain": [
       "37.47772946911957"
      ]
     },
     "execution_count": 25,
     "metadata": {},
     "output_type": "execute_result"
    }
   ],
   "source": [
    "rmse"
   ]
  },
  {
   "cell_type": "markdown",
   "metadata": {},
   "source": [
    "Считаю коэффициент детерминации (мера r2):"
   ]
  },
  {
   "cell_type": "code",
   "execution_count": 26,
   "metadata": {},
   "outputs": [
    {
     "data": {
      "text/plain": [
       "0.27962601129430953"
      ]
     },
     "execution_count": 26,
     "metadata": {},
     "output_type": "execute_result"
    }
   ],
   "source": [
    "r2_reg0 = r2_score(target_valid_0, predicted_valid_0)\n",
    "r2_reg0"
   ]
  },
  {
   "cell_type": "markdown",
   "metadata": {},
   "source": [
    "Считаю коэффициент mae:"
   ]
  },
  {
   "cell_type": "code",
   "execution_count": 27,
   "metadata": {},
   "outputs": [
    {
     "data": {
      "text/plain": [
       "30.845232656375774"
      ]
     },
     "execution_count": 27,
     "metadata": {},
     "output_type": "execute_result"
    }
   ],
   "source": [
    "mae_reg0 = mean_absolute_error(target_valid_0, predicted_valid_0)\n",
    "mae_reg0"
   ]
  },
  {
   "cell_type": "markdown",
   "metadata": {},
   "source": [
    "**Регион 1**"
   ]
  },
  {
   "cell_type": "markdown",
   "metadata": {},
   "source": [
    "Обучение модели и получение прогнозных данных на валидационном наборе для Региона 1:"
   ]
  },
  {
   "cell_type": "code",
   "execution_count": 28,
   "metadata": {},
   "outputs": [],
   "source": [
    "model_1 = LinearRegression()\n",
    "model_1.fit(features_train_1, target_train_1)\n",
    "predicted_valid_1 = model_1.predict(features_valid_1)"
   ]
  },
  {
   "cell_type": "code",
   "execution_count": 29,
   "metadata": {},
   "outputs": [
    {
     "data": {
      "text/plain": [
       "68.45931083646666"
      ]
     },
     "execution_count": 29,
     "metadata": {},
     "output_type": "execute_result"
    }
   ],
   "source": [
    "predicted_valid_1.mean()"
   ]
  },
  {
   "cell_type": "markdown",
   "metadata": {},
   "source": [
    "Расчитываю mse и rmse для Региона 1:"
   ]
  },
  {
   "cell_type": "code",
   "execution_count": 30,
   "metadata": {},
   "outputs": [],
   "source": [
    "mse = mean_squared_error(target_valid_1, predicted_valid_1)"
   ]
  },
  {
   "cell_type": "code",
   "execution_count": 31,
   "metadata": {},
   "outputs": [
    {
     "data": {
      "text/plain": [
       "0.8004145668182078"
      ]
     },
     "execution_count": 31,
     "metadata": {},
     "output_type": "execute_result"
    }
   ],
   "source": [
    "mse"
   ]
  },
  {
   "cell_type": "code",
   "execution_count": 32,
   "metadata": {},
   "outputs": [],
   "source": [
    "rmse = mse ** 0.5"
   ]
  },
  {
   "cell_type": "code",
   "execution_count": 33,
   "metadata": {},
   "outputs": [
    {
     "data": {
      "text/plain": [
       "0.8946589108806818"
      ]
     },
     "execution_count": 33,
     "metadata": {},
     "output_type": "execute_result"
    }
   ],
   "source": [
    "rmse"
   ]
  },
  {
   "cell_type": "markdown",
   "metadata": {},
   "source": [
    "Считаю коэффициент детерминации (мера r2):"
   ]
  },
  {
   "cell_type": "code",
   "execution_count": 34,
   "metadata": {},
   "outputs": [
    {
     "data": {
      "text/plain": [
       "0.9996204479839186"
      ]
     },
     "execution_count": 34,
     "metadata": {},
     "output_type": "execute_result"
    }
   ],
   "source": [
    "r2_reg1 = r2_score(target_valid_1, predicted_valid_1)\n",
    "r2_reg1"
   ]
  },
  {
   "cell_type": "markdown",
   "metadata": {},
   "source": [
    "Считаю коэффициент mae:"
   ]
  },
  {
   "cell_type": "code",
   "execution_count": 35,
   "metadata": {},
   "outputs": [
    {
     "data": {
      "text/plain": [
       "0.7194446802716074"
      ]
     },
     "execution_count": 35,
     "metadata": {},
     "output_type": "execute_result"
    }
   ],
   "source": [
    "mae_reg1 = mean_absolute_error(target_valid_1, predicted_valid_1)\n",
    "mae_reg1"
   ]
  },
  {
   "cell_type": "markdown",
   "metadata": {},
   "source": [
    "**Регион 2**"
   ]
  },
  {
   "cell_type": "markdown",
   "metadata": {},
   "source": [
    "Обучение модели и получение прогнозных данных на валидационном наборе для Региона 2:"
   ]
  },
  {
   "cell_type": "code",
   "execution_count": 36,
   "metadata": {},
   "outputs": [],
   "source": [
    "model_2 = LinearRegression()\n",
    "model_2.fit(features_train_2, target_train_2)\n",
    "predicted_valid_2 = model_2.predict(features_valid_2)"
   ]
  },
  {
   "cell_type": "code",
   "execution_count": 37,
   "metadata": {},
   "outputs": [
    {
     "data": {
      "text/plain": [
       "95.13237002558567"
      ]
     },
     "execution_count": 37,
     "metadata": {},
     "output_type": "execute_result"
    }
   ],
   "source": [
    "predicted_valid_2.mean()"
   ]
  },
  {
   "cell_type": "markdown",
   "metadata": {},
   "source": [
    "Расчитываю mse и rmse для Региона 2:"
   ]
  },
  {
   "cell_type": "code",
   "execution_count": 38,
   "metadata": {},
   "outputs": [],
   "source": [
    "mse = mean_squared_error(target_valid_2, predicted_valid_2)"
   ]
  },
  {
   "cell_type": "code",
   "execution_count": 39,
   "metadata": {},
   "outputs": [
    {
     "data": {
      "text/plain": [
       "1609.2103965794283"
      ]
     },
     "execution_count": 39,
     "metadata": {},
     "output_type": "execute_result"
    }
   ],
   "source": [
    "mse"
   ]
  },
  {
   "cell_type": "code",
   "execution_count": 40,
   "metadata": {},
   "outputs": [],
   "source": [
    "rmse = mse ** 0.5"
   ]
  },
  {
   "cell_type": "code",
   "execution_count": 41,
   "metadata": {},
   "outputs": [
    {
     "data": {
      "text/plain": [
       "40.11496474608233"
      ]
     },
     "execution_count": 41,
     "metadata": {},
     "output_type": "execute_result"
    }
   ],
   "source": [
    "rmse"
   ]
  },
  {
   "cell_type": "markdown",
   "metadata": {},
   "source": [
    "Считаю коэффициент детерминации (мера r2):"
   ]
  },
  {
   "cell_type": "code",
   "execution_count": 42,
   "metadata": {},
   "outputs": [
    {
     "data": {
      "text/plain": [
       "0.19926904606331697"
      ]
     },
     "execution_count": 42,
     "metadata": {},
     "output_type": "execute_result"
    }
   ],
   "source": [
    "r2_reg2 = r2_score(target_valid_2, predicted_valid_2)\n",
    "r2_reg2"
   ]
  },
  {
   "cell_type": "markdown",
   "metadata": {},
   "source": [
    "Считаю коэффициент mae:"
   ]
  },
  {
   "cell_type": "code",
   "execution_count": 43,
   "metadata": {},
   "outputs": [
    {
     "data": {
      "text/plain": [
       "32.932770507865364"
      ]
     },
     "execution_count": 43,
     "metadata": {},
     "output_type": "execute_result"
    }
   ],
   "source": [
    "mae_reg2 = mean_absolute_error(target_valid_2, predicted_valid_2)\n",
    "mae_reg2"
   ]
  },
  {
   "cell_type": "markdown",
   "metadata": {},
   "source": [
    "**Краткий вывод:**\n",
    "\n",
    "Как отмечено выше, в данном разделе были расчитаны предиктивные модели для прогнозирования запасов по регионам 0, 1 и 2. Для построения модели использовался алгоритм линейной регрессии LinearRegression() - исходя из постановки задачи, после чего был рассчитан средний объем запасов по скважинам. Наибольшие средние запасы нефти на скважину получены в регионе 2 (95 тысяч баррелей), вторым по ровню средних запасов идет регион 0 (92 тысяч баррелей), а третьим регион 1 (39 тысяч баррелей).\n",
    "\n",
    "При этом оценка моделей с помощью метрик регрессии показала, что наилучшие характеристики rmse, r2 и mae у региона 1 (мера r2 составила почти 1х(!), а mae лишь 0,71х)."
   ]
  },
  {
   "cell_type": "markdown",
   "metadata": {},
   "source": [
    "## Подготовка к расчёту прибыли"
   ]
  },
  {
   "cell_type": "markdown",
   "metadata": {},
   "source": [
    "### Нахождение точки безубыточности скважины по объему запасов"
   ]
  },
  {
   "cell_type": "markdown",
   "metadata": {},
   "source": [
    "В данном разделе произведем расчет точки безубыточности по объему сырья для разработки новой скважины, далее сравним полученный объём сырья со средним запасом в каждом регионе.\n",
    "\n",
    "Создаю ниже следюущие константы:\n",
    "\n",
    "**NUMBER_OF_WELLS** - количество скважин (так как в каждом регионе будут отобраны только 200 скважин для разаботки, переменной будет присвоено значение 200);\n",
    "\n",
    "**COST_PER_REGION** - бюджет на разработку скважин в регионе (согласно поставновки задачи он составляет 10 млрд. рос. рублей);\n",
    "\n",
    "**COST_PER_WELL** - бюджет на разработку одной скважины (найдем ее, исходя из значений переменных выше);\n",
    "\n",
    "**PRICE_PER_UNIT** - доход с единцы продукции (450 рос. рублей с 1 барелля, соответственно, 450 тыс. рос. рублей - так как единца измерений целевого признака тысяча бареллей).\n"
   ]
  },
  {
   "cell_type": "code",
   "execution_count": 44,
   "metadata": {},
   "outputs": [],
   "source": [
    "NUMBER_OF_WELLS = 200\n",
    "COST_PER_REGION = 10000000000\n",
    "PRICE_PER_UNIT = 450000"
   ]
  },
  {
   "cell_type": "markdown",
   "metadata": {},
   "source": [
    "Значения констанам NUMBER_OF_WELLS, COST_PER_REGION и PRICE_PER_UNIT присвоены, рассчитаем переменную COST_PER_WELL:"
   ]
  },
  {
   "cell_type": "code",
   "execution_count": 45,
   "metadata": {},
   "outputs": [
    {
     "data": {
      "text/plain": [
       "50000000.0"
      ]
     },
     "execution_count": 45,
     "metadata": {},
     "output_type": "execute_result"
    }
   ],
   "source": [
    "COST_PER_WELL = COST_PER_REGION / NUMBER_OF_WELLS\n",
    "COST_PER_WELL"
   ]
  },
  {
   "cell_type": "markdown",
   "metadata": {},
   "source": [
    "Соответственно, затраты на 1 скважину составляют 50 млн. рос. рублей. Далее рассчитаем каков должен быть объем скважины для того, чтобы по прибыль по ней была на уровне точки безубыточности (значение сохраню в константе **BREAK_EVEN_VOLUME**, для удобства округлим его до 3 знаков после запятой):"
   ]
  },
  {
   "cell_type": "code",
   "execution_count": 46,
   "metadata": {},
   "outputs": [
    {
     "data": {
      "text/plain": [
       "111.111"
      ]
     },
     "execution_count": 46,
     "metadata": {},
     "output_type": "execute_result"
    }
   ],
   "source": [
    "BREAK_EVEN_VOLUME = round(COST_PER_WELL / PRICE_PER_UNIT, 3)\n",
    "BREAK_EVEN_VOLUME"
   ]
  },
  {
   "cell_type": "markdown",
   "metadata": {},
   "source": [
    "**Краткий вывод:**\n",
    "\n",
    "Приведенный выше расчет показывает, что объем 1 скажины для достижения точки безубыточности должен быть не менее 111.111 единиц продукции (она измеряется в тысячах бареллей). Средний объем запасов в каждом регионе меньше уровня точки безубыточности для 1 скважины."
   ]
  },
  {
   "cell_type": "markdown",
   "metadata": {},
   "source": [
    "### Написание функции для расчета прибыли"
   ]
  },
  {
   "cell_type": "markdown",
   "metadata": {},
   "source": [
    "Так как объем запасов скважины для добычи на уровне точки безубыточности рассчитан, далее создаем функцию **profit_calculation** для расчёта прибыли по выбранным скважинам и предсказаниям модели. Функция производит расчет следующим образом - в виде аргументов в нее подаются результат предсказаний и целевые признаки. Далее данные предсказаний сортируются по убыванию (метод .sort_value()) и сохраняются в переменную predictions_sorted. После в переменной selected сохраняются целевые признаки первых 200 строк из набора target (для их поиска используются соответствующие индексы из набора predictions_sorted).\n",
    "\n",
    "Далее в переменной profit нахожу выручку от предлагаемых скважин (для этого в начале складываю объем скважин через метод .sum(), потом умножаю его на константу цены PRICE_PER_UNIT) и вычитаю из нее стоимость разработки скважин в регионе (константа COST_PER_REGION). Именно значение переменной profit возвращает функция:"
   ]
  },
  {
   "cell_type": "code",
   "execution_count": 47,
   "metadata": {},
   "outputs": [],
   "source": [
    "def profit_calculation(predictions, target):\n",
    "    predictions_sorted = predictions.sort_values(ascending = False)\n",
    "    selected = target[predictions_sorted.index][:200]\n",
    "    profit = selected.sum() * PRICE_PER_UNIT - COST_PER_REGION\n",
    "    return profit"
   ]
  },
  {
   "cell_type": "markdown",
   "metadata": {},
   "source": [
    "**Краткий вывод:**\n",
    "\n",
    "Функция для расчет прибыли создана, в следующем разделе произведем с ее помощью расчет рисков и прибыли для каждого региона. "
   ]
  },
  {
   "cell_type": "markdown",
   "metadata": {},
   "source": [
    "## Расчёт прибыли и рисков "
   ]
  },
  {
   "cell_type": "markdown",
   "metadata": {},
   "source": [
    "**Регион 0:**"
   ]
  },
  {
   "cell_type": "markdown",
   "metadata": {},
   "source": [
    "Находим распределение прибыли в регионе 0 с помощью техники Bootstrap с 1000 выборок. В начале создал переменные features0 и target0, куда сохранил все признаки и целевые признаки для региона 0.\n",
    "\n",
    "Далее в переменной predicted_0 сохранил все прогнозируемые значения по признакам (модель для региона 0 уже обучил ранее - model_0).\n",
    "\n",
    "Далее через цикл с оператором перебора range (в котором указано значение 1000 - количество выборок) создал список прибылей для получившихся выборок (использовал ранее созданную функцию profit_calculation, куда в качестве аргументов передавал выборки по 500 элементов с прогнозами и целевыми признаками из переменных target0 и predicted_0). Для получения выборок использовал метод .sample, где в качестве n передал значение 500 (размер выборки), в качестве параметра random_state передал переменную state (для нее создал объект random_state из модуля numpy.random), в качестве replace указал True (чтобы обеспечить выбор элементов с возвращением).\n",
    "\n",
    "Значение прибыли по каждой выборке добавляется в список values. Далее в переменную avr_profit0 считаю среднее значение из values по региону 0:"
   ]
  },
  {
   "cell_type": "code",
   "execution_count": 48,
   "metadata": {},
   "outputs": [],
   "source": [
    "features_0 = region0.drop(['id', 'product'], axis = 1)\n",
    "target0 = region0['product']\n",
    "predicted_0 = model_0.predict(features_0)\n",
    "predicted_0 = pd.Series(predicted_0)"
   ]
  },
  {
   "cell_type": "code",
   "execution_count": 49,
   "metadata": {},
   "outputs": [],
   "source": [
    "state = np.random.RandomState(12345)"
   ]
  },
  {
   "cell_type": "code",
   "execution_count": 50,
   "metadata": {},
   "outputs": [
    {
     "data": {
      "text/plain": [
       "431285313.034662"
      ]
     },
     "execution_count": 50,
     "metadata": {},
     "output_type": "execute_result"
    }
   ],
   "source": [
    "values = []\n",
    "for i in range(1000):\n",
    "    target_subsample = target0.sample(n = 500, replace=True, random_state=state)\n",
    "    probs_subsample = predicted_0[target_subsample.index]\n",
    "    values.append(profit_calculation(probs_subsample, target_subsample))\n",
    "\n",
    "values = pd.Series(values)\n",
    "avr_profit0 = values.mean()\n",
    "avr_profit0"
   ]
  },
  {
   "cell_type": "markdown",
   "metadata": {},
   "source": [
    "Средняя прибыль для региона 0 составила 430 млн. рос. рублей. Ниже считаю доверительный интервал с помощью метода .quantile(), примененного к values:"
   ]
  },
  {
   "cell_type": "code",
   "execution_count": 51,
   "metadata": {},
   "outputs": [
    {
     "name": "stdout",
     "output_type": "stream",
     "text": [
      "2.5% квантиль -60694408.75\n",
      "97.5% квантиль  984211546.3\n"
     ]
    }
   ],
   "source": [
    "lower = values.quantile(0.025)\n",
    "upper = values.quantile(0.975)\n",
    "print('2.5% квантиль {: .10}'.format(lower))\n",
    "print('97.5% квантиль {: .10}'.format(upper))"
   ]
  },
  {
   "cell_type": "markdown",
   "metadata": {},
   "source": [
    "Диапазон доверительного интервала составил от '-62' млн. рос. рублей до 984 млн. рос. рублей. Далее считаем вероятность убытка через метод mean(), примененный к формуле (values < 0):"
   ]
  },
  {
   "cell_type": "code",
   "execution_count": 52,
   "metadata": {},
   "outputs": [
    {
     "data": {
      "text/plain": [
       "0.05"
      ]
     },
     "execution_count": 52,
     "metadata": {},
     "output_type": "execute_result"
    }
   ],
   "source": [
    "risks0 = (values < 0).mean()\n",
    "risks0"
   ]
  },
  {
   "cell_type": "markdown",
   "metadata": {},
   "source": [
    "Вероятность убытка составила 5 %."
   ]
  },
  {
   "cell_type": "markdown",
   "metadata": {},
   "source": [
    "**Регион 1:**"
   ]
  },
  {
   "cell_type": "markdown",
   "metadata": {},
   "source": [
    "Считаем значение прибыли для региона 1:"
   ]
  },
  {
   "cell_type": "code",
   "execution_count": 53,
   "metadata": {},
   "outputs": [],
   "source": [
    "features_1 = region1.drop(['id', 'product'], axis = 1)\n",
    "target1 = region1['product']\n",
    "predicted_1 = model_1.predict(features_1)\n",
    "predicted_1 = pd.Series(predicted_1)"
   ]
  },
  {
   "cell_type": "code",
   "execution_count": 54,
   "metadata": {},
   "outputs": [
    {
     "data": {
      "text/plain": [
       "450070252.01413304"
      ]
     },
     "execution_count": 54,
     "metadata": {},
     "output_type": "execute_result"
    }
   ],
   "source": [
    "values = []\n",
    "for i in range(1000):\n",
    "    target_subsample = target1.sample(n = 500, replace=True, random_state=state)\n",
    "    probs_subsample = predicted_1[target_subsample.index]\n",
    "    values.append(profit_calculation(probs_subsample, target_subsample))\n",
    "\n",
    "values = pd.Series(values)\n",
    "avr_profit1 = values.mean()\n",
    "avr_profit1"
   ]
  },
  {
   "cell_type": "markdown",
   "metadata": {},
   "source": [
    "Средняя прибыль для региона 1 составила 450 млн. рос. рублей. Ниже считаю доверительный интервал:"
   ]
  },
  {
   "cell_type": "code",
   "execution_count": 55,
   "metadata": {},
   "outputs": [
    {
     "name": "stdout",
     "output_type": "stream",
     "text": [
      "2.5% квантиль  44596630.49\n",
      "97.5% квантиль  830796301.5\n"
     ]
    }
   ],
   "source": [
    "lower = values.quantile(0.025)\n",
    "upper = values.quantile(0.975)\n",
    "print('2.5% квантиль {: .10}'.format(lower))\n",
    "print('97.5% квантиль {: .10}'.format(upper))"
   ]
  },
  {
   "cell_type": "markdown",
   "metadata": {},
   "source": [
    "Диапазон доверительного интервала составил от 45 млн. рос. рублей до 830 млн. рос. рублей. Далее считаем вероятность убытка через метод mean(), примененный к формуле (values < 0):"
   ]
  },
  {
   "cell_type": "code",
   "execution_count": 56,
   "metadata": {},
   "outputs": [
    {
     "data": {
      "text/plain": [
       "0.01"
      ]
     },
     "execution_count": 56,
     "metadata": {},
     "output_type": "execute_result"
    }
   ],
   "source": [
    "risks1 = (values < 0).mean()\n",
    "risks1"
   ]
  },
  {
   "cell_type": "markdown",
   "metadata": {},
   "source": [
    "Вероятность убытка составила 1 %."
   ]
  },
  {
   "cell_type": "markdown",
   "metadata": {},
   "source": [
    "**Регион 2:**"
   ]
  },
  {
   "cell_type": "markdown",
   "metadata": {},
   "source": [
    "Считаем значение прибыли для региона 2:"
   ]
  },
  {
   "cell_type": "code",
   "execution_count": 57,
   "metadata": {},
   "outputs": [],
   "source": [
    "features_2 = region2.drop(['id', 'product'], axis = 1)\n",
    "target2 = region2['product']\n",
    "predicted_2 = model_2.predict(features_2)\n",
    "predicted_2 = pd.Series(predicted_2)"
   ]
  },
  {
   "cell_type": "code",
   "execution_count": 58,
   "metadata": {},
   "outputs": [
    {
     "data": {
      "text/plain": [
       "392181217.03806776"
      ]
     },
     "execution_count": 58,
     "metadata": {},
     "output_type": "execute_result"
    }
   ],
   "source": [
    "values = []\n",
    "for i in range(1000):\n",
    "    target_subsample = target2.sample(n = 500, replace=True, random_state=state)\n",
    "    probs_subsample = predicted_2[target_subsample.index]\n",
    "    values.append(profit_calculation(probs_subsample, target_subsample))\n",
    "\n",
    "values = pd.Series(values)\n",
    "avr_profit2 = values.mean()\n",
    "avr_profit2"
   ]
  },
  {
   "cell_type": "markdown",
   "metadata": {},
   "source": [
    "Средняя прибыль для региона 2 составила 392 млн. рос. рублей. Ниже считаю доверительный интервал:"
   ]
  },
  {
   "cell_type": "code",
   "execution_count": 59,
   "metadata": {},
   "outputs": [
    {
     "name": "stdout",
     "output_type": "stream",
     "text": [
      "2.5% квантиль -145492960.1\n",
      "97.5% квантиль  876907852.9\n"
     ]
    }
   ],
   "source": [
    "lower = values.quantile(0.025)\n",
    "upper = values.quantile(0.975)\n",
    "print('2.5% квантиль {: .10}'.format(lower))\n",
    "print('97.5% квантиль {: .10}'.format(upper))"
   ]
  },
  {
   "cell_type": "markdown",
   "metadata": {},
   "source": [
    "Диапазон доверительного интервала составил от '-138' млн. рос. рублей до 884 млн. рос. рублей. Далее считаем вероятность убытка через метод mean(), примененный к формуле (values < 0):"
   ]
  },
  {
   "cell_type": "code",
   "execution_count": 60,
   "metadata": {},
   "outputs": [
    {
     "data": {
      "text/plain": [
       "0.087"
      ]
     },
     "execution_count": 60,
     "metadata": {},
     "output_type": "execute_result"
    }
   ],
   "source": [
    "risks2 = (values < 0).mean()\n",
    "risks2"
   ]
  },
  {
   "cell_type": "markdown",
   "metadata": {},
   "source": [
    "Вероятность убытка составила 8,5 %."
   ]
  },
  {
   "cell_type": "markdown",
   "metadata": {},
   "source": [
    "Ниже приведен DataFrame common_df со сводной информацией по прибыли и рисками в разбивке регионов:"
   ]
  },
  {
   "cell_type": "code",
   "execution_count": 61,
   "metadata": {},
   "outputs": [],
   "source": [
    "common_df = pd.DataFrame({'name': ['region_0', 'region_1', 'region_2'], 'profit, ths rub' : [avr_profit0 / 1000, avr_profit1  / 1000, avr_profit2  / 1000],\n",
    "                          'risk':[risks0, risks1, risks2]})"
   ]
  },
  {
   "cell_type": "code",
   "execution_count": 62,
   "metadata": {},
   "outputs": [
    {
     "data": {
      "text/html": [
       "<div>\n",
       "<style scoped>\n",
       "    .dataframe tbody tr th:only-of-type {\n",
       "        vertical-align: middle;\n",
       "    }\n",
       "\n",
       "    .dataframe tbody tr th {\n",
       "        vertical-align: top;\n",
       "    }\n",
       "\n",
       "    .dataframe thead th {\n",
       "        text-align: right;\n",
       "    }\n",
       "</style>\n",
       "<table border=\"1\" class=\"dataframe\">\n",
       "  <thead>\n",
       "    <tr style=\"text-align: right;\">\n",
       "      <th></th>\n",
       "      <th>name</th>\n",
       "      <th>profit, ths rub</th>\n",
       "      <th>risk</th>\n",
       "    </tr>\n",
       "  </thead>\n",
       "  <tbody>\n",
       "    <tr>\n",
       "      <th>0</th>\n",
       "      <td>region_0</td>\n",
       "      <td>431285.313035</td>\n",
       "      <td>0.050</td>\n",
       "    </tr>\n",
       "    <tr>\n",
       "      <th>1</th>\n",
       "      <td>region_1</td>\n",
       "      <td>450070.252014</td>\n",
       "      <td>0.010</td>\n",
       "    </tr>\n",
       "    <tr>\n",
       "      <th>2</th>\n",
       "      <td>region_2</td>\n",
       "      <td>392181.217038</td>\n",
       "      <td>0.087</td>\n",
       "    </tr>\n",
       "  </tbody>\n",
       "</table>\n",
       "</div>"
      ],
      "text/plain": [
       "       name  profit, ths rub   risk\n",
       "0  region_0    431285.313035  0.050\n",
       "1  region_1    450070.252014  0.010\n",
       "2  region_2    392181.217038  0.087"
      ]
     },
     "execution_count": 62,
     "metadata": {},
     "output_type": "execute_result"
    }
   ],
   "source": [
    "common_df"
   ]
  },
  {
   "cell_type": "markdown",
   "metadata": {},
   "source": [
    "**Краткий вывод:**\n",
    "\n",
    "Наиболшее значение прибыли демонстрирует **Регион 1** (450 млн. рос. сублей против 431 млн. рос. рублей и 392 млн. рос. рублей у прочих регионов), необходимо также отметить, что у данного региона наименьший риск убытков (1 % против 5% и 8,5% у прочих регионов). Соответственно, целесообразно выбрать **Регион 1** для разработки скважин."
   ]
  },
  {
   "cell_type": "markdown",
   "metadata": {},
   "source": [
    "## Чек-лист готовности проекта"
   ]
  },
  {
   "cell_type": "markdown",
   "metadata": {},
   "source": [
    "Поставьте 'x' в выполненных пунктах. Далее нажмите Shift+Enter."
   ]
  },
  {
   "cell_type": "markdown",
   "metadata": {},
   "source": [
    "- [x]  Jupyter Notebook открыт\n",
    "- [x]  Весь код выполняется без ошибок\n",
    "- [x]  Ячейки с кодом расположены в порядке исполнения\n",
    "- [x]  Выполнен шаг 1: данные подготовлены\n",
    "- [x]  Выполнен шаг 2: модели обучены и проверены\n",
    "    - [x]  Данные корректно разбиты на обучающую и валидационную выборки\n",
    "    - [x]  Модели обучены, предсказания сделаны\n",
    "    - [x]  Предсказания и правильные ответы на валидационной выборке сохранены\n",
    "    - [x]  На экране напечатаны результаты\n",
    "    - [x]  Сделаны выводы\n",
    "- [x]  Выполнен шаг 3: проведена подготовка к расчёту прибыли\n",
    "    - [x]  Для всех ключевых значений созданы константы Python\n",
    "    - [x]  Посчитано минимальное среднее количество продукта в месторождениях региона, достаточное для разработки\n",
    "    - [x]  По предыдущему пункту сделаны выводы\n",
    "    - [x]  Написана функция расчёта прибыли\n",
    "- [x]  Выполнен шаг 4: посчитаны риски и прибыль\n",
    "    - [x]  Проведена процедура *Bootstrap*\n",
    "    - [x]  Все параметры бутстрепа соответствуют условию\n",
    "    - [x]  Найдены все нужные величины\n",
    "    - [x]  Предложен регион для разработки месторождения\n",
    "    - [x]  Выбор региона обоснован"
   ]
  },
  {
   "cell_type": "markdown",
   "metadata": {},
   "source": [
    "# Общий вывод\n",
    "\n",
    "В ходе выполнения самостоятельного проекта для компании «ГлавРосГосНефть» была построена модель машинного обучения, которая определила регион, где добыча принесёт наибольшую прибыль.\n",
    "\n",
    "Для потроения модели были решены следующие задачи:\n",
    "1. Были обучены модели для каждого из трех регионов (использован алгоритм LinearRegression);\n",
    "2. Каждая модель была оценена с помощью метрик регрессии;\n",
    "3. Был произведен расчет точки безубыточности по объему для одной скважины;\n",
    "4. Была написана функция для расчета прибыли;\n",
    "5. С помощью техники Bootstrap была проанализирована возможная прибыль и риски для каждого региона.\n",
    "\n",
    "По результатам проведения самостоятельного проекта компании «ГлавРосГосНефть» рекомендован **Регион 1** для разработки скважин (он демонстрирует наиболшее значение прибыли и наименьший риск убытков)."
   ]
  }
 ],
 "metadata": {
  "ExecuteTimeLog": [
   {
    "duration": 1513,
    "start_time": "2021-09-21T12:38:31.075Z"
   },
   {
    "duration": 1017,
    "start_time": "2021-09-21T12:38:32.590Z"
   },
   {
    "duration": 15,
    "start_time": "2021-09-21T12:38:33.610Z"
   },
   {
    "duration": 1233,
    "start_time": "2021-09-21T12:38:33.628Z"
   },
   {
    "duration": 13,
    "start_time": "2021-09-21T12:38:34.864Z"
   },
   {
    "duration": 2766,
    "start_time": "2021-09-21T12:38:34.879Z"
   },
   {
    "duration": 3,
    "start_time": "2021-09-21T12:38:37.648Z"
   },
   {
    "duration": 26,
    "start_time": "2021-09-21T12:38:37.654Z"
   },
   {
    "duration": 21,
    "start_time": "2021-09-21T12:38:37.682Z"
   },
   {
    "duration": 5,
    "start_time": "2021-09-21T12:39:08.046Z"
   },
   {
    "duration": 155,
    "start_time": "2021-09-21T12:39:08.058Z"
   },
   {
    "duration": 16,
    "start_time": "2021-09-21T12:39:08.216Z"
   },
   {
    "duration": 167,
    "start_time": "2021-09-21T12:39:08.236Z"
   },
   {
    "duration": 15,
    "start_time": "2021-09-21T12:39:08.406Z"
   },
   {
    "duration": 164,
    "start_time": "2021-09-21T12:39:08.424Z"
   },
   {
    "duration": 4,
    "start_time": "2021-09-21T12:39:08.590Z"
   },
   {
    "duration": 501,
    "start_time": "2021-09-21T12:39:08.596Z"
   },
   {
    "duration": 275,
    "start_time": "2021-09-21T12:39:08.825Z"
   },
   {
    "duration": 303,
    "start_time": "2021-09-21T16:14:22.138Z"
   },
   {
    "duration": 1468,
    "start_time": "2021-09-21T16:14:26.165Z"
   },
   {
    "duration": 125,
    "start_time": "2021-09-21T16:14:27.635Z"
   },
   {
    "duration": 11,
    "start_time": "2021-09-21T16:14:27.762Z"
   },
   {
    "duration": 124,
    "start_time": "2021-09-21T16:14:27.776Z"
   },
   {
    "duration": 10,
    "start_time": "2021-09-21T16:14:27.902Z"
   },
   {
    "duration": 129,
    "start_time": "2021-09-21T16:14:27.914Z"
   },
   {
    "duration": 2,
    "start_time": "2021-09-21T16:14:28.045Z"
   },
   {
    "duration": 13,
    "start_time": "2021-09-21T16:14:28.050Z"
   },
   {
    "duration": 14,
    "start_time": "2021-09-21T16:14:28.064Z"
   },
   {
    "duration": 4,
    "start_time": "2021-09-21T16:14:53.775Z"
   },
   {
    "duration": 147,
    "start_time": "2021-09-21T16:14:53.781Z"
   },
   {
    "duration": 24,
    "start_time": "2021-09-21T16:14:53.931Z"
   },
   {
    "duration": 142,
    "start_time": "2021-09-21T16:14:53.957Z"
   },
   {
    "duration": 14,
    "start_time": "2021-09-21T16:14:54.101Z"
   },
   {
    "duration": 149,
    "start_time": "2021-09-21T16:14:54.117Z"
   },
   {
    "duration": 16,
    "start_time": "2021-09-21T16:14:54.267Z"
   },
   {
    "duration": 14,
    "start_time": "2021-09-21T16:14:54.284Z"
   },
   {
    "duration": 1240,
    "start_time": "2021-09-21T16:15:24.910Z"
   },
   {
    "duration": 183,
    "start_time": "2021-09-21T16:15:26.153Z"
   },
   {
    "duration": 16,
    "start_time": "2021-09-21T16:15:26.339Z"
   },
   {
    "duration": 126,
    "start_time": "2021-09-21T16:15:26.357Z"
   },
   {
    "duration": 129,
    "start_time": "2021-09-21T16:15:26.485Z"
   },
   {
    "duration": 17,
    "start_time": "2021-09-21T16:15:26.615Z"
   },
   {
    "duration": 19,
    "start_time": "2021-09-21T16:15:26.634Z"
   },
   {
    "duration": 23,
    "start_time": "2021-09-21T16:15:26.656Z"
   },
   {
    "duration": 85,
    "start_time": "2021-09-21T16:19:52.937Z"
   },
   {
    "duration": 5,
    "start_time": "2021-09-21T16:19:57.570Z"
   },
   {
    "duration": 4,
    "start_time": "2021-09-21T16:20:40.570Z"
   },
   {
    "duration": 4,
    "start_time": "2021-09-21T16:20:46.430Z"
   },
   {
    "duration": 4,
    "start_time": "2021-09-21T16:20:55.329Z"
   },
   {
    "duration": 190,
    "start_time": "2021-09-21T16:23:25.589Z"
   },
   {
    "duration": 133,
    "start_time": "2021-09-21T16:28:36.609Z"
   },
   {
    "duration": 144,
    "start_time": "2021-09-21T16:28:41.630Z"
   },
   {
    "duration": 136,
    "start_time": "2021-09-21T16:28:46.869Z"
   },
   {
    "duration": 140,
    "start_time": "2021-09-21T16:28:51.509Z"
   },
   {
    "duration": 1125,
    "start_time": "2021-09-21T17:39:59.311Z"
   },
   {
    "duration": 134,
    "start_time": "2021-09-21T17:40:00.438Z"
   },
   {
    "duration": 130,
    "start_time": "2021-09-21T17:40:00.574Z"
   },
   {
    "duration": 131,
    "start_time": "2021-09-21T17:40:00.706Z"
   },
   {
    "duration": 7,
    "start_time": "2021-09-21T17:40:00.839Z"
   },
   {
    "duration": 19,
    "start_time": "2021-09-21T17:40:00.849Z"
   },
   {
    "duration": 26,
    "start_time": "2021-09-21T17:40:00.870Z"
   },
   {
    "duration": 18,
    "start_time": "2021-09-21T17:40:00.898Z"
   },
   {
    "duration": 12,
    "start_time": "2021-09-21T17:40:00.918Z"
   },
   {
    "duration": 16,
    "start_time": "2021-09-21T17:40:00.931Z"
   },
   {
    "duration": 522,
    "start_time": "2021-09-21T17:40:00.949Z"
   },
   {
    "duration": 3,
    "start_time": "2021-09-21T17:41:20.192Z"
   },
   {
    "duration": 208,
    "start_time": "2021-09-21T17:41:20.197Z"
   },
   {
    "duration": 122,
    "start_time": "2021-09-21T17:41:20.407Z"
   },
   {
    "duration": 131,
    "start_time": "2021-09-21T17:41:20.531Z"
   },
   {
    "duration": 13,
    "start_time": "2021-09-21T17:41:20.664Z"
   },
   {
    "duration": 41,
    "start_time": "2021-09-21T17:41:20.679Z"
   },
   {
    "duration": 32,
    "start_time": "2021-09-21T17:41:20.722Z"
   },
   {
    "duration": 36,
    "start_time": "2021-09-21T17:41:20.756Z"
   },
   {
    "duration": 11,
    "start_time": "2021-09-21T17:41:20.795Z"
   },
   {
    "duration": 64,
    "start_time": "2021-09-21T17:41:20.808Z"
   },
   {
    "duration": 3,
    "start_time": "2021-09-21T17:41:20.874Z"
   },
   {
    "duration": 5,
    "start_time": "2021-09-21T17:41:20.879Z"
   },
   {
    "duration": 15,
    "start_time": "2021-09-21T17:41:20.885Z"
   },
   {
    "duration": 277,
    "start_time": "2021-09-21T17:41:20.901Z"
   },
   {
    "duration": 1133,
    "start_time": "2021-09-21T17:42:33.454Z"
   },
   {
    "duration": 124,
    "start_time": "2021-09-21T17:42:34.589Z"
   },
   {
    "duration": 121,
    "start_time": "2021-09-21T17:42:34.715Z"
   },
   {
    "duration": 119,
    "start_time": "2021-09-21T17:42:34.838Z"
   },
   {
    "duration": 10,
    "start_time": "2021-09-21T17:42:34.959Z"
   },
   {
    "duration": 43,
    "start_time": "2021-09-21T17:42:34.971Z"
   },
   {
    "duration": 36,
    "start_time": "2021-09-21T17:42:35.015Z"
   },
   {
    "duration": 39,
    "start_time": "2021-09-21T17:42:35.053Z"
   },
   {
    "duration": 10,
    "start_time": "2021-09-21T17:42:35.094Z"
   },
   {
    "duration": 66,
    "start_time": "2021-09-21T17:42:35.106Z"
   },
   {
    "duration": 1524,
    "start_time": "2021-09-23T04:57:39.239Z"
   },
   {
    "duration": 171,
    "start_time": "2021-09-23T04:57:40.765Z"
   },
   {
    "duration": 165,
    "start_time": "2021-09-23T04:57:40.940Z"
   },
   {
    "duration": 167,
    "start_time": "2021-09-23T04:57:41.108Z"
   },
   {
    "duration": 19,
    "start_time": "2021-09-23T04:57:41.278Z"
   },
   {
    "duration": 79,
    "start_time": "2021-09-23T04:57:41.315Z"
   },
   {
    "duration": 34,
    "start_time": "2021-09-23T04:57:41.397Z"
   },
   {
    "duration": 90,
    "start_time": "2021-09-23T04:57:41.436Z"
   },
   {
    "duration": 14,
    "start_time": "2021-09-23T04:57:41.528Z"
   },
   {
    "duration": 96,
    "start_time": "2021-09-23T04:57:41.545Z"
   },
   {
    "duration": 590,
    "start_time": "2021-09-23T05:43:24.478Z"
   },
   {
    "duration": 1578,
    "start_time": "2021-09-23T05:43:32.381Z"
   },
   {
    "duration": 168,
    "start_time": "2021-09-23T05:43:33.962Z"
   },
   {
    "duration": 158,
    "start_time": "2021-09-23T05:43:34.134Z"
   },
   {
    "duration": 161,
    "start_time": "2021-09-23T05:43:34.295Z"
   },
   {
    "duration": 15,
    "start_time": "2021-09-23T05:43:34.459Z"
   },
   {
    "duration": 94,
    "start_time": "2021-09-23T05:43:34.476Z"
   },
   {
    "duration": 14,
    "start_time": "2021-09-23T05:43:34.573Z"
   },
   {
    "duration": 87,
    "start_time": "2021-09-23T05:43:34.589Z"
   },
   {
    "duration": 37,
    "start_time": "2021-09-23T05:43:34.679Z"
   },
   {
    "duration": 71,
    "start_time": "2021-09-23T05:43:34.719Z"
   },
   {
    "duration": 532,
    "start_time": "2021-09-23T05:43:34.793Z"
   },
   {
    "duration": 38,
    "start_time": "2021-09-23T05:43:42.664Z"
   },
   {
    "duration": 55,
    "start_time": "2021-09-23T05:44:19.476Z"
   },
   {
    "duration": 57,
    "start_time": "2021-09-23T05:44:28.810Z"
   },
   {
    "duration": 76,
    "start_time": "2021-09-23T05:48:25.024Z"
   },
   {
    "duration": 36,
    "start_time": "2021-09-23T05:50:25.842Z"
   },
   {
    "duration": 374,
    "start_time": "2021-09-23T05:53:50.555Z"
   },
   {
    "duration": 5,
    "start_time": "2021-09-23T05:53:55.759Z"
   },
   {
    "duration": 5,
    "start_time": "2021-09-23T05:54:03.917Z"
   },
   {
    "duration": 4,
    "start_time": "2021-09-23T05:54:18.850Z"
   },
   {
    "duration": 5,
    "start_time": "2021-09-23T05:54:34.545Z"
   },
   {
    "duration": 6,
    "start_time": "2021-09-23T05:56:22.846Z"
   },
   {
    "duration": 6,
    "start_time": "2021-09-23T05:56:54.154Z"
   },
   {
    "duration": 408,
    "start_time": "2021-09-23T06:05:47.403Z"
   },
   {
    "duration": 56,
    "start_time": "2021-09-23T06:06:07.821Z"
   },
   {
    "duration": 6,
    "start_time": "2021-09-23T06:08:07.765Z"
   },
   {
    "duration": 3,
    "start_time": "2021-09-23T06:08:53.071Z"
   },
   {
    "duration": 14,
    "start_time": "2021-09-23T06:09:24.861Z"
   },
   {
    "duration": 13,
    "start_time": "2021-09-23T06:09:54.684Z"
   },
   {
    "duration": 13,
    "start_time": "2021-09-23T06:10:07.516Z"
   },
   {
    "duration": 13,
    "start_time": "2021-09-23T06:10:19.148Z"
   },
   {
    "duration": 1275,
    "start_time": "2021-09-24T16:30:42.581Z"
   },
   {
    "duration": 154,
    "start_time": "2021-09-24T16:30:43.859Z"
   },
   {
    "duration": 153,
    "start_time": "2021-09-24T16:30:44.016Z"
   },
   {
    "duration": 160,
    "start_time": "2021-09-24T16:30:44.171Z"
   },
   {
    "duration": 22,
    "start_time": "2021-09-24T16:30:44.333Z"
   },
   {
    "duration": 74,
    "start_time": "2021-09-24T16:30:44.358Z"
   },
   {
    "duration": 30,
    "start_time": "2021-09-24T16:30:44.435Z"
   },
   {
    "duration": 14,
    "start_time": "2021-09-24T16:30:44.467Z"
   },
   {
    "duration": 81,
    "start_time": "2021-09-24T16:30:44.485Z"
   },
   {
    "duration": 12,
    "start_time": "2021-09-24T16:30:44.569Z"
   },
   {
    "duration": 18,
    "start_time": "2021-09-24T16:30:44.583Z"
   },
   {
    "duration": 98,
    "start_time": "2021-09-24T16:30:44.603Z"
   },
   {
    "duration": 12,
    "start_time": "2021-09-24T16:30:44.703Z"
   },
   {
    "duration": 72,
    "start_time": "2021-09-24T16:30:44.717Z"
   },
   {
    "duration": 43,
    "start_time": "2021-09-24T16:30:44.791Z"
   },
   {
    "duration": 21,
    "start_time": "2021-09-24T16:30:44.836Z"
   },
   {
    "duration": 8,
    "start_time": "2021-09-24T16:30:44.860Z"
   },
   {
    "duration": 5,
    "start_time": "2021-09-24T16:30:44.871Z"
   },
   {
    "duration": 38,
    "start_time": "2021-09-24T16:30:44.879Z"
   },
   {
    "duration": 36,
    "start_time": "2021-09-24T16:30:44.920Z"
   },
   {
    "duration": 2177,
    "start_time": "2021-09-24T16:40:17.999Z"
   },
   {
    "duration": 171,
    "start_time": "2021-09-24T16:40:20.179Z"
   },
   {
    "duration": 158,
    "start_time": "2021-09-24T16:40:20.353Z"
   },
   {
    "duration": 158,
    "start_time": "2021-09-24T16:40:20.514Z"
   },
   {
    "duration": 15,
    "start_time": "2021-09-24T16:40:20.675Z"
   },
   {
    "duration": 100,
    "start_time": "2021-09-24T16:40:20.692Z"
   },
   {
    "duration": 16,
    "start_time": "2021-09-24T16:40:20.795Z"
   },
   {
    "duration": 42,
    "start_time": "2021-09-24T16:40:20.814Z"
   },
   {
    "duration": 65,
    "start_time": "2021-09-24T16:40:20.862Z"
   },
   {
    "duration": 34,
    "start_time": "2021-09-24T16:40:20.931Z"
   },
   {
    "duration": 33,
    "start_time": "2021-09-24T16:40:20.967Z"
   },
   {
    "duration": 75,
    "start_time": "2021-09-24T16:40:21.002Z"
   },
   {
    "duration": 11,
    "start_time": "2021-09-24T16:40:21.079Z"
   },
   {
    "duration": 70,
    "start_time": "2021-09-24T16:40:21.092Z"
   },
   {
    "duration": 4,
    "start_time": "2021-09-24T16:40:21.164Z"
   },
   {
    "duration": 22,
    "start_time": "2021-09-24T16:40:21.170Z"
   },
   {
    "duration": 20,
    "start_time": "2021-09-24T16:40:21.194Z"
   },
   {
    "duration": 60,
    "start_time": "2021-09-24T16:40:21.216Z"
   },
   {
    "duration": 4,
    "start_time": "2021-09-24T16:40:21.279Z"
   },
   {
    "duration": 566,
    "start_time": "2021-09-24T16:40:21.285Z"
   },
   {
    "duration": 348,
    "start_time": "2021-09-24T16:40:47.680Z"
   },
   {
    "duration": 382,
    "start_time": "2021-09-24T16:41:03.390Z"
   },
   {
    "duration": 380,
    "start_time": "2021-09-24T16:41:37.903Z"
   },
   {
    "duration": 1347,
    "start_time": "2021-09-24T16:41:43.919Z"
   },
   {
    "duration": 167,
    "start_time": "2021-09-24T16:41:45.269Z"
   },
   {
    "duration": 153,
    "start_time": "2021-09-24T16:41:45.440Z"
   },
   {
    "duration": 155,
    "start_time": "2021-09-24T16:41:45.596Z"
   },
   {
    "duration": 18,
    "start_time": "2021-09-24T16:41:45.753Z"
   },
   {
    "duration": 102,
    "start_time": "2021-09-24T16:41:45.774Z"
   },
   {
    "duration": 15,
    "start_time": "2021-09-24T16:41:45.879Z"
   },
   {
    "duration": 21,
    "start_time": "2021-09-24T16:41:45.896Z"
   },
   {
    "duration": 82,
    "start_time": "2021-09-24T16:41:45.922Z"
   },
   {
    "duration": 12,
    "start_time": "2021-09-24T16:41:46.007Z"
   },
   {
    "duration": 36,
    "start_time": "2021-09-24T16:41:46.022Z"
   },
   {
    "duration": 65,
    "start_time": "2021-09-24T16:41:46.061Z"
   },
   {
    "duration": 29,
    "start_time": "2021-09-24T16:41:46.129Z"
   },
   {
    "duration": 52,
    "start_time": "2021-09-24T16:41:46.160Z"
   },
   {
    "duration": 4,
    "start_time": "2021-09-24T16:41:46.215Z"
   },
   {
    "duration": 36,
    "start_time": "2021-09-24T16:41:46.221Z"
   },
   {
    "duration": 6,
    "start_time": "2021-09-24T16:41:46.260Z"
   },
   {
    "duration": 35,
    "start_time": "2021-09-24T16:41:46.268Z"
   },
   {
    "duration": 5,
    "start_time": "2021-09-24T16:41:46.305Z"
   },
   {
    "duration": 545,
    "start_time": "2021-09-24T16:41:46.312Z"
   },
   {
    "duration": 1583,
    "start_time": "2021-09-24T16:43:23.812Z"
   },
   {
    "duration": 191,
    "start_time": "2021-09-24T16:43:25.397Z"
   },
   {
    "duration": 186,
    "start_time": "2021-09-24T16:43:25.591Z"
   },
   {
    "duration": 168,
    "start_time": "2021-09-24T16:43:25.780Z"
   },
   {
    "duration": 20,
    "start_time": "2021-09-24T16:43:25.951Z"
   },
   {
    "duration": 105,
    "start_time": "2021-09-24T16:43:25.974Z"
   },
   {
    "duration": 18,
    "start_time": "2021-09-24T16:43:26.081Z"
   },
   {
    "duration": 15,
    "start_time": "2021-09-24T16:43:26.102Z"
   },
   {
    "duration": 91,
    "start_time": "2021-09-24T16:43:26.121Z"
   },
   {
    "duration": 12,
    "start_time": "2021-09-24T16:43:26.215Z"
   },
   {
    "duration": 35,
    "start_time": "2021-09-24T16:43:26.230Z"
   },
   {
    "duration": 68,
    "start_time": "2021-09-24T16:43:26.267Z"
   },
   {
    "duration": 29,
    "start_time": "2021-09-24T16:43:26.337Z"
   },
   {
    "duration": 52,
    "start_time": "2021-09-24T16:43:26.368Z"
   },
   {
    "duration": 5,
    "start_time": "2021-09-24T16:43:26.423Z"
   },
   {
    "duration": 4,
    "start_time": "2021-09-24T16:43:26.457Z"
   },
   {
    "duration": 17,
    "start_time": "2021-09-24T16:43:26.464Z"
   },
   {
    "duration": 22,
    "start_time": "2021-09-24T16:43:26.484Z"
   },
   {
    "duration": 10,
    "start_time": "2021-09-24T16:43:26.508Z"
   },
   {
    "duration": 47,
    "start_time": "2021-09-24T16:43:26.520Z"
   },
   {
    "duration": 4,
    "start_time": "2021-09-24T16:45:09.240Z"
   },
   {
    "duration": 175,
    "start_time": "2021-09-24T16:45:09.247Z"
   },
   {
    "duration": 160,
    "start_time": "2021-09-24T16:45:09.426Z"
   },
   {
    "duration": 163,
    "start_time": "2021-09-24T16:45:09.589Z"
   },
   {
    "duration": 18,
    "start_time": "2021-09-24T16:45:09.756Z"
   },
   {
    "duration": 93,
    "start_time": "2021-09-24T16:45:09.777Z"
   },
   {
    "duration": 14,
    "start_time": "2021-09-24T16:45:09.873Z"
   },
   {
    "duration": 17,
    "start_time": "2021-09-24T16:45:09.890Z"
   },
   {
    "duration": 100,
    "start_time": "2021-09-24T16:45:09.913Z"
   },
   {
    "duration": 12,
    "start_time": "2021-09-24T16:45:10.017Z"
   },
   {
    "duration": 34,
    "start_time": "2021-09-24T16:45:10.031Z"
   },
   {
    "duration": 66,
    "start_time": "2021-09-24T16:45:10.068Z"
   },
   {
    "duration": 14,
    "start_time": "2021-09-24T16:45:10.157Z"
   },
   {
    "duration": 63,
    "start_time": "2021-09-24T16:45:10.173Z"
   },
   {
    "duration": 20,
    "start_time": "2021-09-24T16:45:10.238Z"
   },
   {
    "duration": 7,
    "start_time": "2021-09-24T16:45:10.261Z"
   },
   {
    "duration": 6,
    "start_time": "2021-09-24T16:45:10.270Z"
   },
   {
    "duration": 25,
    "start_time": "2021-09-24T16:45:10.278Z"
   },
   {
    "duration": 12,
    "start_time": "2021-09-24T16:45:10.306Z"
   },
   {
    "duration": 44,
    "start_time": "2021-09-24T16:45:10.320Z"
   },
   {
    "duration": 88,
    "start_time": "2021-09-24T16:45:10.368Z"
   },
   {
    "duration": 5,
    "start_time": "2021-09-24T16:45:10.460Z"
   },
   {
    "duration": 7,
    "start_time": "2021-09-24T16:45:10.557Z"
   },
   {
    "duration": 3,
    "start_time": "2021-09-24T16:47:50.728Z"
   },
   {
    "duration": 158,
    "start_time": "2021-09-24T16:47:50.742Z"
   },
   {
    "duration": 155,
    "start_time": "2021-09-24T16:47:50.902Z"
   },
   {
    "duration": 154,
    "start_time": "2021-09-24T16:47:51.060Z"
   },
   {
    "duration": 14,
    "start_time": "2021-09-24T16:47:51.216Z"
   },
   {
    "duration": 87,
    "start_time": "2021-09-24T16:47:51.233Z"
   },
   {
    "duration": 13,
    "start_time": "2021-09-24T16:47:51.323Z"
   },
   {
    "duration": 14,
    "start_time": "2021-09-24T16:47:51.355Z"
   },
   {
    "duration": 62,
    "start_time": "2021-09-24T16:47:51.371Z"
   },
   {
    "duration": 13,
    "start_time": "2021-09-24T16:47:51.458Z"
   },
   {
    "duration": 20,
    "start_time": "2021-09-24T16:47:51.474Z"
   },
   {
    "duration": 91,
    "start_time": "2021-09-24T16:47:51.496Z"
   },
   {
    "duration": 13,
    "start_time": "2021-09-24T16:47:51.589Z"
   },
   {
    "duration": 77,
    "start_time": "2021-09-24T16:47:51.605Z"
   },
   {
    "duration": 4,
    "start_time": "2021-09-24T16:47:51.684Z"
   },
   {
    "duration": 9,
    "start_time": "2021-09-24T16:47:51.690Z"
   },
   {
    "duration": 10,
    "start_time": "2021-09-24T16:47:51.701Z"
   },
   {
    "duration": 19,
    "start_time": "2021-09-24T16:47:51.713Z"
   },
   {
    "duration": 6,
    "start_time": "2021-09-24T16:47:51.756Z"
   },
   {
    "duration": 93,
    "start_time": "2021-09-24T16:47:51.764Z"
   },
   {
    "duration": 96,
    "start_time": "2021-09-24T16:47:51.860Z"
   },
   {
    "duration": 4,
    "start_time": "2021-09-24T16:47:51.959Z"
   },
   {
    "duration": 6,
    "start_time": "2021-09-24T16:47:51.965Z"
   },
   {
    "duration": 7,
    "start_time": "2021-09-24T16:47:51.973Z"
   },
   {
    "duration": 343,
    "start_time": "2021-09-25T09:31:55.734Z"
   },
   {
    "duration": 1408,
    "start_time": "2021-09-25T09:32:00.675Z"
   },
   {
    "duration": 164,
    "start_time": "2021-09-25T09:32:02.085Z"
   },
   {
    "duration": 155,
    "start_time": "2021-09-25T09:32:02.252Z"
   },
   {
    "duration": 159,
    "start_time": "2021-09-25T09:32:02.410Z"
   },
   {
    "duration": 15,
    "start_time": "2021-09-25T09:32:02.572Z"
   },
   {
    "duration": 107,
    "start_time": "2021-09-25T09:32:02.589Z"
   },
   {
    "duration": 14,
    "start_time": "2021-09-25T09:32:02.698Z"
   },
   {
    "duration": 22,
    "start_time": "2021-09-25T09:32:02.716Z"
   },
   {
    "duration": 87,
    "start_time": "2021-09-25T09:32:02.741Z"
   },
   {
    "duration": 14,
    "start_time": "2021-09-25T09:32:02.830Z"
   },
   {
    "duration": 33,
    "start_time": "2021-09-25T09:32:02.846Z"
   },
   {
    "duration": 92,
    "start_time": "2021-09-25T09:32:02.882Z"
   },
   {
    "duration": 13,
    "start_time": "2021-09-25T09:32:02.976Z"
   },
   {
    "duration": 57,
    "start_time": "2021-09-25T09:32:02.991Z"
   },
   {
    "duration": 5,
    "start_time": "2021-09-25T09:32:03.068Z"
   },
   {
    "duration": 16,
    "start_time": "2021-09-25T09:32:03.075Z"
   },
   {
    "duration": 10,
    "start_time": "2021-09-25T09:32:03.094Z"
   },
   {
    "duration": 22,
    "start_time": "2021-09-25T09:32:03.106Z"
   },
   {
    "duration": 8,
    "start_time": "2021-09-25T09:32:03.132Z"
   },
   {
    "duration": 46,
    "start_time": "2021-09-25T09:32:03.142Z"
   },
   {
    "duration": 80,
    "start_time": "2021-09-25T09:32:03.191Z"
   },
   {
    "duration": 100,
    "start_time": "2021-09-25T09:32:03.275Z"
   },
   {
    "duration": 5,
    "start_time": "2021-09-25T09:32:03.381Z"
   },
   {
    "duration": 9,
    "start_time": "2021-09-25T09:32:03.388Z"
   },
   {
    "duration": 9,
    "start_time": "2021-09-25T09:32:03.399Z"
   },
   {
    "duration": 4,
    "start_time": "2021-09-25T09:35:22.047Z"
   },
   {
    "duration": 169,
    "start_time": "2021-09-25T09:35:22.054Z"
   },
   {
    "duration": 156,
    "start_time": "2021-09-25T09:35:22.226Z"
   },
   {
    "duration": 164,
    "start_time": "2021-09-25T09:35:22.385Z"
   },
   {
    "duration": 23,
    "start_time": "2021-09-25T09:35:22.552Z"
   },
   {
    "duration": 73,
    "start_time": "2021-09-25T09:35:22.578Z"
   },
   {
    "duration": 13,
    "start_time": "2021-09-25T09:35:22.667Z"
   },
   {
    "duration": 16,
    "start_time": "2021-09-25T09:35:22.682Z"
   },
   {
    "duration": 92,
    "start_time": "2021-09-25T09:35:22.702Z"
   },
   {
    "duration": 12,
    "start_time": "2021-09-25T09:35:22.797Z"
   },
   {
    "duration": 16,
    "start_time": "2021-09-25T09:35:22.811Z"
   },
   {
    "duration": 106,
    "start_time": "2021-09-25T09:35:22.829Z"
   },
   {
    "duration": 29,
    "start_time": "2021-09-25T09:35:22.938Z"
   },
   {
    "duration": 57,
    "start_time": "2021-09-25T09:35:22.970Z"
   },
   {
    "duration": 5,
    "start_time": "2021-09-25T09:35:23.030Z"
   },
   {
    "duration": 30,
    "start_time": "2021-09-25T09:35:23.037Z"
   },
   {
    "duration": 5,
    "start_time": "2021-09-25T09:35:23.070Z"
   },
   {
    "duration": 23,
    "start_time": "2021-09-25T09:35:23.077Z"
   },
   {
    "duration": 12,
    "start_time": "2021-09-25T09:35:23.103Z"
   },
   {
    "duration": 53,
    "start_time": "2021-09-25T09:35:23.117Z"
   },
   {
    "duration": 97,
    "start_time": "2021-09-25T09:35:23.174Z"
   },
   {
    "duration": 6,
    "start_time": "2021-09-25T09:35:23.273Z"
   },
   {
    "duration": 8,
    "start_time": "2021-09-25T09:35:23.281Z"
   },
   {
    "duration": 12,
    "start_time": "2021-09-25T09:35:23.291Z"
   },
   {
    "duration": 12,
    "start_time": "2021-09-25T09:35:23.305Z"
   },
   {
    "duration": 15,
    "start_time": "2021-09-25T09:35:23.319Z"
   },
   {
    "duration": 96,
    "start_time": "2021-09-25T09:35:23.373Z"
   },
   {
    "duration": 6,
    "start_time": "2021-09-25T09:35:23.471Z"
   },
   {
    "duration": 7,
    "start_time": "2021-09-25T09:35:23.479Z"
   },
   {
    "duration": 8,
    "start_time": "2021-09-25T09:35:23.488Z"
   },
   {
    "duration": 10,
    "start_time": "2021-09-25T09:35:23.498Z"
   },
   {
    "duration": 1311,
    "start_time": "2021-09-25T09:37:06.657Z"
   },
   {
    "duration": 167,
    "start_time": "2021-09-25T09:37:07.971Z"
   },
   {
    "duration": 162,
    "start_time": "2021-09-25T09:37:08.142Z"
   },
   {
    "duration": 155,
    "start_time": "2021-09-25T09:37:08.307Z"
   },
   {
    "duration": 18,
    "start_time": "2021-09-25T09:37:08.468Z"
   },
   {
    "duration": 103,
    "start_time": "2021-09-25T09:37:08.490Z"
   },
   {
    "duration": 16,
    "start_time": "2021-09-25T09:37:08.596Z"
   },
   {
    "duration": 50,
    "start_time": "2021-09-25T09:37:08.618Z"
   },
   {
    "duration": 67,
    "start_time": "2021-09-25T09:37:08.672Z"
   },
   {
    "duration": 32,
    "start_time": "2021-09-25T09:37:08.742Z"
   },
   {
    "duration": 18,
    "start_time": "2021-09-25T09:37:08.777Z"
   },
   {
    "duration": 108,
    "start_time": "2021-09-25T09:37:08.798Z"
   },
   {
    "duration": 13,
    "start_time": "2021-09-25T09:37:08.909Z"
   },
   {
    "duration": 79,
    "start_time": "2021-09-25T09:37:08.925Z"
   },
   {
    "duration": 6,
    "start_time": "2021-09-25T09:37:09.006Z"
   },
   {
    "duration": 8,
    "start_time": "2021-09-25T09:37:09.015Z"
   },
   {
    "duration": 8,
    "start_time": "2021-09-25T09:37:09.025Z"
   },
   {
    "duration": 48,
    "start_time": "2021-09-25T09:37:09.036Z"
   },
   {
    "duration": 16,
    "start_time": "2021-09-25T09:37:09.087Z"
   },
   {
    "duration": 69,
    "start_time": "2021-09-25T09:37:09.106Z"
   },
   {
    "duration": 7,
    "start_time": "2021-09-25T09:37:09.268Z"
   },
   {
    "duration": 6,
    "start_time": "2021-09-25T09:37:09.278Z"
   },
   {
    "duration": 6,
    "start_time": "2021-09-25T09:37:09.291Z"
   },
   {
    "duration": 5,
    "start_time": "2021-09-25T09:37:09.300Z"
   },
   {
    "duration": 61,
    "start_time": "2021-09-25T09:37:09.308Z"
   },
   {
    "duration": 95,
    "start_time": "2021-09-25T09:37:09.372Z"
   },
   {
    "duration": 6,
    "start_time": "2021-09-25T09:37:09.471Z"
   },
   {
    "duration": 9,
    "start_time": "2021-09-25T09:37:09.568Z"
   },
   {
    "duration": 7,
    "start_time": "2021-09-25T09:37:09.579Z"
   },
   {
    "duration": 5,
    "start_time": "2021-09-25T09:37:09.589Z"
   },
   {
    "duration": 14,
    "start_time": "2021-09-25T09:37:09.597Z"
   },
   {
    "duration": 54,
    "start_time": "2021-09-25T09:37:09.614Z"
   },
   {
    "duration": 97,
    "start_time": "2021-09-25T09:37:09.671Z"
   },
   {
    "duration": 15,
    "start_time": "2021-09-25T09:37:09.770Z"
   },
   {
    "duration": 13,
    "start_time": "2021-09-25T09:37:09.788Z"
   },
   {
    "duration": 8,
    "start_time": "2021-09-25T09:37:09.803Z"
   },
   {
    "duration": 7,
    "start_time": "2021-09-25T09:37:09.814Z"
   },
   {
    "duration": 474,
    "start_time": "2021-09-25T09:42:11.312Z"
   },
   {
    "duration": 5,
    "start_time": "2021-09-25T09:42:16.172Z"
   },
   {
    "duration": 188,
    "start_time": "2021-09-25T09:42:16.179Z"
   },
   {
    "duration": 162,
    "start_time": "2021-09-25T09:42:16.370Z"
   },
   {
    "duration": 182,
    "start_time": "2021-09-25T09:42:16.535Z"
   },
   {
    "duration": 14,
    "start_time": "2021-09-25T09:42:16.719Z"
   },
   {
    "duration": 90,
    "start_time": "2021-09-25T09:42:16.735Z"
   },
   {
    "duration": 13,
    "start_time": "2021-09-25T09:42:16.827Z"
   },
   {
    "duration": 32,
    "start_time": "2021-09-25T09:42:16.843Z"
   },
   {
    "duration": 65,
    "start_time": "2021-09-25T09:42:16.880Z"
   },
   {
    "duration": 30,
    "start_time": "2021-09-25T09:42:16.948Z"
   },
   {
    "duration": 17,
    "start_time": "2021-09-25T09:42:16.980Z"
   },
   {
    "duration": 108,
    "start_time": "2021-09-25T09:42:17.000Z"
   },
   {
    "duration": 12,
    "start_time": "2021-09-25T09:42:17.110Z"
   },
   {
    "duration": 72,
    "start_time": "2021-09-25T09:42:17.124Z"
   },
   {
    "duration": 4,
    "start_time": "2021-09-25T09:42:17.199Z"
   },
   {
    "duration": 6,
    "start_time": "2021-09-25T09:42:17.205Z"
   },
   {
    "duration": 6,
    "start_time": "2021-09-25T09:42:17.214Z"
   },
   {
    "duration": 52,
    "start_time": "2021-09-25T09:42:17.222Z"
   },
   {
    "duration": 10,
    "start_time": "2021-09-25T09:42:17.276Z"
   },
   {
    "duration": 81,
    "start_time": "2021-09-25T09:42:17.288Z"
   },
   {
    "duration": 95,
    "start_time": "2021-09-25T09:42:17.372Z"
   },
   {
    "duration": 6,
    "start_time": "2021-09-25T09:42:17.470Z"
   },
   {
    "duration": 8,
    "start_time": "2021-09-25T09:42:17.478Z"
   },
   {
    "duration": 5,
    "start_time": "2021-09-25T09:42:17.488Z"
   },
   {
    "duration": 10,
    "start_time": "2021-09-25T09:42:17.496Z"
   },
   {
    "duration": 10,
    "start_time": "2021-09-25T09:42:17.508Z"
   },
   {
    "duration": 54,
    "start_time": "2021-09-25T09:42:17.523Z"
   },
   {
    "duration": 89,
    "start_time": "2021-09-25T09:42:17.581Z"
   },
   {
    "duration": 94,
    "start_time": "2021-09-25T09:42:17.676Z"
   },
   {
    "duration": 7,
    "start_time": "2021-09-25T09:42:17.773Z"
   },
   {
    "duration": 5,
    "start_time": "2021-09-25T09:42:17.782Z"
   },
   {
    "duration": 10,
    "start_time": "2021-09-25T09:42:17.789Z"
   },
   {
    "duration": 74,
    "start_time": "2021-09-25T09:42:17.801Z"
   },
   {
    "duration": 5,
    "start_time": "2021-09-25T09:42:17.968Z"
   },
   {
    "duration": 10,
    "start_time": "2021-09-25T09:42:17.976Z"
   },
   {
    "duration": 14,
    "start_time": "2021-09-25T09:42:17.989Z"
   },
   {
    "duration": 4,
    "start_time": "2021-09-25T09:42:18.006Z"
   },
   {
    "duration": 13,
    "start_time": "2021-09-25T09:42:18.012Z"
   },
   {
    "duration": 7,
    "start_time": "2021-09-25T09:42:42.092Z"
   },
   {
    "duration": 9,
    "start_time": "2021-09-25T09:42:54.593Z"
   },
   {
    "duration": 271,
    "start_time": "2021-09-25T09:49:57.212Z"
   },
   {
    "duration": 4,
    "start_time": "2021-09-25T09:50:00.556Z"
   },
   {
    "duration": 181,
    "start_time": "2021-09-25T09:50:00.563Z"
   },
   {
    "duration": 158,
    "start_time": "2021-09-25T09:50:00.747Z"
   },
   {
    "duration": 162,
    "start_time": "2021-09-25T09:50:00.907Z"
   },
   {
    "duration": 14,
    "start_time": "2021-09-25T09:50:01.071Z"
   },
   {
    "duration": 91,
    "start_time": "2021-09-25T09:50:01.087Z"
   },
   {
    "duration": 13,
    "start_time": "2021-09-25T09:50:01.180Z"
   },
   {
    "duration": 43,
    "start_time": "2021-09-25T09:50:01.197Z"
   },
   {
    "duration": 74,
    "start_time": "2021-09-25T09:50:01.243Z"
   },
   {
    "duration": 14,
    "start_time": "2021-09-25T09:50:01.320Z"
   },
   {
    "duration": 46,
    "start_time": "2021-09-25T09:50:01.337Z"
   },
   {
    "duration": 66,
    "start_time": "2021-09-25T09:50:01.386Z"
   },
   {
    "duration": 24,
    "start_time": "2021-09-25T09:50:01.454Z"
   },
   {
    "duration": 54,
    "start_time": "2021-09-25T09:50:01.480Z"
   },
   {
    "duration": 5,
    "start_time": "2021-09-25T09:50:01.537Z"
   },
   {
    "duration": 26,
    "start_time": "2021-09-25T09:50:01.544Z"
   },
   {
    "duration": 23,
    "start_time": "2021-09-25T09:50:01.573Z"
   },
   {
    "duration": 23,
    "start_time": "2021-09-25T09:50:01.599Z"
   },
   {
    "duration": 40,
    "start_time": "2021-09-25T09:50:01.624Z"
   },
   {
    "duration": 110,
    "start_time": "2021-09-25T09:50:01.666Z"
   },
   {
    "duration": 90,
    "start_time": "2021-09-25T09:50:01.779Z"
   },
   {
    "duration": 29,
    "start_time": "2021-09-25T09:50:01.871Z"
   },
   {
    "duration": 12,
    "start_time": "2021-09-25T09:50:01.907Z"
   },
   {
    "duration": 15,
    "start_time": "2021-09-25T09:50:01.922Z"
   },
   {
    "duration": 53,
    "start_time": "2021-09-25T09:50:01.940Z"
   },
   {
    "duration": 27,
    "start_time": "2021-09-25T09:50:01.996Z"
   },
   {
    "duration": 22,
    "start_time": "2021-09-25T09:50:02.025Z"
   },
   {
    "duration": 51,
    "start_time": "2021-09-25T09:50:02.049Z"
   },
   {
    "duration": 66,
    "start_time": "2021-09-25T09:50:02.104Z"
   },
   {
    "duration": 107,
    "start_time": "2021-09-25T09:50:02.174Z"
   },
   {
    "duration": 12,
    "start_time": "2021-09-25T09:50:02.283Z"
   },
   {
    "duration": 12,
    "start_time": "2021-09-25T09:50:02.298Z"
   },
   {
    "duration": 18,
    "start_time": "2021-09-25T09:50:02.312Z"
   },
   {
    "duration": 22,
    "start_time": "2021-09-25T09:50:02.332Z"
   },
   {
    "duration": 40,
    "start_time": "2021-09-25T09:50:02.356Z"
   },
   {
    "duration": 98,
    "start_time": "2021-09-25T09:50:02.468Z"
   },
   {
    "duration": 12,
    "start_time": "2021-09-25T09:50:02.570Z"
   },
   {
    "duration": 20,
    "start_time": "2021-09-25T09:50:02.584Z"
   },
   {
    "duration": 11,
    "start_time": "2021-09-25T09:50:02.606Z"
   },
   {
    "duration": 11,
    "start_time": "2021-09-25T09:50:02.619Z"
   },
   {
    "duration": 9,
    "start_time": "2021-09-25T09:50:02.632Z"
   },
   {
    "duration": 7,
    "start_time": "2021-09-25T09:50:20.750Z"
   },
   {
    "duration": 6,
    "start_time": "2021-09-25T09:50:44.304Z"
   },
   {
    "duration": 8,
    "start_time": "2021-09-25T09:51:01.452Z"
   },
   {
    "duration": 87,
    "start_time": "2021-09-25T10:08:30.052Z"
   },
   {
    "duration": 3,
    "start_time": "2021-09-25T16:13:59.203Z"
   },
   {
    "duration": 1148,
    "start_time": "2021-09-25T16:14:08.048Z"
   },
   {
    "duration": 126,
    "start_time": "2021-09-25T16:14:09.198Z"
   },
   {
    "duration": 121,
    "start_time": "2021-09-25T16:14:09.326Z"
   },
   {
    "duration": 120,
    "start_time": "2021-09-25T16:14:09.449Z"
   },
   {
    "duration": 15,
    "start_time": "2021-09-25T16:14:09.571Z"
   },
   {
    "duration": 64,
    "start_time": "2021-09-25T16:14:09.588Z"
   },
   {
    "duration": 29,
    "start_time": "2021-09-25T16:14:09.654Z"
   },
   {
    "duration": 15,
    "start_time": "2021-09-25T16:14:09.687Z"
   },
   {
    "duration": 71,
    "start_time": "2021-09-25T16:14:09.705Z"
   },
   {
    "duration": 10,
    "start_time": "2021-09-25T16:14:09.779Z"
   },
   {
    "duration": 22,
    "start_time": "2021-09-25T16:14:09.791Z"
   },
   {
    "duration": 70,
    "start_time": "2021-09-25T16:14:09.815Z"
   },
   {
    "duration": 12,
    "start_time": "2021-09-25T16:14:09.887Z"
   },
   {
    "duration": 44,
    "start_time": "2021-09-25T16:14:09.902Z"
   },
   {
    "duration": 3,
    "start_time": "2021-09-25T16:14:09.948Z"
   },
   {
    "duration": 25,
    "start_time": "2021-09-25T16:14:09.953Z"
   },
   {
    "duration": 4,
    "start_time": "2021-09-25T16:14:09.981Z"
   },
   {
    "duration": 14,
    "start_time": "2021-09-25T16:14:09.988Z"
   },
   {
    "duration": 6,
    "start_time": "2021-09-25T16:14:10.004Z"
   },
   {
    "duration": 69,
    "start_time": "2021-09-25T16:14:10.011Z"
   },
   {
    "duration": 95,
    "start_time": "2021-09-25T16:14:10.083Z"
   },
   {
    "duration": 3,
    "start_time": "2021-09-25T16:14:10.180Z"
   },
   {
    "duration": 4,
    "start_time": "2021-09-25T16:14:10.186Z"
   },
   {
    "duration": 79,
    "start_time": "2021-09-25T16:14:10.192Z"
   },
   {
    "duration": 6,
    "start_time": "2021-09-25T16:14:10.274Z"
   },
   {
    "duration": 5,
    "start_time": "2021-09-25T16:14:10.281Z"
   },
   {
    "duration": 7,
    "start_time": "2021-09-25T16:14:10.288Z"
   },
   {
    "duration": 178,
    "start_time": "2021-09-25T16:14:10.297Z"
   },
   {
    "duration": 3,
    "start_time": "2021-09-25T16:14:10.478Z"
   },
   {
    "duration": 6,
    "start_time": "2021-09-25T16:14:10.483Z"
   },
   {
    "duration": 4,
    "start_time": "2021-09-25T16:14:10.491Z"
   },
   {
    "duration": 4,
    "start_time": "2021-09-25T16:14:10.496Z"
   },
   {
    "duration": 6,
    "start_time": "2021-09-25T16:14:10.501Z"
   },
   {
    "duration": 6,
    "start_time": "2021-09-25T16:14:10.509Z"
   },
   {
    "duration": 5,
    "start_time": "2021-09-25T16:14:10.516Z"
   },
   {
    "duration": 59,
    "start_time": "2021-09-25T16:14:10.523Z"
   },
   {
    "duration": 94,
    "start_time": "2021-09-25T16:14:10.584Z"
   },
   {
    "duration": 4,
    "start_time": "2021-09-25T16:14:10.679Z"
   },
   {
    "duration": 8,
    "start_time": "2021-09-25T16:14:10.684Z"
   },
   {
    "duration": 4,
    "start_time": "2021-09-25T16:14:10.694Z"
   },
   {
    "duration": 5,
    "start_time": "2021-09-25T16:14:10.700Z"
   },
   {
    "duration": 9,
    "start_time": "2021-09-25T16:14:10.706Z"
   },
   {
    "duration": 5,
    "start_time": "2021-09-25T16:14:10.777Z"
   },
   {
    "duration": 5,
    "start_time": "2021-09-25T16:14:10.783Z"
   },
   {
    "duration": 4,
    "start_time": "2021-09-25T16:15:13.160Z"
   },
   {
    "duration": 4,
    "start_time": "2021-09-25T16:17:46.926Z"
   },
   {
    "duration": 5,
    "start_time": "2021-09-25T16:20:17.364Z"
   },
   {
    "duration": 4,
    "start_time": "2021-09-25T16:42:10.719Z"
   },
   {
    "duration": 4,
    "start_time": "2021-09-25T16:49:36.218Z"
   },
   {
    "duration": 4,
    "start_time": "2021-09-26T10:19:03.889Z"
   },
   {
    "duration": 1409,
    "start_time": "2021-09-26T10:26:02.518Z"
   },
   {
    "duration": 157,
    "start_time": "2021-09-26T10:26:03.929Z"
   },
   {
    "duration": 147,
    "start_time": "2021-09-26T10:26:04.088Z"
   },
   {
    "duration": 145,
    "start_time": "2021-09-26T10:26:04.237Z"
   },
   {
    "duration": 14,
    "start_time": "2021-09-26T10:26:04.384Z"
   },
   {
    "duration": 108,
    "start_time": "2021-09-26T10:26:04.401Z"
   },
   {
    "duration": 14,
    "start_time": "2021-09-26T10:26:04.511Z"
   },
   {
    "duration": 39,
    "start_time": "2021-09-26T10:26:04.527Z"
   },
   {
    "duration": 70,
    "start_time": "2021-09-26T10:26:04.570Z"
   },
   {
    "duration": 13,
    "start_time": "2021-09-26T10:26:04.643Z"
   },
   {
    "duration": 53,
    "start_time": "2021-09-26T10:26:04.658Z"
   },
   {
    "duration": 94,
    "start_time": "2021-09-26T10:26:04.714Z"
   },
   {
    "duration": 12,
    "start_time": "2021-09-26T10:26:04.810Z"
   },
   {
    "duration": 66,
    "start_time": "2021-09-26T10:26:04.824Z"
   },
   {
    "duration": 5,
    "start_time": "2021-09-26T10:26:04.893Z"
   },
   {
    "duration": 24,
    "start_time": "2021-09-26T10:26:04.900Z"
   },
   {
    "duration": 22,
    "start_time": "2021-09-26T10:26:04.927Z"
   },
   {
    "duration": 37,
    "start_time": "2021-09-26T10:26:04.951Z"
   },
   {
    "duration": 29,
    "start_time": "2021-09-26T10:26:04.990Z"
   },
   {
    "duration": 53,
    "start_time": "2021-09-26T10:26:05.021Z"
   },
   {
    "duration": 99,
    "start_time": "2021-09-26T10:26:05.124Z"
   },
   {
    "duration": 14,
    "start_time": "2021-09-26T10:26:05.225Z"
   },
   {
    "duration": 30,
    "start_time": "2021-09-26T10:26:05.242Z"
   },
   {
    "duration": 27,
    "start_time": "2021-09-26T10:26:05.274Z"
   },
   {
    "duration": 37,
    "start_time": "2021-09-26T10:26:05.304Z"
   },
   {
    "duration": 32,
    "start_time": "2021-09-26T10:26:05.343Z"
   },
   {
    "duration": 26,
    "start_time": "2021-09-26T10:26:05.380Z"
   },
   {
    "duration": 30,
    "start_time": "2021-09-26T10:26:05.409Z"
   },
   {
    "duration": 182,
    "start_time": "2021-09-26T10:26:05.443Z"
   },
   {
    "duration": 22,
    "start_time": "2021-09-26T10:26:05.628Z"
   },
   {
    "duration": 25,
    "start_time": "2021-09-26T10:26:05.652Z"
   },
   {
    "duration": 19,
    "start_time": "2021-09-26T10:26:05.679Z"
   },
   {
    "duration": 35,
    "start_time": "2021-09-26T10:26:05.700Z"
   },
   {
    "duration": 31,
    "start_time": "2021-09-26T10:26:05.737Z"
   },
   {
    "duration": 30,
    "start_time": "2021-09-26T10:26:05.771Z"
   },
   {
    "duration": 43,
    "start_time": "2021-09-26T10:26:05.803Z"
   },
   {
    "duration": 78,
    "start_time": "2021-09-26T10:26:05.850Z"
   },
   {
    "duration": 94,
    "start_time": "2021-09-26T10:26:05.931Z"
   },
   {
    "duration": 20,
    "start_time": "2021-09-26T10:26:06.028Z"
   },
   {
    "duration": 33,
    "start_time": "2021-09-26T10:26:06.051Z"
   },
   {
    "duration": 25,
    "start_time": "2021-09-26T10:26:06.087Z"
   },
   {
    "duration": 25,
    "start_time": "2021-09-26T10:26:06.114Z"
   },
   {
    "duration": 24,
    "start_time": "2021-09-26T10:26:06.141Z"
   },
   {
    "duration": 24,
    "start_time": "2021-09-26T10:26:06.167Z"
   },
   {
    "duration": 443,
    "start_time": "2021-09-26T10:26:06.193Z"
   },
   {
    "duration": -78,
    "start_time": "2021-09-26T10:26:06.716Z"
   },
   {
    "duration": -93,
    "start_time": "2021-09-26T10:26:06.733Z"
   },
   {
    "duration": 1309,
    "start_time": "2021-09-26T10:26:29.365Z"
   },
   {
    "duration": 152,
    "start_time": "2021-09-26T10:26:30.677Z"
   },
   {
    "duration": 156,
    "start_time": "2021-09-26T10:26:30.832Z"
   },
   {
    "duration": 161,
    "start_time": "2021-09-26T10:26:30.991Z"
   },
   {
    "duration": 15,
    "start_time": "2021-09-26T10:26:31.154Z"
   },
   {
    "duration": 93,
    "start_time": "2021-09-26T10:26:31.171Z"
   },
   {
    "duration": 15,
    "start_time": "2021-09-26T10:26:31.266Z"
   },
   {
    "duration": 25,
    "start_time": "2021-09-26T10:26:31.283Z"
   },
   {
    "duration": 64,
    "start_time": "2021-09-26T10:26:31.323Z"
   },
   {
    "duration": 32,
    "start_time": "2021-09-26T10:26:31.390Z"
   },
   {
    "duration": 18,
    "start_time": "2021-09-26T10:26:31.425Z"
   },
   {
    "duration": 97,
    "start_time": "2021-09-26T10:26:31.446Z"
   },
   {
    "duration": 16,
    "start_time": "2021-09-26T10:26:31.546Z"
   },
   {
    "duration": 69,
    "start_time": "2021-09-26T10:26:31.564Z"
   },
   {
    "duration": 8,
    "start_time": "2021-09-26T10:26:31.636Z"
   },
   {
    "duration": 40,
    "start_time": "2021-09-26T10:26:31.647Z"
   },
   {
    "duration": 11,
    "start_time": "2021-09-26T10:26:31.690Z"
   },
   {
    "duration": 54,
    "start_time": "2021-09-26T10:26:31.704Z"
   },
   {
    "duration": 26,
    "start_time": "2021-09-26T10:26:31.761Z"
   },
   {
    "duration": 37,
    "start_time": "2021-09-26T10:26:31.789Z"
   },
   {
    "duration": 93,
    "start_time": "2021-09-26T10:26:31.830Z"
   },
   {
    "duration": 99,
    "start_time": "2021-09-26T10:26:31.926Z"
   },
   {
    "duration": 11,
    "start_time": "2021-09-26T10:26:32.027Z"
   },
   {
    "duration": 11,
    "start_time": "2021-09-26T10:26:32.041Z"
   },
   {
    "duration": 12,
    "start_time": "2021-09-26T10:26:32.054Z"
   },
   {
    "duration": 12,
    "start_time": "2021-09-26T10:26:32.069Z"
   },
   {
    "duration": 8,
    "start_time": "2021-09-26T10:26:32.088Z"
   },
   {
    "duration": 22,
    "start_time": "2021-09-26T10:26:32.122Z"
   },
   {
    "duration": 79,
    "start_time": "2021-09-26T10:26:32.147Z"
   },
   {
    "duration": 98,
    "start_time": "2021-09-26T10:26:32.230Z"
   },
   {
    "duration": 14,
    "start_time": "2021-09-26T10:26:32.330Z"
   },
   {
    "duration": 7,
    "start_time": "2021-09-26T10:26:32.347Z"
   },
   {
    "duration": 8,
    "start_time": "2021-09-26T10:26:32.357Z"
   },
   {
    "duration": 13,
    "start_time": "2021-09-26T10:26:32.368Z"
   },
   {
    "duration": 18,
    "start_time": "2021-09-26T10:26:32.383Z"
   },
   {
    "duration": 33,
    "start_time": "2021-09-26T10:26:32.404Z"
   },
   {
    "duration": 83,
    "start_time": "2021-09-26T10:26:32.441Z"
   },
   {
    "duration": 7,
    "start_time": "2021-09-26T10:26:32.527Z"
   },
   {
    "duration": 8,
    "start_time": "2021-09-26T10:26:32.623Z"
   },
   {
    "duration": 8,
    "start_time": "2021-09-26T10:26:32.634Z"
   },
   {
    "duration": 8,
    "start_time": "2021-09-26T10:26:32.644Z"
   },
   {
    "duration": 21,
    "start_time": "2021-09-26T10:26:32.654Z"
   },
   {
    "duration": 12,
    "start_time": "2021-09-26T10:26:32.677Z"
   },
   {
    "duration": 34,
    "start_time": "2021-09-26T10:26:32.692Z"
   },
   {
    "duration": 10,
    "start_time": "2021-09-26T10:26:32.729Z"
   },
   {
    "duration": 7,
    "start_time": "2021-09-26T10:26:32.741Z"
   },
   {
    "duration": 7,
    "start_time": "2021-09-26T10:26:32.751Z"
   },
   {
    "duration": 5,
    "start_time": "2021-09-26T10:59:48.627Z"
   },
   {
    "duration": 178,
    "start_time": "2021-09-26T10:59:48.645Z"
   },
   {
    "duration": 148,
    "start_time": "2021-09-26T10:59:48.826Z"
   },
   {
    "duration": 143,
    "start_time": "2021-09-26T10:59:48.977Z"
   },
   {
    "duration": 13,
    "start_time": "2021-09-26T10:59:49.123Z"
   },
   {
    "duration": 87,
    "start_time": "2021-09-26T10:59:49.139Z"
   },
   {
    "duration": 13,
    "start_time": "2021-09-26T10:59:49.228Z"
   },
   {
    "duration": 17,
    "start_time": "2021-09-26T10:59:49.244Z"
   },
   {
    "duration": 85,
    "start_time": "2021-09-26T10:59:49.264Z"
   },
   {
    "duration": 12,
    "start_time": "2021-09-26T10:59:49.352Z"
   },
   {
    "duration": 15,
    "start_time": "2021-09-26T10:59:49.367Z"
   },
   {
    "duration": 90,
    "start_time": "2021-09-26T10:59:49.384Z"
   },
   {
    "duration": 12,
    "start_time": "2021-09-26T10:59:49.476Z"
   },
   {
    "duration": 79,
    "start_time": "2021-09-26T10:59:49.490Z"
   },
   {
    "duration": 4,
    "start_time": "2021-09-26T10:59:49.572Z"
   },
   {
    "duration": 11,
    "start_time": "2021-09-26T10:59:49.579Z"
   },
   {
    "duration": 9,
    "start_time": "2021-09-26T10:59:49.593Z"
   },
   {
    "duration": 32,
    "start_time": "2021-09-26T10:59:49.605Z"
   },
   {
    "duration": 25,
    "start_time": "2021-09-26T10:59:49.640Z"
   },
   {
    "duration": 57,
    "start_time": "2021-09-26T10:59:49.668Z"
   },
   {
    "duration": 97,
    "start_time": "2021-09-26T10:59:49.730Z"
   },
   {
    "duration": 11,
    "start_time": "2021-09-26T10:59:49.830Z"
   },
   {
    "duration": 13,
    "start_time": "2021-09-26T10:59:49.844Z"
   },
   {
    "duration": 10,
    "start_time": "2021-09-26T10:59:49.860Z"
   },
   {
    "duration": 10,
    "start_time": "2021-09-26T10:59:49.873Z"
   },
   {
    "duration": 42,
    "start_time": "2021-09-26T10:59:49.886Z"
   },
   {
    "duration": 8,
    "start_time": "2021-09-26T10:59:49.931Z"
   },
   {
    "duration": 80,
    "start_time": "2021-09-26T10:59:49.947Z"
   },
   {
    "duration": 92,
    "start_time": "2021-09-26T10:59:50.031Z"
   },
   {
    "duration": 6,
    "start_time": "2021-09-26T10:59:50.126Z"
   },
   {
    "duration": 7,
    "start_time": "2021-09-26T10:59:50.134Z"
   },
   {
    "duration": 8,
    "start_time": "2021-09-26T10:59:50.143Z"
   },
   {
    "duration": 71,
    "start_time": "2021-09-26T10:59:50.153Z"
   },
   {
    "duration": 6,
    "start_time": "2021-09-26T10:59:50.226Z"
   },
   {
    "duration": 6,
    "start_time": "2021-09-26T10:59:50.234Z"
   },
   {
    "duration": 83,
    "start_time": "2021-09-26T10:59:50.243Z"
   },
   {
    "duration": 96,
    "start_time": "2021-09-26T10:59:50.329Z"
   },
   {
    "duration": 5,
    "start_time": "2021-09-26T10:59:50.427Z"
   },
   {
    "duration": 13,
    "start_time": "2021-09-26T10:59:50.435Z"
   },
   {
    "duration": 5,
    "start_time": "2021-09-26T10:59:50.451Z"
   },
   {
    "duration": 10,
    "start_time": "2021-09-26T10:59:50.458Z"
   },
   {
    "duration": 12,
    "start_time": "2021-09-26T10:59:50.470Z"
   },
   {
    "duration": 40,
    "start_time": "2021-09-26T10:59:50.484Z"
   },
   {
    "duration": 7,
    "start_time": "2021-09-26T10:59:50.526Z"
   },
   {
    "duration": 14,
    "start_time": "2021-09-26T10:59:50.535Z"
   },
   {
    "duration": 14,
    "start_time": "2021-09-26T10:59:50.551Z"
   },
   {
    "duration": 10,
    "start_time": "2021-09-26T10:59:50.567Z"
   },
   {
    "duration": 19,
    "start_time": "2021-09-26T10:59:50.580Z"
   },
   {
    "duration": 30,
    "start_time": "2021-09-26T10:59:50.601Z"
   },
   {
    "duration": 855,
    "start_time": "2021-09-26T11:09:43.221Z"
   },
   {
    "duration": 1846,
    "start_time": "2021-09-26T11:10:48.836Z"
   },
   {
    "duration": 162,
    "start_time": "2021-09-26T11:10:56.621Z"
   },
   {
    "duration": 145,
    "start_time": "2021-09-26T11:10:56.786Z"
   },
   {
    "duration": 146,
    "start_time": "2021-09-26T11:10:56.934Z"
   },
   {
    "duration": 16,
    "start_time": "2021-09-26T11:10:57.084Z"
   },
   {
    "duration": 88,
    "start_time": "2021-09-26T11:10:57.103Z"
   },
   {
    "duration": 30,
    "start_time": "2021-09-26T11:10:57.194Z"
   },
   {
    "duration": 15,
    "start_time": "2021-09-26T11:10:57.227Z"
   },
   {
    "duration": 90,
    "start_time": "2021-09-26T11:10:57.245Z"
   },
   {
    "duration": 13,
    "start_time": "2021-09-26T11:10:57.338Z"
   },
   {
    "duration": 15,
    "start_time": "2021-09-26T11:10:57.354Z"
   },
   {
    "duration": 96,
    "start_time": "2021-09-26T11:10:57.372Z"
   },
   {
    "duration": 12,
    "start_time": "2021-09-26T11:10:57.471Z"
   },
   {
    "duration": 65,
    "start_time": "2021-09-26T11:10:57.486Z"
   },
   {
    "duration": 5,
    "start_time": "2021-09-26T11:10:57.554Z"
   },
   {
    "duration": 15,
    "start_time": "2021-09-26T11:10:57.561Z"
   },
   {
    "duration": 12,
    "start_time": "2021-09-26T11:10:57.578Z"
   },
   {
    "duration": 35,
    "start_time": "2021-09-26T11:10:57.592Z"
   },
   {
    "duration": 26,
    "start_time": "2021-09-26T11:10:57.629Z"
   },
   {
    "duration": 67,
    "start_time": "2021-09-26T11:10:57.658Z"
   },
   {
    "duration": 8,
    "start_time": "2021-09-26T11:10:57.729Z"
   },
   {
    "duration": 12,
    "start_time": "2021-09-26T11:10:57.825Z"
   },
   {
    "duration": 85,
    "start_time": "2021-09-26T11:10:57.839Z"
   },
   {
    "duration": 17,
    "start_time": "2021-09-26T11:10:57.926Z"
   },
   {
    "duration": 14,
    "start_time": "2021-09-26T11:10:57.945Z"
   },
   {
    "duration": 13,
    "start_time": "2021-09-26T11:10:57.961Z"
   },
   {
    "duration": 10,
    "start_time": "2021-09-26T11:10:57.976Z"
   },
   {
    "duration": 32,
    "start_time": "2021-09-26T11:10:57.991Z"
   },
   {
    "duration": 103,
    "start_time": "2021-09-26T11:10:58.029Z"
   },
   {
    "duration": 9,
    "start_time": "2021-09-26T11:10:58.223Z"
   },
   {
    "duration": 8,
    "start_time": "2021-09-26T11:10:58.235Z"
   },
   {
    "duration": 12,
    "start_time": "2021-09-26T11:10:58.245Z"
   },
   {
    "duration": 15,
    "start_time": "2021-09-26T11:10:58.259Z"
   },
   {
    "duration": 15,
    "start_time": "2021-09-26T11:10:58.277Z"
   },
   {
    "duration": 26,
    "start_time": "2021-09-26T11:10:58.295Z"
   },
   {
    "duration": 24,
    "start_time": "2021-09-26T11:10:58.324Z"
   },
   {
    "duration": 99,
    "start_time": "2021-09-26T11:10:58.425Z"
   },
   {
    "duration": 23,
    "start_time": "2021-09-26T11:10:58.526Z"
   },
   {
    "duration": 29,
    "start_time": "2021-09-26T11:10:58.551Z"
   },
   {
    "duration": 25,
    "start_time": "2021-09-26T11:10:58.582Z"
   },
   {
    "duration": 25,
    "start_time": "2021-09-26T11:10:58.610Z"
   },
   {
    "duration": 21,
    "start_time": "2021-09-26T11:10:58.637Z"
   },
   {
    "duration": 34,
    "start_time": "2021-09-26T11:10:58.661Z"
   },
   {
    "duration": 29,
    "start_time": "2021-09-26T11:10:58.697Z"
   },
   {
    "duration": 24,
    "start_time": "2021-09-26T11:10:58.728Z"
   },
   {
    "duration": 32,
    "start_time": "2021-09-26T11:10:58.754Z"
   },
   {
    "duration": 15,
    "start_time": "2021-09-26T11:10:58.788Z"
   },
   {
    "duration": 28,
    "start_time": "2021-09-26T11:10:58.805Z"
   },
   {
    "duration": 19,
    "start_time": "2021-09-26T11:10:58.836Z"
   },
   {
    "duration": 743,
    "start_time": "2021-09-26T11:10:58.858Z"
   },
   {
    "duration": 1290,
    "start_time": "2021-09-26T11:12:33.934Z"
   },
   {
    "duration": 156,
    "start_time": "2021-09-26T11:12:35.227Z"
   },
   {
    "duration": 150,
    "start_time": "2021-09-26T11:12:35.386Z"
   },
   {
    "duration": 153,
    "start_time": "2021-09-26T11:12:35.538Z"
   },
   {
    "duration": 15,
    "start_time": "2021-09-26T11:12:35.693Z"
   },
   {
    "duration": 116,
    "start_time": "2021-09-26T11:12:35.710Z"
   },
   {
    "duration": 13,
    "start_time": "2021-09-26T11:12:35.829Z"
   },
   {
    "duration": 47,
    "start_time": "2021-09-26T11:12:35.845Z"
   },
   {
    "duration": 94,
    "start_time": "2021-09-26T11:12:35.896Z"
   },
   {
    "duration": 12,
    "start_time": "2021-09-26T11:12:35.993Z"
   },
   {
    "duration": 57,
    "start_time": "2021-09-26T11:12:36.008Z"
   },
   {
    "duration": 98,
    "start_time": "2021-09-26T11:12:36.067Z"
   },
   {
    "duration": 12,
    "start_time": "2021-09-26T11:12:36.168Z"
   },
   {
    "duration": 86,
    "start_time": "2021-09-26T11:12:36.182Z"
   },
   {
    "duration": 5,
    "start_time": "2021-09-26T11:12:36.270Z"
   },
   {
    "duration": 44,
    "start_time": "2021-09-26T11:12:36.277Z"
   },
   {
    "duration": 39,
    "start_time": "2021-09-26T11:12:36.324Z"
   },
   {
    "duration": 74,
    "start_time": "2021-09-26T11:12:36.365Z"
   },
   {
    "duration": 57,
    "start_time": "2021-09-26T11:12:36.441Z"
   },
   {
    "duration": 50,
    "start_time": "2021-09-26T11:12:36.500Z"
   },
   {
    "duration": 172,
    "start_time": "2021-09-26T11:12:36.554Z"
   },
   {
    "duration": 42,
    "start_time": "2021-09-26T11:12:36.729Z"
   },
   {
    "duration": 42,
    "start_time": "2021-09-26T11:12:36.773Z"
   },
   {
    "duration": 28,
    "start_time": "2021-09-26T11:12:36.818Z"
   },
   {
    "duration": 31,
    "start_time": "2021-09-26T11:12:36.849Z"
   },
   {
    "duration": 31,
    "start_time": "2021-09-26T11:12:36.882Z"
   },
   {
    "duration": 42,
    "start_time": "2021-09-26T11:12:36.918Z"
   },
   {
    "duration": 50,
    "start_time": "2021-09-26T11:12:36.963Z"
   },
   {
    "duration": 111,
    "start_time": "2021-09-26T11:12:37.017Z"
   },
   {
    "duration": 125,
    "start_time": "2021-09-26T11:12:37.131Z"
   },
   {
    "duration": 39,
    "start_time": "2021-09-26T11:12:37.259Z"
   },
   {
    "duration": 20,
    "start_time": "2021-09-26T11:12:37.301Z"
   },
   {
    "duration": 22,
    "start_time": "2021-09-26T11:12:37.323Z"
   },
   {
    "duration": 17,
    "start_time": "2021-09-26T11:12:37.348Z"
   },
   {
    "duration": 25,
    "start_time": "2021-09-26T11:12:37.367Z"
   },
   {
    "duration": 33,
    "start_time": "2021-09-26T11:12:37.394Z"
   },
   {
    "duration": 95,
    "start_time": "2021-09-26T11:12:37.430Z"
   },
   {
    "duration": 102,
    "start_time": "2021-09-26T11:12:37.530Z"
   },
   {
    "duration": 29,
    "start_time": "2021-09-26T11:12:37.634Z"
   },
   {
    "duration": 21,
    "start_time": "2021-09-26T11:12:37.665Z"
   },
   {
    "duration": 29,
    "start_time": "2021-09-26T11:12:37.689Z"
   },
   {
    "duration": 35,
    "start_time": "2021-09-26T11:12:37.721Z"
   },
   {
    "duration": 28,
    "start_time": "2021-09-26T11:12:37.758Z"
   },
   {
    "duration": 22,
    "start_time": "2021-09-26T11:12:37.789Z"
   },
   {
    "duration": 25,
    "start_time": "2021-09-26T11:12:37.814Z"
   },
   {
    "duration": 23,
    "start_time": "2021-09-26T11:12:37.841Z"
   },
   {
    "duration": 34,
    "start_time": "2021-09-26T11:12:37.867Z"
   },
   {
    "duration": 24,
    "start_time": "2021-09-26T11:12:37.904Z"
   },
   {
    "duration": 33,
    "start_time": "2021-09-26T11:12:37.931Z"
   },
   {
    "duration": 846,
    "start_time": "2021-09-26T11:12:37.967Z"
   },
   {
    "duration": 103,
    "start_time": "2021-09-26T11:15:10.024Z"
   },
   {
    "duration": 5,
    "start_time": "2021-09-26T11:15:20.528Z"
   },
   {
    "duration": 1339,
    "start_time": "2021-09-26T11:15:28.986Z"
   },
   {
    "duration": 152,
    "start_time": "2021-09-26T11:15:30.327Z"
   },
   {
    "duration": 146,
    "start_time": "2021-09-26T11:15:30.482Z"
   },
   {
    "duration": 150,
    "start_time": "2021-09-26T11:15:30.631Z"
   },
   {
    "duration": 15,
    "start_time": "2021-09-26T11:15:30.784Z"
   },
   {
    "duration": 105,
    "start_time": "2021-09-26T11:15:30.801Z"
   },
   {
    "duration": 15,
    "start_time": "2021-09-26T11:15:30.909Z"
   },
   {
    "duration": 50,
    "start_time": "2021-09-26T11:15:30.928Z"
   },
   {
    "duration": 102,
    "start_time": "2021-09-26T11:15:30.981Z"
   },
   {
    "duration": 12,
    "start_time": "2021-09-26T11:15:31.086Z"
   },
   {
    "duration": 48,
    "start_time": "2021-09-26T11:15:31.100Z"
   },
   {
    "duration": 103,
    "start_time": "2021-09-26T11:15:31.151Z"
   },
   {
    "duration": 11,
    "start_time": "2021-09-26T11:15:31.257Z"
   },
   {
    "duration": 78,
    "start_time": "2021-09-26T11:15:31.271Z"
   },
   {
    "duration": 5,
    "start_time": "2021-09-26T11:15:31.351Z"
   },
   {
    "duration": 31,
    "start_time": "2021-09-26T11:15:31.359Z"
   },
   {
    "duration": 25,
    "start_time": "2021-09-26T11:15:31.393Z"
   },
   {
    "duration": 44,
    "start_time": "2021-09-26T11:15:31.421Z"
   },
   {
    "duration": 32,
    "start_time": "2021-09-26T11:15:31.467Z"
   },
   {
    "duration": 42,
    "start_time": "2021-09-26T11:15:31.502Z"
   },
   {
    "duration": 9,
    "start_time": "2021-09-26T11:15:31.624Z"
   },
   {
    "duration": 39,
    "start_time": "2021-09-26T11:15:31.724Z"
   },
   {
    "duration": 53,
    "start_time": "2021-09-26T11:15:31.769Z"
   },
   {
    "duration": 22,
    "start_time": "2021-09-26T11:15:31.825Z"
   },
   {
    "duration": 23,
    "start_time": "2021-09-26T11:15:31.850Z"
   },
   {
    "duration": 23,
    "start_time": "2021-09-26T11:15:31.876Z"
   },
   {
    "duration": 18,
    "start_time": "2021-09-26T11:15:31.901Z"
   },
   {
    "duration": 28,
    "start_time": "2021-09-26T11:15:31.922Z"
   },
   {
    "duration": 74,
    "start_time": "2021-09-26T11:15:31.953Z"
   },
   {
    "duration": 102,
    "start_time": "2021-09-26T11:15:32.030Z"
   },
   {
    "duration": 14,
    "start_time": "2021-09-26T11:15:32.135Z"
   },
   {
    "duration": 12,
    "start_time": "2021-09-26T11:15:32.151Z"
   },
   {
    "duration": 23,
    "start_time": "2021-09-26T11:15:32.165Z"
   },
   {
    "duration": 23,
    "start_time": "2021-09-26T11:15:32.190Z"
   },
   {
    "duration": 22,
    "start_time": "2021-09-26T11:15:32.215Z"
   },
   {
    "duration": 36,
    "start_time": "2021-09-26T11:15:32.240Z"
   },
   {
    "duration": 142,
    "start_time": "2021-09-26T11:15:32.280Z"
   },
   {
    "duration": 17,
    "start_time": "2021-09-26T11:15:32.425Z"
   },
   {
    "duration": 32,
    "start_time": "2021-09-26T11:15:32.444Z"
   },
   {
    "duration": 18,
    "start_time": "2021-09-26T11:15:32.478Z"
   },
   {
    "duration": 20,
    "start_time": "2021-09-26T11:15:32.499Z"
   },
   {
    "duration": 16,
    "start_time": "2021-09-26T11:15:32.521Z"
   },
   {
    "duration": 21,
    "start_time": "2021-09-26T11:15:32.539Z"
   },
   {
    "duration": 17,
    "start_time": "2021-09-26T11:15:32.562Z"
   },
   {
    "duration": 29,
    "start_time": "2021-09-26T11:15:32.581Z"
   },
   {
    "duration": 20,
    "start_time": "2021-09-26T11:15:32.613Z"
   },
   {
    "duration": 23,
    "start_time": "2021-09-26T11:15:32.635Z"
   },
   {
    "duration": 27,
    "start_time": "2021-09-26T11:15:32.661Z"
   },
   {
    "duration": 39,
    "start_time": "2021-09-26T11:15:32.691Z"
   },
   {
    "duration": 776,
    "start_time": "2021-09-26T11:15:32.733Z"
   },
   {
    "duration": 1342,
    "start_time": "2021-09-26T11:15:39.080Z"
   },
   {
    "duration": 148,
    "start_time": "2021-09-26T11:15:40.425Z"
   },
   {
    "duration": 144,
    "start_time": "2021-09-26T11:15:40.576Z"
   },
   {
    "duration": 145,
    "start_time": "2021-09-26T11:15:40.723Z"
   },
   {
    "duration": 14,
    "start_time": "2021-09-26T11:15:40.870Z"
   },
   {
    "duration": 87,
    "start_time": "2021-09-26T11:15:40.887Z"
   },
   {
    "duration": 15,
    "start_time": "2021-09-26T11:15:40.976Z"
   },
   {
    "duration": 39,
    "start_time": "2021-09-26T11:15:40.994Z"
   },
   {
    "duration": 60,
    "start_time": "2021-09-26T11:15:41.037Z"
   },
   {
    "duration": 28,
    "start_time": "2021-09-26T11:15:41.100Z"
   },
   {
    "duration": 17,
    "start_time": "2021-09-26T11:15:41.131Z"
   },
   {
    "duration": 86,
    "start_time": "2021-09-26T11:15:41.150Z"
   },
   {
    "duration": 12,
    "start_time": "2021-09-26T11:15:41.238Z"
   },
   {
    "duration": 70,
    "start_time": "2021-09-26T11:15:41.253Z"
   },
   {
    "duration": 4,
    "start_time": "2021-09-26T11:15:41.325Z"
   },
   {
    "duration": 9,
    "start_time": "2021-09-26T11:15:41.332Z"
   },
   {
    "duration": 9,
    "start_time": "2021-09-26T11:15:41.343Z"
   },
   {
    "duration": 17,
    "start_time": "2021-09-26T11:15:41.355Z"
   },
   {
    "duration": 9,
    "start_time": "2021-09-26T11:15:41.374Z"
   },
   {
    "duration": 56,
    "start_time": "2021-09-26T11:15:41.386Z"
   },
   {
    "duration": 98,
    "start_time": "2021-09-26T11:15:41.524Z"
   },
   {
    "duration": 10,
    "start_time": "2021-09-26T11:15:41.625Z"
   },
   {
    "duration": 6,
    "start_time": "2021-09-26T11:15:41.638Z"
   },
   {
    "duration": 4,
    "start_time": "2021-09-26T11:15:41.647Z"
   },
   {
    "duration": 12,
    "start_time": "2021-09-26T11:15:41.653Z"
   },
   {
    "duration": 9,
    "start_time": "2021-09-26T11:15:41.667Z"
   },
   {
    "duration": 41,
    "start_time": "2021-09-26T11:15:41.681Z"
   },
   {
    "duration": 96,
    "start_time": "2021-09-26T11:15:41.726Z"
   },
   {
    "duration": 98,
    "start_time": "2021-09-26T11:15:41.826Z"
   },
   {
    "duration": 4,
    "start_time": "2021-09-26T11:15:41.926Z"
   },
   {
    "duration": 12,
    "start_time": "2021-09-26T11:15:41.932Z"
   },
   {
    "duration": 7,
    "start_time": "2021-09-26T11:15:41.946Z"
   },
   {
    "duration": 8,
    "start_time": "2021-09-26T11:15:41.955Z"
   },
   {
    "duration": 13,
    "start_time": "2021-09-26T11:15:41.966Z"
   },
   {
    "duration": 9,
    "start_time": "2021-09-26T11:15:41.982Z"
   },
   {
    "duration": 21,
    "start_time": "2021-09-26T11:15:42.023Z"
   },
   {
    "duration": 80,
    "start_time": "2021-09-26T11:15:42.047Z"
   },
   {
    "duration": 96,
    "start_time": "2021-09-26T11:15:42.129Z"
   },
   {
    "duration": 18,
    "start_time": "2021-09-26T11:15:42.227Z"
   },
   {
    "duration": 13,
    "start_time": "2021-09-26T11:15:42.247Z"
   },
   {
    "duration": 23,
    "start_time": "2021-09-26T11:15:42.262Z"
   },
   {
    "duration": 18,
    "start_time": "2021-09-26T11:15:42.287Z"
   },
   {
    "duration": 21,
    "start_time": "2021-09-26T11:15:42.307Z"
   },
   {
    "duration": 15,
    "start_time": "2021-09-26T11:15:42.330Z"
   },
   {
    "duration": 18,
    "start_time": "2021-09-26T11:15:42.348Z"
   },
   {
    "duration": 24,
    "start_time": "2021-09-26T11:15:42.369Z"
   },
   {
    "duration": 15,
    "start_time": "2021-09-26T11:15:42.396Z"
   },
   {
    "duration": 20,
    "start_time": "2021-09-26T11:15:42.414Z"
   },
   {
    "duration": 28,
    "start_time": "2021-09-26T11:15:42.437Z"
   },
   {
    "duration": 806,
    "start_time": "2021-09-26T11:15:42.469Z"
   },
   {
    "duration": 6,
    "start_time": "2021-09-26T11:19:49.824Z"
   },
   {
    "duration": 5,
    "start_time": "2021-09-26T11:23:47.600Z"
   },
   {
    "duration": 4,
    "start_time": "2021-09-26T11:23:50.233Z"
   },
   {
    "duration": 10,
    "start_time": "2021-09-26T11:23:50.805Z"
   },
   {
    "duration": 6,
    "start_time": "2021-09-26T11:23:51.438Z"
   },
   {
    "duration": 561,
    "start_time": "2021-09-26T11:23:52.225Z"
   },
   {
    "duration": 5,
    "start_time": "2021-09-26T11:25:08.907Z"
   },
   {
    "duration": 4,
    "start_time": "2021-09-26T11:25:10.985Z"
   },
   {
    "duration": 18,
    "start_time": "2021-09-26T11:25:11.425Z"
   },
   {
    "duration": 6,
    "start_time": "2021-09-26T11:25:11.957Z"
   },
   {
    "duration": 793,
    "start_time": "2021-09-26T11:25:12.424Z"
   },
   {
    "duration": 1352,
    "start_time": "2021-09-26T14:06:16.436Z"
   },
   {
    "duration": 149,
    "start_time": "2021-09-26T14:06:17.790Z"
   },
   {
    "duration": 147,
    "start_time": "2021-09-26T14:06:17.942Z"
   },
   {
    "duration": 147,
    "start_time": "2021-09-26T14:06:18.092Z"
   },
   {
    "duration": 14,
    "start_time": "2021-09-26T14:06:18.242Z"
   },
   {
    "duration": 94,
    "start_time": "2021-09-26T14:06:18.258Z"
   },
   {
    "duration": 13,
    "start_time": "2021-09-26T14:06:18.354Z"
   },
   {
    "duration": 20,
    "start_time": "2021-09-26T14:06:18.371Z"
   },
   {
    "duration": 85,
    "start_time": "2021-09-26T14:06:18.395Z"
   },
   {
    "duration": 12,
    "start_time": "2021-09-26T14:06:18.483Z"
   },
   {
    "duration": 35,
    "start_time": "2021-09-26T14:06:18.498Z"
   },
   {
    "duration": 64,
    "start_time": "2021-09-26T14:06:18.535Z"
   },
   {
    "duration": 28,
    "start_time": "2021-09-26T14:06:18.602Z"
   },
   {
    "duration": 49,
    "start_time": "2021-09-26T14:06:18.633Z"
   },
   {
    "duration": 5,
    "start_time": "2021-09-26T14:06:18.685Z"
   },
   {
    "duration": 32,
    "start_time": "2021-09-26T14:06:18.692Z"
   },
   {
    "duration": 9,
    "start_time": "2021-09-26T14:06:18.727Z"
   },
   {
    "duration": 17,
    "start_time": "2021-09-26T14:06:18.739Z"
   },
   {
    "duration": 10,
    "start_time": "2021-09-26T14:06:18.759Z"
   },
   {
    "duration": 59,
    "start_time": "2021-09-26T14:06:18.772Z"
   },
   {
    "duration": 6,
    "start_time": "2021-09-26T14:06:18.924Z"
   },
   {
    "duration": 11,
    "start_time": "2021-09-26T14:06:18.932Z"
   },
   {
    "duration": 8,
    "start_time": "2021-09-26T14:06:18.948Z"
   },
   {
    "duration": 15,
    "start_time": "2021-09-26T14:06:18.959Z"
   },
   {
    "duration": 9,
    "start_time": "2021-09-26T14:06:18.976Z"
   },
   {
    "duration": 6,
    "start_time": "2021-09-26T14:06:19.023Z"
   },
   {
    "duration": 14,
    "start_time": "2021-09-26T14:06:19.032Z"
   },
   {
    "duration": 77,
    "start_time": "2021-09-26T14:06:19.049Z"
   },
   {
    "duration": 97,
    "start_time": "2021-09-26T14:06:19.129Z"
   },
   {
    "duration": 9,
    "start_time": "2021-09-26T14:06:19.228Z"
   },
   {
    "duration": 7,
    "start_time": "2021-09-26T14:06:19.239Z"
   },
   {
    "duration": 13,
    "start_time": "2021-09-26T14:06:19.248Z"
   },
   {
    "duration": 60,
    "start_time": "2021-09-26T14:06:19.263Z"
   },
   {
    "duration": 9,
    "start_time": "2021-09-26T14:06:19.326Z"
   },
   {
    "duration": 12,
    "start_time": "2021-09-26T14:06:19.337Z"
   },
   {
    "duration": 76,
    "start_time": "2021-09-26T14:06:19.351Z"
   },
   {
    "duration": 95,
    "start_time": "2021-09-26T14:06:19.430Z"
   },
   {
    "duration": 6,
    "start_time": "2021-09-26T14:06:19.528Z"
   },
   {
    "duration": 13,
    "start_time": "2021-09-26T14:06:19.537Z"
   },
   {
    "duration": 6,
    "start_time": "2021-09-26T14:06:19.552Z"
   },
   {
    "duration": 6,
    "start_time": "2021-09-26T14:06:19.623Z"
   },
   {
    "duration": 20,
    "start_time": "2021-09-26T14:06:19.632Z"
   },
   {
    "duration": 7,
    "start_time": "2021-09-26T14:06:19.654Z"
   },
   {
    "duration": 7,
    "start_time": "2021-09-26T14:06:19.664Z"
   },
   {
    "duration": 11,
    "start_time": "2021-09-26T14:06:19.673Z"
   },
   {
    "duration": 37,
    "start_time": "2021-09-26T14:06:19.687Z"
   },
   {
    "duration": 7,
    "start_time": "2021-09-26T14:06:19.726Z"
   },
   {
    "duration": 19,
    "start_time": "2021-09-26T14:06:19.736Z"
   },
   {
    "duration": 68,
    "start_time": "2021-09-26T14:06:19.759Z"
   },
   {
    "duration": 498,
    "start_time": "2021-09-26T14:06:19.830Z"
   },
   {
    "duration": 1240,
    "start_time": "2021-09-26T14:06:52.072Z"
   },
   {
    "duration": 148,
    "start_time": "2021-09-26T14:06:53.314Z"
   },
   {
    "duration": 148,
    "start_time": "2021-09-26T14:06:53.466Z"
   },
   {
    "duration": 143,
    "start_time": "2021-09-26T14:06:53.617Z"
   },
   {
    "duration": 21,
    "start_time": "2021-09-26T14:06:53.763Z"
   },
   {
    "duration": 89,
    "start_time": "2021-09-26T14:06:53.787Z"
   },
   {
    "duration": 14,
    "start_time": "2021-09-26T14:06:53.878Z"
   },
   {
    "duration": 31,
    "start_time": "2021-09-26T14:06:53.895Z"
   },
   {
    "duration": 67,
    "start_time": "2021-09-26T14:06:53.930Z"
   },
   {
    "duration": 24,
    "start_time": "2021-09-26T14:06:54.000Z"
   },
   {
    "duration": 21,
    "start_time": "2021-09-26T14:06:54.026Z"
   },
   {
    "duration": 82,
    "start_time": "2021-09-26T14:06:54.050Z"
   },
   {
    "duration": 11,
    "start_time": "2021-09-26T14:06:54.134Z"
   },
   {
    "duration": 80,
    "start_time": "2021-09-26T14:06:54.148Z"
   },
   {
    "duration": 6,
    "start_time": "2021-09-26T14:06:54.230Z"
   },
   {
    "duration": 10,
    "start_time": "2021-09-26T14:06:54.239Z"
   },
   {
    "duration": 31,
    "start_time": "2021-09-26T14:06:54.252Z"
   },
   {
    "duration": 22,
    "start_time": "2021-09-26T14:06:54.286Z"
   },
   {
    "duration": 29,
    "start_time": "2021-09-26T14:06:54.311Z"
   },
   {
    "duration": 23,
    "start_time": "2021-09-26T14:06:54.343Z"
   },
   {
    "duration": 154,
    "start_time": "2021-09-26T14:06:54.369Z"
   },
   {
    "duration": 8,
    "start_time": "2021-09-26T14:06:54.525Z"
   },
   {
    "duration": 17,
    "start_time": "2021-09-26T14:06:54.535Z"
   },
   {
    "duration": 18,
    "start_time": "2021-09-26T14:06:54.554Z"
   },
   {
    "duration": 27,
    "start_time": "2021-09-26T14:06:54.574Z"
   },
   {
    "duration": 23,
    "start_time": "2021-09-26T14:06:54.603Z"
   },
   {
    "duration": 27,
    "start_time": "2021-09-26T14:06:54.631Z"
   },
   {
    "duration": 63,
    "start_time": "2021-09-26T14:06:54.662Z"
   },
   {
    "duration": 97,
    "start_time": "2021-09-26T14:06:54.728Z"
   },
   {
    "duration": 10,
    "start_time": "2021-09-26T14:06:54.828Z"
   },
   {
    "duration": 10,
    "start_time": "2021-09-26T14:06:54.840Z"
   },
   {
    "duration": 9,
    "start_time": "2021-09-26T14:06:54.853Z"
   },
   {
    "duration": 8,
    "start_time": "2021-09-26T14:06:54.865Z"
   },
   {
    "duration": 47,
    "start_time": "2021-09-26T14:06:54.876Z"
   },
   {
    "duration": 6,
    "start_time": "2021-09-26T14:06:54.926Z"
   },
   {
    "duration": 36,
    "start_time": "2021-09-26T14:06:54.935Z"
   },
   {
    "duration": 151,
    "start_time": "2021-09-26T14:06:54.974Z"
   },
   {
    "duration": 22,
    "start_time": "2021-09-26T14:06:55.128Z"
   },
   {
    "duration": 37,
    "start_time": "2021-09-26T14:06:55.152Z"
   },
   {
    "duration": 23,
    "start_time": "2021-09-26T14:06:55.191Z"
   },
   {
    "duration": 30,
    "start_time": "2021-09-26T14:06:55.217Z"
   },
   {
    "duration": 17,
    "start_time": "2021-09-26T14:06:55.250Z"
   },
   {
    "duration": 20,
    "start_time": "2021-09-26T14:06:55.270Z"
   },
   {
    "duration": 19,
    "start_time": "2021-09-26T14:06:55.293Z"
   },
   {
    "duration": 33,
    "start_time": "2021-09-26T14:06:55.314Z"
   },
   {
    "duration": 14,
    "start_time": "2021-09-26T14:06:55.350Z"
   },
   {
    "duration": 17,
    "start_time": "2021-09-26T14:06:55.367Z"
   },
   {
    "duration": 26,
    "start_time": "2021-09-26T14:06:55.387Z"
   },
   {
    "duration": 35,
    "start_time": "2021-09-26T14:06:55.415Z"
   },
   {
    "duration": 8,
    "start_time": "2021-09-26T14:06:55.524Z"
   },
   {
    "duration": 647,
    "start_time": "2021-09-26T14:06:55.623Z"
   },
   {
    "duration": 597,
    "start_time": "2021-09-26T14:09:07.607Z"
   },
   {
    "duration": 4,
    "start_time": "2021-09-26T14:09:10.479Z"
   },
   {
    "duration": 19,
    "start_time": "2021-09-26T14:09:11.139Z"
   },
   {
    "duration": 595,
    "start_time": "2021-09-26T14:09:11.858Z"
   },
   {
    "duration": 4,
    "start_time": "2021-09-26T14:17:30.147Z"
   },
   {
    "duration": 11,
    "start_time": "2021-09-26T14:17:31.138Z"
   },
   {
    "duration": 649,
    "start_time": "2021-09-26T14:17:32.460Z"
   },
   {
    "duration": 4,
    "start_time": "2021-09-26T14:19:44.168Z"
   },
   {
    "duration": 10,
    "start_time": "2021-09-26T14:19:44.899Z"
   },
   {
    "duration": 31,
    "start_time": "2021-09-26T14:19:45.599Z"
   },
   {
    "duration": 4,
    "start_time": "2021-09-26T14:20:42.426Z"
   },
   {
    "duration": 22,
    "start_time": "2021-09-26T14:20:43.088Z"
   },
   {
    "duration": 4964,
    "start_time": "2021-09-26T14:20:43.718Z"
   },
   {
    "duration": 5242,
    "start_time": "2021-09-26T14:20:57.607Z"
   },
   {
    "duration": 91,
    "start_time": "2021-09-26T14:22:47.227Z"
   },
   {
    "duration": 284,
    "start_time": "2021-09-26T14:22:57.406Z"
   },
   {
    "duration": 8,
    "start_time": "2021-09-26T14:23:18.187Z"
   },
   {
    "duration": 4859,
    "start_time": "2021-09-26T14:23:19.027Z"
   },
   {
    "duration": 21,
    "start_time": "2021-09-26T14:24:37.767Z"
   },
   {
    "duration": 4889,
    "start_time": "2021-09-26T14:25:09.446Z"
   },
   {
    "duration": 271,
    "start_time": "2021-09-26T14:26:41.607Z"
   },
   {
    "duration": 1327,
    "start_time": "2021-09-26T14:27:09.495Z"
   },
   {
    "duration": 155,
    "start_time": "2021-09-26T14:27:10.825Z"
   },
   {
    "duration": 148,
    "start_time": "2021-09-26T14:27:10.983Z"
   },
   {
    "duration": 141,
    "start_time": "2021-09-26T14:27:11.134Z"
   },
   {
    "duration": 14,
    "start_time": "2021-09-26T14:27:11.277Z"
   },
   {
    "duration": 92,
    "start_time": "2021-09-26T14:27:11.294Z"
   },
   {
    "duration": 33,
    "start_time": "2021-09-26T14:27:11.389Z"
   },
   {
    "duration": 16,
    "start_time": "2021-09-26T14:27:11.425Z"
   },
   {
    "duration": 86,
    "start_time": "2021-09-26T14:27:11.446Z"
   },
   {
    "duration": 13,
    "start_time": "2021-09-26T14:27:11.536Z"
   },
   {
    "duration": 38,
    "start_time": "2021-09-26T14:27:11.552Z"
   },
   {
    "duration": 80,
    "start_time": "2021-09-26T14:27:11.593Z"
   },
   {
    "duration": 13,
    "start_time": "2021-09-26T14:27:11.676Z"
   },
   {
    "duration": 73,
    "start_time": "2021-09-26T14:27:11.692Z"
   },
   {
    "duration": 4,
    "start_time": "2021-09-26T14:27:11.767Z"
   },
   {
    "duration": 23,
    "start_time": "2021-09-26T14:27:11.774Z"
   },
   {
    "duration": 19,
    "start_time": "2021-09-26T14:27:11.800Z"
   },
   {
    "duration": 34,
    "start_time": "2021-09-26T14:27:11.822Z"
   },
   {
    "duration": 21,
    "start_time": "2021-09-26T14:27:11.858Z"
   },
   {
    "duration": 49,
    "start_time": "2021-09-26T14:27:11.881Z"
   },
   {
    "duration": 7,
    "start_time": "2021-09-26T14:27:12.024Z"
   },
   {
    "duration": 9,
    "start_time": "2021-09-26T14:27:12.123Z"
   },
   {
    "duration": 19,
    "start_time": "2021-09-26T14:27:12.134Z"
   },
   {
    "duration": 21,
    "start_time": "2021-09-26T14:27:12.155Z"
   },
   {
    "duration": 18,
    "start_time": "2021-09-26T14:27:12.178Z"
   },
   {
    "duration": 19,
    "start_time": "2021-09-26T14:27:12.198Z"
   },
   {
    "duration": 6,
    "start_time": "2021-09-26T14:27:12.223Z"
   },
   {
    "duration": 90,
    "start_time": "2021-09-26T14:27:12.232Z"
   },
   {
    "duration": 7,
    "start_time": "2021-09-26T14:27:12.326Z"
   },
   {
    "duration": 6,
    "start_time": "2021-09-26T14:27:12.423Z"
   },
   {
    "duration": 21,
    "start_time": "2021-09-26T14:27:12.431Z"
   },
   {
    "duration": 11,
    "start_time": "2021-09-26T14:27:12.455Z"
   },
   {
    "duration": 21,
    "start_time": "2021-09-26T14:27:12.468Z"
   },
   {
    "duration": 16,
    "start_time": "2021-09-26T14:27:12.492Z"
   },
   {
    "duration": 12,
    "start_time": "2021-09-26T14:27:12.511Z"
   },
   {
    "duration": 97,
    "start_time": "2021-09-26T14:27:12.526Z"
   },
   {
    "duration": 99,
    "start_time": "2021-09-26T14:27:12.626Z"
   },
   {
    "duration": 15,
    "start_time": "2021-09-26T14:27:12.727Z"
   },
   {
    "duration": 32,
    "start_time": "2021-09-26T14:27:12.745Z"
   },
   {
    "duration": 23,
    "start_time": "2021-09-26T14:27:12.779Z"
   },
   {
    "duration": 23,
    "start_time": "2021-09-26T14:27:12.805Z"
   },
   {
    "duration": 35,
    "start_time": "2021-09-26T14:27:12.830Z"
   },
   {
    "duration": 19,
    "start_time": "2021-09-26T14:27:12.868Z"
   },
   {
    "duration": 25,
    "start_time": "2021-09-26T14:27:12.890Z"
   },
   {
    "duration": 30,
    "start_time": "2021-09-26T14:27:12.917Z"
   },
   {
    "duration": 31,
    "start_time": "2021-09-26T14:27:12.949Z"
   },
   {
    "duration": 29,
    "start_time": "2021-09-26T14:27:12.983Z"
   },
   {
    "duration": 24,
    "start_time": "2021-09-26T14:27:13.014Z"
   },
   {
    "duration": 32,
    "start_time": "2021-09-26T14:27:13.040Z"
   },
   {
    "duration": 29,
    "start_time": "2021-09-26T14:27:13.074Z"
   },
   {
    "duration": 24,
    "start_time": "2021-09-26T14:27:13.105Z"
   },
   {
    "duration": 5049,
    "start_time": "2021-09-26T14:27:13.133Z"
   },
   {
    "duration": 6,
    "start_time": "2021-09-26T14:27:18.184Z"
   },
   {
    "duration": 33,
    "start_time": "2021-09-26T14:27:18.192Z"
   },
   {
    "duration": 4970,
    "start_time": "2021-09-26T14:27:18.229Z"
   },
   {
    "duration": 29,
    "start_time": "2021-09-26T14:27:23.202Z"
   },
   {
    "duration": 4999,
    "start_time": "2021-09-26T14:27:23.324Z"
   },
   {
    "duration": 7,
    "start_time": "2021-09-26T14:27:40.819Z"
   },
   {
    "duration": 6,
    "start_time": "2021-09-26T14:28:29.829Z"
   },
   {
    "duration": 1800,
    "start_time": "2021-09-26T15:34:13.332Z"
   },
   {
    "duration": 238,
    "start_time": "2021-09-26T15:34:15.136Z"
   },
   {
    "duration": 238,
    "start_time": "2021-09-26T15:34:15.379Z"
   },
   {
    "duration": 233,
    "start_time": "2021-09-26T15:34:15.623Z"
   },
   {
    "duration": 23,
    "start_time": "2021-09-26T15:34:15.859Z"
   },
   {
    "duration": 119,
    "start_time": "2021-09-26T15:34:15.885Z"
   },
   {
    "duration": 33,
    "start_time": "2021-09-26T15:34:16.008Z"
   },
   {
    "duration": 51,
    "start_time": "2021-09-26T15:34:16.044Z"
   },
   {
    "duration": 82,
    "start_time": "2021-09-26T15:34:16.102Z"
   },
   {
    "duration": 17,
    "start_time": "2021-09-26T15:34:16.189Z"
   },
   {
    "duration": 42,
    "start_time": "2021-09-26T15:34:16.222Z"
   },
   {
    "duration": 85,
    "start_time": "2021-09-26T15:34:16.268Z"
   },
   {
    "duration": 18,
    "start_time": "2021-09-26T15:34:16.356Z"
   },
   {
    "duration": 97,
    "start_time": "2021-09-26T15:34:16.377Z"
   },
   {
    "duration": 6,
    "start_time": "2021-09-26T15:34:16.478Z"
   },
   {
    "duration": 30,
    "start_time": "2021-09-26T15:34:16.486Z"
   },
   {
    "duration": 30,
    "start_time": "2021-09-26T15:34:16.519Z"
   },
   {
    "duration": 41,
    "start_time": "2021-09-26T15:34:16.552Z"
   },
   {
    "duration": 32,
    "start_time": "2021-09-26T15:34:16.596Z"
   },
   {
    "duration": 105,
    "start_time": "2021-09-26T15:34:16.631Z"
   },
   {
    "duration": 6,
    "start_time": "2021-09-26T15:34:16.824Z"
   },
   {
    "duration": 25,
    "start_time": "2021-09-26T15:34:16.833Z"
   },
   {
    "duration": 23,
    "start_time": "2021-09-26T15:34:16.861Z"
   },
   {
    "duration": 17,
    "start_time": "2021-09-26T15:34:16.887Z"
   },
   {
    "duration": 27,
    "start_time": "2021-09-26T15:34:16.907Z"
   },
   {
    "duration": 29,
    "start_time": "2021-09-26T15:34:16.936Z"
   },
   {
    "duration": 23,
    "start_time": "2021-09-26T15:34:16.971Z"
   },
   {
    "duration": 125,
    "start_time": "2021-09-26T15:34:16.997Z"
   },
   {
    "duration": 7,
    "start_time": "2021-09-26T15:34:17.126Z"
   },
   {
    "duration": 27,
    "start_time": "2021-09-26T15:34:17.223Z"
   },
   {
    "duration": 30,
    "start_time": "2021-09-26T15:34:17.253Z"
   },
   {
    "duration": 25,
    "start_time": "2021-09-26T15:34:17.286Z"
   },
   {
    "duration": 34,
    "start_time": "2021-09-26T15:34:17.313Z"
   },
   {
    "duration": 31,
    "start_time": "2021-09-26T15:34:17.349Z"
   },
   {
    "duration": 28,
    "start_time": "2021-09-26T15:34:17.383Z"
   },
   {
    "duration": 36,
    "start_time": "2021-09-26T15:34:17.414Z"
   },
   {
    "duration": 74,
    "start_time": "2021-09-26T15:34:17.453Z"
   },
   {
    "duration": 112,
    "start_time": "2021-09-26T15:34:17.530Z"
   },
   {
    "duration": 32,
    "start_time": "2021-09-26T15:34:17.644Z"
   },
   {
    "duration": 28,
    "start_time": "2021-09-26T15:34:17.679Z"
   },
   {
    "duration": 37,
    "start_time": "2021-09-26T15:34:17.710Z"
   },
   {
    "duration": 36,
    "start_time": "2021-09-26T15:34:17.750Z"
   },
   {
    "duration": 44,
    "start_time": "2021-09-26T15:34:17.788Z"
   },
   {
    "duration": 24,
    "start_time": "2021-09-26T15:34:17.834Z"
   },
   {
    "duration": 24,
    "start_time": "2021-09-26T15:34:17.860Z"
   },
   {
    "duration": 35,
    "start_time": "2021-09-26T15:34:17.886Z"
   },
   {
    "duration": 22,
    "start_time": "2021-09-26T15:34:17.923Z"
   },
   {
    "duration": 33,
    "start_time": "2021-09-26T15:34:17.947Z"
   },
   {
    "duration": 24,
    "start_time": "2021-09-26T15:34:17.983Z"
   },
   {
    "duration": 25,
    "start_time": "2021-09-26T15:34:18.009Z"
   },
   {
    "duration": 85,
    "start_time": "2021-09-26T15:34:18.036Z"
   },
   {
    "duration": 4914,
    "start_time": "2021-09-26T15:34:18.125Z"
   },
   {
    "duration": 7,
    "start_time": "2021-09-26T15:34:23.042Z"
   },
   {
    "duration": 25,
    "start_time": "2021-09-26T15:34:23.051Z"
   },
   {
    "duration": 44,
    "start_time": "2021-09-26T15:34:23.079Z"
   },
   {
    "duration": 5137,
    "start_time": "2021-09-26T15:34:23.126Z"
   },
   {
    "duration": 9,
    "start_time": "2021-09-26T15:34:28.266Z"
   },
   {
    "duration": 5292,
    "start_time": "2021-09-26T15:34:28.279Z"
   },
   {
    "duration": 9,
    "start_time": "2021-09-26T15:35:04.369Z"
   },
   {
    "duration": 1414,
    "start_time": "2021-09-26T15:35:38.096Z"
   },
   {
    "duration": 158,
    "start_time": "2021-09-26T15:35:39.513Z"
   },
   {
    "duration": 153,
    "start_time": "2021-09-26T15:35:39.674Z"
   },
   {
    "duration": 154,
    "start_time": "2021-09-26T15:35:39.830Z"
   },
   {
    "duration": 14,
    "start_time": "2021-09-26T15:35:39.986Z"
   },
   {
    "duration": 88,
    "start_time": "2021-09-26T15:35:40.003Z"
   },
   {
    "duration": 13,
    "start_time": "2021-09-26T15:35:40.094Z"
   },
   {
    "duration": 21,
    "start_time": "2021-09-26T15:35:40.124Z"
   },
   {
    "duration": 75,
    "start_time": "2021-09-26T15:35:40.148Z"
   },
   {
    "duration": 12,
    "start_time": "2021-09-26T15:35:40.226Z"
   },
   {
    "duration": 16,
    "start_time": "2021-09-26T15:35:40.241Z"
   },
   {
    "duration": 92,
    "start_time": "2021-09-26T15:35:40.260Z"
   },
   {
    "duration": 11,
    "start_time": "2021-09-26T15:35:40.355Z"
   },
   {
    "duration": 69,
    "start_time": "2021-09-26T15:35:40.369Z"
   },
   {
    "duration": 5,
    "start_time": "2021-09-26T15:35:40.440Z"
   },
   {
    "duration": 5,
    "start_time": "2021-09-26T15:35:40.448Z"
   },
   {
    "duration": 11,
    "start_time": "2021-09-26T15:35:40.455Z"
   },
   {
    "duration": 18,
    "start_time": "2021-09-26T15:35:40.468Z"
   },
   {
    "duration": 34,
    "start_time": "2021-09-26T15:35:40.488Z"
   },
   {
    "duration": 111,
    "start_time": "2021-09-26T15:35:40.525Z"
   },
   {
    "duration": 6,
    "start_time": "2021-09-26T15:35:40.723Z"
   },
   {
    "duration": 10,
    "start_time": "2021-09-26T15:35:40.731Z"
   },
   {
    "duration": 7,
    "start_time": "2021-09-26T15:35:40.746Z"
   },
   {
    "duration": 15,
    "start_time": "2021-09-26T15:35:40.756Z"
   },
   {
    "duration": 12,
    "start_time": "2021-09-26T15:35:40.773Z"
   },
   {
    "duration": 36,
    "start_time": "2021-09-26T15:35:40.787Z"
   },
   {
    "duration": 6,
    "start_time": "2021-09-26T15:35:40.826Z"
   },
   {
    "duration": 88,
    "start_time": "2021-09-26T15:35:40.834Z"
   },
   {
    "duration": 94,
    "start_time": "2021-09-26T15:35:40.928Z"
   },
   {
    "duration": 6,
    "start_time": "2021-09-26T15:35:41.024Z"
   },
   {
    "duration": 7,
    "start_time": "2021-09-26T15:35:41.032Z"
   },
   {
    "duration": 5,
    "start_time": "2021-09-26T15:35:41.041Z"
   },
   {
    "duration": 14,
    "start_time": "2021-09-26T15:35:41.049Z"
   },
   {
    "duration": 9,
    "start_time": "2021-09-26T15:35:41.066Z"
   },
   {
    "duration": 46,
    "start_time": "2021-09-26T15:35:41.078Z"
   },
   {
    "duration": 99,
    "start_time": "2021-09-26T15:35:41.127Z"
   },
   {
    "duration": 97,
    "start_time": "2021-09-26T15:35:41.229Z"
   },
   {
    "duration": 11,
    "start_time": "2021-09-26T15:35:41.329Z"
   },
   {
    "duration": 11,
    "start_time": "2021-09-26T15:35:41.343Z"
   },
   {
    "duration": 18,
    "start_time": "2021-09-26T15:35:41.357Z"
   },
   {
    "duration": 5,
    "start_time": "2021-09-26T15:35:41.423Z"
   },
   {
    "duration": 18,
    "start_time": "2021-09-26T15:35:41.431Z"
   },
   {
    "duration": 19,
    "start_time": "2021-09-26T15:35:41.451Z"
   },
   {
    "duration": 4,
    "start_time": "2021-09-26T15:35:41.472Z"
   },
   {
    "duration": 20,
    "start_time": "2021-09-26T15:35:41.478Z"
   },
   {
    "duration": 24,
    "start_time": "2021-09-26T15:35:41.500Z"
   },
   {
    "duration": 10,
    "start_time": "2021-09-26T15:35:41.526Z"
   },
   {
    "duration": 14,
    "start_time": "2021-09-26T15:35:41.538Z"
   },
   {
    "duration": 19,
    "start_time": "2021-09-26T15:35:41.554Z"
   },
   {
    "duration": 11,
    "start_time": "2021-09-26T15:35:41.576Z"
   },
   {
    "duration": 35,
    "start_time": "2021-09-26T15:35:41.589Z"
   },
   {
    "duration": 5177,
    "start_time": "2021-09-26T15:35:41.627Z"
   },
   {
    "duration": 19,
    "start_time": "2021-09-26T15:35:46.808Z"
   },
   {
    "duration": 14,
    "start_time": "2021-09-26T15:35:46.830Z"
   },
   {
    "duration": 78,
    "start_time": "2021-09-26T15:35:46.847Z"
   },
   {
    "duration": 5016,
    "start_time": "2021-09-26T15:35:46.928Z"
   },
   {
    "duration": 8,
    "start_time": "2021-09-26T15:35:51.947Z"
   },
   {
    "duration": 9,
    "start_time": "2021-09-26T15:35:51.958Z"
   },
   {
    "duration": 57,
    "start_time": "2021-09-26T15:35:51.970Z"
   },
   {
    "duration": 5192,
    "start_time": "2021-09-26T15:35:52.031Z"
   },
   {
    "duration": 8,
    "start_time": "2021-09-26T15:35:57.226Z"
   },
   {
    "duration": 13,
    "start_time": "2021-09-26T15:35:57.236Z"
   },
   {
    "duration": 7,
    "start_time": "2021-09-26T16:29:06.495Z"
   },
   {
    "duration": 98,
    "start_time": "2021-09-26T16:29:19.775Z"
   },
   {
    "duration": 6,
    "start_time": "2021-09-26T16:30:44.268Z"
   },
   {
    "duration": 1624,
    "start_time": "2021-09-26T16:30:49.791Z"
   },
   {
    "duration": 150,
    "start_time": "2021-09-26T16:30:51.418Z"
   },
   {
    "duration": 147,
    "start_time": "2021-09-26T16:30:51.570Z"
   },
   {
    "duration": 158,
    "start_time": "2021-09-26T16:30:51.720Z"
   },
   {
    "duration": 14,
    "start_time": "2021-09-26T16:30:51.880Z"
   },
   {
    "duration": 103,
    "start_time": "2021-09-26T16:30:51.897Z"
   },
   {
    "duration": 14,
    "start_time": "2021-09-26T16:30:52.002Z"
   },
   {
    "duration": 32,
    "start_time": "2021-09-26T16:30:52.024Z"
   },
   {
    "duration": 78,
    "start_time": "2021-09-26T16:30:52.059Z"
   },
   {
    "duration": 12,
    "start_time": "2021-09-26T16:30:52.139Z"
   },
   {
    "duration": 42,
    "start_time": "2021-09-26T16:30:52.153Z"
   },
   {
    "duration": 94,
    "start_time": "2021-09-26T16:30:52.197Z"
   },
   {
    "duration": 11,
    "start_time": "2021-09-26T16:30:52.294Z"
   },
   {
    "duration": 73,
    "start_time": "2021-09-26T16:30:52.308Z"
   },
   {
    "duration": 4,
    "start_time": "2021-09-26T16:30:52.384Z"
   },
   {
    "duration": 28,
    "start_time": "2021-09-26T16:30:52.391Z"
   },
   {
    "duration": 41,
    "start_time": "2021-09-26T16:30:52.421Z"
   },
   {
    "duration": 40,
    "start_time": "2021-09-26T16:30:52.464Z"
   },
   {
    "duration": 34,
    "start_time": "2021-09-26T16:30:52.507Z"
   },
   {
    "duration": 48,
    "start_time": "2021-09-26T16:30:52.544Z"
   },
   {
    "duration": 7,
    "start_time": "2021-09-26T16:30:52.624Z"
   },
   {
    "duration": 20,
    "start_time": "2021-09-26T16:30:52.723Z"
   },
   {
    "duration": 21,
    "start_time": "2021-09-26T16:30:52.751Z"
   },
   {
    "duration": 19,
    "start_time": "2021-09-26T16:30:52.776Z"
   },
   {
    "duration": 35,
    "start_time": "2021-09-26T16:30:52.798Z"
   },
   {
    "duration": 34,
    "start_time": "2021-09-26T16:30:52.837Z"
   },
   {
    "duration": 37,
    "start_time": "2021-09-26T16:30:52.874Z"
   },
   {
    "duration": 45,
    "start_time": "2021-09-26T16:30:52.913Z"
   },
   {
    "duration": 99,
    "start_time": "2021-09-26T16:30:53.024Z"
   },
   {
    "duration": 19,
    "start_time": "2021-09-26T16:30:53.125Z"
   },
   {
    "duration": 27,
    "start_time": "2021-09-26T16:30:53.146Z"
   },
   {
    "duration": 24,
    "start_time": "2021-09-26T16:30:53.175Z"
   },
   {
    "duration": 42,
    "start_time": "2021-09-26T16:30:53.201Z"
   },
   {
    "duration": 35,
    "start_time": "2021-09-26T16:30:53.245Z"
   },
   {
    "duration": 20,
    "start_time": "2021-09-26T16:30:53.283Z"
   },
   {
    "duration": 63,
    "start_time": "2021-09-26T16:30:53.305Z"
   },
   {
    "duration": 7,
    "start_time": "2021-09-26T16:30:53.423Z"
   },
   {
    "duration": 14,
    "start_time": "2021-09-26T16:30:53.523Z"
   },
   {
    "duration": 28,
    "start_time": "2021-09-26T16:30:53.540Z"
   },
   {
    "duration": 34,
    "start_time": "2021-09-26T16:30:53.570Z"
   },
   {
    "duration": 35,
    "start_time": "2021-09-26T16:30:53.606Z"
   },
   {
    "duration": 29,
    "start_time": "2021-09-26T16:30:53.644Z"
   },
   {
    "duration": 27,
    "start_time": "2021-09-26T16:30:53.676Z"
   },
   {
    "duration": 19,
    "start_time": "2021-09-26T16:30:53.706Z"
   },
   {
    "duration": 27,
    "start_time": "2021-09-26T16:30:53.728Z"
   },
   {
    "duration": 27,
    "start_time": "2021-09-26T16:30:53.757Z"
   },
   {
    "duration": 37,
    "start_time": "2021-09-26T16:30:53.787Z"
   },
   {
    "duration": 94,
    "start_time": "2021-09-26T16:30:53.827Z"
   },
   {
    "duration": 6,
    "start_time": "2021-09-26T16:30:53.925Z"
   },
   {
    "duration": 5004,
    "start_time": "2021-09-26T16:30:53.934Z"
   },
   {
    "duration": 8,
    "start_time": "2021-09-26T16:30:58.940Z"
   },
   {
    "duration": 17,
    "start_time": "2021-09-26T16:30:58.951Z"
   },
   {
    "duration": 54,
    "start_time": "2021-09-26T16:30:58.970Z"
   },
   {
    "duration": 5100,
    "start_time": "2021-09-26T16:30:59.028Z"
   },
   {
    "duration": 8,
    "start_time": "2021-09-26T16:31:04.131Z"
   },
   {
    "duration": 13,
    "start_time": "2021-09-26T16:31:04.141Z"
   },
   {
    "duration": 68,
    "start_time": "2021-09-26T16:31:04.157Z"
   },
   {
    "duration": 4995,
    "start_time": "2021-09-26T16:31:04.228Z"
   },
   {
    "duration": 9,
    "start_time": "2021-09-26T16:31:09.226Z"
   },
   {
    "duration": 39,
    "start_time": "2021-09-26T16:31:09.237Z"
   },
   {
    "duration": 1284,
    "start_time": "2021-09-26T16:33:26.850Z"
   },
   {
    "duration": 173,
    "start_time": "2021-09-26T16:33:28.137Z"
   },
   {
    "duration": 152,
    "start_time": "2021-09-26T16:33:28.314Z"
   },
   {
    "duration": 151,
    "start_time": "2021-09-26T16:33:28.469Z"
   },
   {
    "duration": 15,
    "start_time": "2021-09-26T16:33:28.622Z"
   },
   {
    "duration": 93,
    "start_time": "2021-09-26T16:33:28.639Z"
   },
   {
    "duration": 14,
    "start_time": "2021-09-26T16:33:28.734Z"
   },
   {
    "duration": 29,
    "start_time": "2021-09-26T16:33:28.752Z"
   },
   {
    "duration": 80,
    "start_time": "2021-09-26T16:33:28.784Z"
   },
   {
    "duration": 12,
    "start_time": "2021-09-26T16:33:28.867Z"
   },
   {
    "duration": 22,
    "start_time": "2021-09-26T16:33:28.881Z"
   },
   {
    "duration": 84,
    "start_time": "2021-09-26T16:33:28.906Z"
   },
   {
    "duration": 12,
    "start_time": "2021-09-26T16:33:28.993Z"
   },
   {
    "duration": 50,
    "start_time": "2021-09-26T16:33:29.022Z"
   },
   {
    "duration": 4,
    "start_time": "2021-09-26T16:33:29.075Z"
   },
   {
    "duration": 29,
    "start_time": "2021-09-26T16:33:29.081Z"
   },
   {
    "duration": 24,
    "start_time": "2021-09-26T16:33:29.112Z"
   },
   {
    "duration": 28,
    "start_time": "2021-09-26T16:33:29.139Z"
   },
   {
    "duration": 24,
    "start_time": "2021-09-26T16:33:29.169Z"
   },
   {
    "duration": 49,
    "start_time": "2021-09-26T16:33:29.195Z"
   },
   {
    "duration": 100,
    "start_time": "2021-09-26T16:33:29.325Z"
   },
   {
    "duration": 24,
    "start_time": "2021-09-26T16:33:29.428Z"
   },
   {
    "duration": 25,
    "start_time": "2021-09-26T16:33:29.458Z"
   },
   {
    "duration": 11,
    "start_time": "2021-09-26T16:33:29.486Z"
   },
   {
    "duration": 36,
    "start_time": "2021-09-26T16:33:29.499Z"
   },
   {
    "duration": 19,
    "start_time": "2021-09-26T16:33:29.538Z"
   },
   {
    "duration": 12,
    "start_time": "2021-09-26T16:33:29.560Z"
   },
   {
    "duration": 48,
    "start_time": "2021-09-26T16:33:29.575Z"
   },
   {
    "duration": 98,
    "start_time": "2021-09-26T16:33:29.625Z"
   },
   {
    "duration": 95,
    "start_time": "2021-09-26T16:33:29.728Z"
   },
   {
    "duration": 22,
    "start_time": "2021-09-26T16:33:29.826Z"
   },
   {
    "duration": 13,
    "start_time": "2021-09-26T16:33:29.851Z"
   },
   {
    "duration": 7,
    "start_time": "2021-09-26T16:33:29.867Z"
   },
   {
    "duration": 13,
    "start_time": "2021-09-26T16:33:29.877Z"
   },
   {
    "duration": 13,
    "start_time": "2021-09-26T16:33:29.892Z"
   },
   {
    "duration": 17,
    "start_time": "2021-09-26T16:33:29.907Z"
   },
   {
    "duration": 98,
    "start_time": "2021-09-26T16:33:29.927Z"
   },
   {
    "duration": 102,
    "start_time": "2021-09-26T16:33:30.028Z"
   },
   {
    "duration": 14,
    "start_time": "2021-09-26T16:33:30.132Z"
   },
   {
    "duration": 20,
    "start_time": "2021-09-26T16:33:30.148Z"
   },
   {
    "duration": 23,
    "start_time": "2021-09-26T16:33:30.171Z"
   },
   {
    "duration": 12,
    "start_time": "2021-09-26T16:33:30.197Z"
   },
   {
    "duration": 15,
    "start_time": "2021-09-26T16:33:30.211Z"
   },
   {
    "duration": 12,
    "start_time": "2021-09-26T16:33:30.229Z"
   },
   {
    "duration": 17,
    "start_time": "2021-09-26T16:33:30.243Z"
   },
   {
    "duration": 10,
    "start_time": "2021-09-26T16:33:30.262Z"
   },
   {
    "duration": 24,
    "start_time": "2021-09-26T16:33:30.275Z"
   },
   {
    "duration": 36,
    "start_time": "2021-09-26T16:33:30.301Z"
   },
   {
    "duration": 86,
    "start_time": "2021-09-26T16:33:30.340Z"
   },
   {
    "duration": 5277,
    "start_time": "2021-09-26T16:33:30.429Z"
   },
   {
    "duration": 18,
    "start_time": "2021-09-26T16:33:35.708Z"
   },
   {
    "duration": 14,
    "start_time": "2021-09-26T16:33:35.728Z"
   },
   {
    "duration": 22,
    "start_time": "2021-09-26T16:33:35.745Z"
   },
   {
    "duration": 5138,
    "start_time": "2021-09-26T16:33:35.770Z"
   },
   {
    "duration": 16,
    "start_time": "2021-09-26T16:33:40.911Z"
   },
   {
    "duration": 16,
    "start_time": "2021-09-26T16:33:40.930Z"
   },
   {
    "duration": 81,
    "start_time": "2021-09-26T16:33:40.949Z"
   },
   {
    "duration": 5174,
    "start_time": "2021-09-26T16:33:41.034Z"
   },
   {
    "duration": 16,
    "start_time": "2021-09-26T16:33:46.211Z"
   },
   {
    "duration": 15,
    "start_time": "2021-09-26T16:33:46.229Z"
   },
   {
    "duration": 1408,
    "start_time": "2021-09-26T17:12:59.628Z"
   },
   {
    "duration": 162,
    "start_time": "2021-09-26T17:13:01.039Z"
   },
   {
    "duration": 153,
    "start_time": "2021-09-26T17:13:01.205Z"
   },
   {
    "duration": 157,
    "start_time": "2021-09-26T17:13:01.361Z"
   },
   {
    "duration": 15,
    "start_time": "2021-09-26T17:13:01.520Z"
   },
   {
    "duration": 106,
    "start_time": "2021-09-26T17:13:01.537Z"
   },
   {
    "duration": 15,
    "start_time": "2021-09-26T17:13:01.645Z"
   },
   {
    "duration": 78,
    "start_time": "2021-09-26T17:13:01.664Z"
   },
   {
    "duration": 85,
    "start_time": "2021-09-26T17:13:01.745Z"
   },
   {
    "duration": 13,
    "start_time": "2021-09-26T17:13:01.833Z"
   },
   {
    "duration": 42,
    "start_time": "2021-09-26T17:13:01.848Z"
   },
   {
    "duration": 105,
    "start_time": "2021-09-26T17:13:01.893Z"
   },
   {
    "duration": 12,
    "start_time": "2021-09-26T17:13:02.000Z"
   },
   {
    "duration": 79,
    "start_time": "2021-09-26T17:13:02.014Z"
   },
   {
    "duration": 22,
    "start_time": "2021-09-26T17:13:02.096Z"
   },
   {
    "duration": 16,
    "start_time": "2021-09-26T17:13:02.120Z"
   },
   {
    "duration": 35,
    "start_time": "2021-09-26T17:13:02.139Z"
   },
   {
    "duration": 57,
    "start_time": "2021-09-26T17:13:02.177Z"
   },
   {
    "duration": 37,
    "start_time": "2021-09-26T17:13:02.236Z"
   },
   {
    "duration": 37,
    "start_time": "2021-09-26T17:13:02.275Z"
   },
   {
    "duration": 206,
    "start_time": "2021-09-26T17:13:02.320Z"
   },
   {
    "duration": 31,
    "start_time": "2021-09-26T17:13:02.528Z"
   },
   {
    "duration": 33,
    "start_time": "2021-09-26T17:13:02.565Z"
   },
   {
    "duration": 33,
    "start_time": "2021-09-26T17:13:02.601Z"
   },
   {
    "duration": 14,
    "start_time": "2021-09-26T17:13:02.637Z"
   },
   {
    "duration": 30,
    "start_time": "2021-09-26T17:13:02.653Z"
   },
   {
    "duration": 16,
    "start_time": "2021-09-26T17:13:02.686Z"
   },
   {
    "duration": 34,
    "start_time": "2021-09-26T17:13:02.705Z"
   },
   {
    "duration": 182,
    "start_time": "2021-09-26T17:13:02.744Z"
   },
   {
    "duration": 25,
    "start_time": "2021-09-26T17:13:02.929Z"
   },
   {
    "duration": 32,
    "start_time": "2021-09-26T17:13:02.957Z"
   },
   {
    "duration": 21,
    "start_time": "2021-09-26T17:13:02.991Z"
   },
   {
    "duration": 25,
    "start_time": "2021-09-26T17:13:03.014Z"
   },
   {
    "duration": 44,
    "start_time": "2021-09-26T17:13:03.041Z"
   },
   {
    "duration": 27,
    "start_time": "2021-09-26T17:13:03.088Z"
   },
   {
    "duration": 44,
    "start_time": "2021-09-26T17:13:03.117Z"
   },
   {
    "duration": 159,
    "start_time": "2021-09-26T17:13:03.164Z"
   },
   {
    "duration": 35,
    "start_time": "2021-09-26T17:13:03.325Z"
   },
   {
    "duration": 26,
    "start_time": "2021-09-26T17:13:03.362Z"
   },
   {
    "duration": 19,
    "start_time": "2021-09-26T17:13:03.391Z"
   },
   {
    "duration": 21,
    "start_time": "2021-09-26T17:13:03.413Z"
   },
   {
    "duration": 26,
    "start_time": "2021-09-26T17:13:03.437Z"
   },
   {
    "duration": 20,
    "start_time": "2021-09-26T17:13:03.465Z"
   },
   {
    "duration": 22,
    "start_time": "2021-09-26T17:13:03.487Z"
   },
   {
    "duration": 10,
    "start_time": "2021-09-26T17:13:03.511Z"
   },
   {
    "duration": 10,
    "start_time": "2021-09-26T17:13:03.523Z"
   },
   {
    "duration": 32,
    "start_time": "2021-09-26T17:13:03.535Z"
   },
   {
    "duration": 23,
    "start_time": "2021-09-26T17:13:03.570Z"
   },
   {
    "duration": 141,
    "start_time": "2021-09-26T17:13:03.596Z"
   },
   {
    "duration": 5083,
    "start_time": "2021-09-26T17:13:03.740Z"
   },
   {
    "duration": 8,
    "start_time": "2021-09-26T17:13:08.826Z"
   },
   {
    "duration": 14,
    "start_time": "2021-09-26T17:13:08.836Z"
   },
   {
    "duration": 72,
    "start_time": "2021-09-26T17:13:08.853Z"
   },
   {
    "duration": 7094,
    "start_time": "2021-09-26T17:13:08.929Z"
   },
   {
    "duration": 8,
    "start_time": "2021-09-26T17:13:16.025Z"
   },
   {
    "duration": 22,
    "start_time": "2021-09-26T17:13:16.036Z"
   },
   {
    "duration": 63,
    "start_time": "2021-09-26T17:13:16.060Z"
   },
   {
    "duration": 5262,
    "start_time": "2021-09-26T17:13:16.126Z"
   },
   {
    "duration": 8,
    "start_time": "2021-09-26T17:13:21.390Z"
   },
   {
    "duration": 24,
    "start_time": "2021-09-26T17:13:21.400Z"
   },
   {
    "duration": 118,
    "start_time": "2021-09-27T07:11:36.343Z"
   },
   {
    "duration": 2044,
    "start_time": "2021-09-27T07:24:05.542Z"
   },
   {
    "duration": 161,
    "start_time": "2021-09-27T07:24:07.589Z"
   },
   {
    "duration": 164,
    "start_time": "2021-09-27T07:24:07.753Z"
   },
   {
    "duration": 163,
    "start_time": "2021-09-27T07:24:07.920Z"
   },
   {
    "duration": 15,
    "start_time": "2021-09-27T07:24:08.085Z"
   },
   {
    "duration": 106,
    "start_time": "2021-09-27T07:24:08.102Z"
   },
   {
    "duration": 14,
    "start_time": "2021-09-27T07:24:08.210Z"
   },
   {
    "duration": 16,
    "start_time": "2021-09-27T07:24:08.226Z"
   },
   {
    "duration": 90,
    "start_time": "2021-09-27T07:24:08.245Z"
   },
   {
    "duration": 12,
    "start_time": "2021-09-27T07:24:08.339Z"
   },
   {
    "duration": 14,
    "start_time": "2021-09-27T07:24:08.368Z"
   },
   {
    "duration": 95,
    "start_time": "2021-09-27T07:24:08.384Z"
   },
   {
    "duration": 13,
    "start_time": "2021-09-27T07:24:08.481Z"
   },
   {
    "duration": 76,
    "start_time": "2021-09-27T07:24:08.496Z"
   },
   {
    "duration": 4,
    "start_time": "2021-09-27T07:24:08.574Z"
   },
   {
    "duration": 8,
    "start_time": "2021-09-27T07:24:08.580Z"
   },
   {
    "duration": 6,
    "start_time": "2021-09-27T07:24:08.590Z"
   },
   {
    "duration": 18,
    "start_time": "2021-09-27T07:24:08.599Z"
   },
   {
    "duration": 9,
    "start_time": "2021-09-27T07:24:08.619Z"
   },
   {
    "duration": 62,
    "start_time": "2021-09-27T07:24:08.630Z"
   },
   {
    "duration": 7,
    "start_time": "2021-09-27T07:24:08.769Z"
   },
   {
    "duration": 5,
    "start_time": "2021-09-27T07:24:08.868Z"
   },
   {
    "duration": 7,
    "start_time": "2021-09-27T07:24:08.875Z"
   },
   {
    "duration": 4,
    "start_time": "2021-09-27T07:24:08.885Z"
   },
   {
    "duration": 10,
    "start_time": "2021-09-27T07:24:08.891Z"
   },
   {
    "duration": 9,
    "start_time": "2021-09-27T07:24:08.903Z"
   },
   {
    "duration": 50,
    "start_time": "2021-09-27T07:24:08.918Z"
   },
   {
    "duration": 22,
    "start_time": "2021-09-27T07:24:08.971Z"
   },
   {
    "duration": 7,
    "start_time": "2021-09-27T07:24:09.070Z"
   },
   {
    "duration": 98,
    "start_time": "2021-09-27T07:24:09.080Z"
   },
   {
    "duration": 8,
    "start_time": "2021-09-27T07:24:09.180Z"
   },
   {
    "duration": 9,
    "start_time": "2021-09-27T07:24:09.191Z"
   },
   {
    "duration": 11,
    "start_time": "2021-09-27T07:24:09.202Z"
   },
   {
    "duration": 16,
    "start_time": "2021-09-27T07:24:09.215Z"
   },
   {
    "duration": 34,
    "start_time": "2021-09-27T07:24:09.233Z"
   },
   {
    "duration": 23,
    "start_time": "2021-09-27T07:24:09.270Z"
   },
   {
    "duration": 10,
    "start_time": "2021-09-27T07:24:09.367Z"
   },
   {
    "duration": 5,
    "start_time": "2021-09-27T07:24:09.469Z"
   },
   {
    "duration": 7,
    "start_time": "2021-09-27T07:24:09.477Z"
   },
   {
    "duration": 5,
    "start_time": "2021-09-27T07:24:09.487Z"
   },
   {
    "duration": 10,
    "start_time": "2021-09-27T07:24:09.494Z"
   },
   {
    "duration": 9,
    "start_time": "2021-09-27T07:24:09.506Z"
   },
   {
    "duration": 48,
    "start_time": "2021-09-27T07:24:09.518Z"
   },
   {
    "duration": 4,
    "start_time": "2021-09-27T07:24:09.569Z"
   },
   {
    "duration": 10,
    "start_time": "2021-09-27T07:24:09.575Z"
   },
   {
    "duration": 10,
    "start_time": "2021-09-27T07:24:09.587Z"
   },
   {
    "duration": 9,
    "start_time": "2021-09-27T07:24:09.599Z"
   },
   {
    "duration": 61,
    "start_time": "2021-09-27T07:24:09.610Z"
   },
   {
    "duration": 90,
    "start_time": "2021-09-27T07:24:09.677Z"
   },
   {
    "duration": 5179,
    "start_time": "2021-09-27T07:24:09.771Z"
   },
   {
    "duration": 19,
    "start_time": "2021-09-27T07:24:14.953Z"
   },
   {
    "duration": 12,
    "start_time": "2021-09-27T07:24:14.975Z"
   },
   {
    "duration": 7,
    "start_time": "2021-09-27T07:24:14.990Z"
   },
   {
    "duration": 73,
    "start_time": "2021-09-27T07:24:15.000Z"
   },
   {
    "duration": 5334,
    "start_time": "2021-09-27T07:24:15.076Z"
   },
   {
    "duration": 8,
    "start_time": "2021-09-27T07:24:20.413Z"
   },
   {
    "duration": 10,
    "start_time": "2021-09-27T07:24:20.424Z"
   },
   {
    "duration": 40,
    "start_time": "2021-09-27T07:24:20.437Z"
   },
   {
    "duration": 5380,
    "start_time": "2021-09-27T07:24:20.480Z"
   },
   {
    "duration": 9,
    "start_time": "2021-09-27T07:24:25.862Z"
   },
   {
    "duration": 7,
    "start_time": "2021-09-27T07:24:25.873Z"
   },
   {
    "duration": 9,
    "start_time": "2021-09-27T07:25:01.421Z"
   },
   {
    "duration": 8,
    "start_time": "2021-09-27T07:25:09.700Z"
   },
   {
    "duration": 9,
    "start_time": "2021-09-27T07:41:32.861Z"
   },
   {
    "duration": 5780,
    "start_time": "2021-09-27T07:42:02.882Z"
   },
   {
    "duration": 5,
    "start_time": "2021-09-27T07:42:16.660Z"
   },
   {
    "duration": 5460,
    "start_time": "2021-09-27T07:42:32.979Z"
   },
   {
    "duration": 10,
    "start_time": "2021-09-27T07:42:47.820Z"
   },
   {
    "duration": 1360,
    "start_time": "2021-09-27T07:56:53.324Z"
   },
   {
    "duration": 163,
    "start_time": "2021-09-27T07:56:54.686Z"
   },
   {
    "duration": 158,
    "start_time": "2021-09-27T07:56:54.852Z"
   },
   {
    "duration": 161,
    "start_time": "2021-09-27T07:56:55.013Z"
   },
   {
    "duration": 15,
    "start_time": "2021-09-27T07:56:55.177Z"
   },
   {
    "duration": 105,
    "start_time": "2021-09-27T07:56:55.194Z"
   },
   {
    "duration": 16,
    "start_time": "2021-09-27T07:56:55.301Z"
   },
   {
    "duration": 27,
    "start_time": "2021-09-27T07:56:55.320Z"
   },
   {
    "duration": 78,
    "start_time": "2021-09-27T07:56:55.351Z"
   },
   {
    "duration": 12,
    "start_time": "2021-09-27T07:56:55.432Z"
   },
   {
    "duration": 35,
    "start_time": "2021-09-27T07:56:55.446Z"
   },
   {
    "duration": 90,
    "start_time": "2021-09-27T07:56:55.484Z"
   },
   {
    "duration": 14,
    "start_time": "2021-09-27T07:56:55.576Z"
   },
   {
    "duration": 65,
    "start_time": "2021-09-27T07:56:55.592Z"
   },
   {
    "duration": 8,
    "start_time": "2021-09-27T07:56:55.660Z"
   },
   {
    "duration": 18,
    "start_time": "2021-09-27T07:56:55.671Z"
   },
   {
    "duration": 12,
    "start_time": "2021-09-27T07:56:55.692Z"
   },
   {
    "duration": 30,
    "start_time": "2021-09-27T07:56:55.707Z"
   },
   {
    "duration": 17,
    "start_time": "2021-09-27T07:56:55.739Z"
   },
   {
    "duration": 40,
    "start_time": "2021-09-27T07:56:55.759Z"
   },
   {
    "duration": 6,
    "start_time": "2021-09-27T07:56:55.868Z"
   },
   {
    "duration": 94,
    "start_time": "2021-09-27T07:56:55.877Z"
   },
   {
    "duration": 16,
    "start_time": "2021-09-27T07:56:55.974Z"
   },
   {
    "duration": 9,
    "start_time": "2021-09-27T07:56:55.992Z"
   },
   {
    "duration": 10,
    "start_time": "2021-09-27T07:56:56.004Z"
   },
   {
    "duration": 9,
    "start_time": "2021-09-27T07:56:56.017Z"
   },
   {
    "duration": 41,
    "start_time": "2021-09-27T07:56:56.031Z"
   },
   {
    "duration": 94,
    "start_time": "2021-09-27T07:56:56.076Z"
   },
   {
    "duration": 96,
    "start_time": "2021-09-27T07:56:56.173Z"
   },
   {
    "duration": 6,
    "start_time": "2021-09-27T07:56:56.272Z"
   },
   {
    "duration": 14,
    "start_time": "2021-09-27T07:56:56.280Z"
   },
   {
    "duration": 7,
    "start_time": "2021-09-27T07:56:56.297Z"
   },
   {
    "duration": 13,
    "start_time": "2021-09-27T07:56:56.306Z"
   },
   {
    "duration": 48,
    "start_time": "2021-09-27T07:56:56.321Z"
   },
   {
    "duration": 18,
    "start_time": "2021-09-27T07:56:56.372Z"
   },
   {
    "duration": 76,
    "start_time": "2021-09-27T07:56:56.393Z"
   },
   {
    "duration": 97,
    "start_time": "2021-09-27T07:56:56.472Z"
   },
   {
    "duration": 9,
    "start_time": "2021-09-27T07:56:56.572Z"
   },
   {
    "duration": 19,
    "start_time": "2021-09-27T07:56:56.584Z"
   },
   {
    "duration": 12,
    "start_time": "2021-09-27T07:56:56.606Z"
   },
   {
    "duration": 12,
    "start_time": "2021-09-27T07:56:56.621Z"
   },
   {
    "duration": 18,
    "start_time": "2021-09-27T07:56:56.636Z"
   },
   {
    "duration": 7,
    "start_time": "2021-09-27T07:56:56.666Z"
   },
   {
    "duration": 9,
    "start_time": "2021-09-27T07:56:56.676Z"
   },
   {
    "duration": 31,
    "start_time": "2021-09-27T07:56:56.687Z"
   },
   {
    "duration": 17,
    "start_time": "2021-09-27T07:56:56.721Z"
   },
   {
    "duration": 12,
    "start_time": "2021-09-27T07:56:56.740Z"
   },
   {
    "duration": 20,
    "start_time": "2021-09-27T07:56:56.754Z"
   },
   {
    "duration": 90,
    "start_time": "2021-09-27T07:56:56.778Z"
   },
   {
    "duration": 5395,
    "start_time": "2021-09-27T07:56:56.872Z"
   },
   {
    "duration": 4,
    "start_time": "2021-09-27T07:57:02.269Z"
   },
   {
    "duration": 17,
    "start_time": "2021-09-27T07:57:02.275Z"
   },
   {
    "duration": 26,
    "start_time": "2021-09-27T07:57:02.295Z"
   },
   {
    "duration": 44,
    "start_time": "2021-09-27T07:57:02.323Z"
   },
   {
    "duration": 5322,
    "start_time": "2021-09-27T07:57:02.370Z"
   },
   {
    "duration": 7,
    "start_time": "2021-09-27T07:57:07.694Z"
   },
   {
    "duration": 9,
    "start_time": "2021-09-27T07:57:07.704Z"
   },
   {
    "duration": 11,
    "start_time": "2021-09-27T07:57:07.715Z"
   },
   {
    "duration": 5524,
    "start_time": "2021-09-27T07:57:07.728Z"
   },
   {
    "duration": 17,
    "start_time": "2021-09-27T07:57:13.254Z"
   },
   {
    "duration": 8,
    "start_time": "2021-09-27T07:57:13.273Z"
   },
   {
    "duration": 8,
    "start_time": "2021-09-27T07:58:09.002Z"
   },
   {
    "duration": 3,
    "start_time": "2021-09-27T07:58:29.505Z"
   },
   {
    "duration": 8,
    "start_time": "2021-09-27T07:59:05.604Z"
   },
   {
    "duration": 3,
    "start_time": "2021-09-27T07:59:19.784Z"
   },
   {
    "duration": 7,
    "start_time": "2021-09-27T07:59:51.404Z"
   },
   {
    "duration": 1307,
    "start_time": "2021-09-27T07:59:56.581Z"
   },
   {
    "duration": 187,
    "start_time": "2021-09-27T07:59:57.892Z"
   },
   {
    "duration": 174,
    "start_time": "2021-09-27T07:59:58.082Z"
   },
   {
    "duration": 177,
    "start_time": "2021-09-27T07:59:58.258Z"
   },
   {
    "duration": 18,
    "start_time": "2021-09-27T07:59:58.437Z"
   },
   {
    "duration": 74,
    "start_time": "2021-09-27T07:59:58.468Z"
   },
   {
    "duration": 31,
    "start_time": "2021-09-27T07:59:58.545Z"
   },
   {
    "duration": 16,
    "start_time": "2021-09-27T07:59:58.580Z"
   },
   {
    "duration": 95,
    "start_time": "2021-09-27T07:59:58.599Z"
   },
   {
    "duration": 13,
    "start_time": "2021-09-27T07:59:58.697Z"
   },
   {
    "duration": 15,
    "start_time": "2021-09-27T07:59:58.713Z"
   },
   {
    "duration": 92,
    "start_time": "2021-09-27T07:59:58.731Z"
   },
   {
    "duration": 12,
    "start_time": "2021-09-27T07:59:58.826Z"
   },
   {
    "duration": 71,
    "start_time": "2021-09-27T07:59:58.840Z"
   },
   {
    "duration": 5,
    "start_time": "2021-09-27T07:59:58.913Z"
   },
   {
    "duration": 8,
    "start_time": "2021-09-27T07:59:58.920Z"
   },
   {
    "duration": 4,
    "start_time": "2021-09-27T07:59:58.931Z"
   },
   {
    "duration": 17,
    "start_time": "2021-09-27T07:59:58.968Z"
   },
   {
    "duration": 10,
    "start_time": "2021-09-27T07:59:58.987Z"
   },
   {
    "duration": 77,
    "start_time": "2021-09-27T07:59:58.999Z"
   },
   {
    "duration": 6,
    "start_time": "2021-09-27T07:59:59.168Z"
   },
   {
    "duration": 5,
    "start_time": "2021-09-27T07:59:59.176Z"
   },
   {
    "duration": 5,
    "start_time": "2021-09-27T07:59:59.188Z"
   },
   {
    "duration": 4,
    "start_time": "2021-09-27T07:59:59.197Z"
   },
   {
    "duration": 12,
    "start_time": "2021-09-27T07:59:59.203Z"
   },
   {
    "duration": 52,
    "start_time": "2021-09-27T07:59:59.218Z"
   },
   {
    "duration": 6,
    "start_time": "2021-09-27T07:59:59.273Z"
   },
   {
    "duration": 18,
    "start_time": "2021-09-27T07:59:59.281Z"
   },
   {
    "duration": 168,
    "start_time": "2021-09-27T07:59:59.302Z"
   },
   {
    "duration": 10,
    "start_time": "2021-09-27T07:59:59.472Z"
   },
   {
    "duration": 13,
    "start_time": "2021-09-27T07:59:59.484Z"
   },
   {
    "duration": 9,
    "start_time": "2021-09-27T07:59:59.499Z"
   },
   {
    "duration": 8,
    "start_time": "2021-09-27T07:59:59.511Z"
   },
   {
    "duration": 13,
    "start_time": "2021-09-27T07:59:59.521Z"
   },
   {
    "duration": 34,
    "start_time": "2021-09-27T07:59:59.536Z"
   },
   {
    "duration": 15,
    "start_time": "2021-09-27T07:59:59.573Z"
   },
   {
    "duration": 176,
    "start_time": "2021-09-27T07:59:59.591Z"
   },
   {
    "duration": 9,
    "start_time": "2021-09-27T07:59:59.769Z"
   },
   {
    "duration": 11,
    "start_time": "2021-09-27T07:59:59.780Z"
   },
   {
    "duration": 5,
    "start_time": "2021-09-27T07:59:59.794Z"
   },
   {
    "duration": 12,
    "start_time": "2021-09-27T07:59:59.801Z"
   },
   {
    "duration": 16,
    "start_time": "2021-09-27T07:59:59.815Z"
   },
   {
    "duration": 36,
    "start_time": "2021-09-27T07:59:59.834Z"
   },
   {
    "duration": 3,
    "start_time": "2021-09-27T07:59:59.872Z"
   },
   {
    "duration": 11,
    "start_time": "2021-09-27T07:59:59.878Z"
   },
   {
    "duration": 11,
    "start_time": "2021-09-27T07:59:59.891Z"
   },
   {
    "duration": 6,
    "start_time": "2021-09-27T07:59:59.904Z"
   },
   {
    "duration": 56,
    "start_time": "2021-09-27T07:59:59.912Z"
   },
   {
    "duration": 5,
    "start_time": "2021-09-27T07:59:59.971Z"
   },
   {
    "duration": 5182,
    "start_time": "2021-09-27T08:00:00.068Z"
   },
   {
    "duration": 3,
    "start_time": "2021-09-27T08:00:05.252Z"
   },
   {
    "duration": 19,
    "start_time": "2021-09-27T08:00:05.257Z"
   },
   {
    "duration": 10,
    "start_time": "2021-09-27T08:00:05.279Z"
   },
   {
    "duration": 18,
    "start_time": "2021-09-27T08:00:05.292Z"
   },
   {
    "duration": 5266,
    "start_time": "2021-09-27T08:00:05.313Z"
   },
   {
    "duration": 3,
    "start_time": "2021-09-27T08:00:10.581Z"
   },
   {
    "duration": 29,
    "start_time": "2021-09-27T08:00:10.586Z"
   },
   {
    "duration": 14,
    "start_time": "2021-09-27T08:00:10.618Z"
   },
   {
    "duration": 34,
    "start_time": "2021-09-27T08:00:10.634Z"
   },
   {
    "duration": 5268,
    "start_time": "2021-09-27T08:00:10.681Z"
   },
   {
    "duration": 2,
    "start_time": "2021-09-27T08:00:15.952Z"
   },
   {
    "duration": 7,
    "start_time": "2021-09-27T08:00:15.967Z"
   },
   {
    "duration": 12,
    "start_time": "2021-09-27T08:00:15.977Z"
   },
   {
    "duration": 108,
    "start_time": "2021-09-27T08:08:04.119Z"
   },
   {
    "duration": 410,
    "start_time": "2021-09-27T08:08:14.282Z"
   },
   {
    "duration": 1465,
    "start_time": "2021-09-27T08:08:22.623Z"
   },
   {
    "duration": 166,
    "start_time": "2021-09-27T08:08:24.091Z"
   },
   {
    "duration": 160,
    "start_time": "2021-09-27T08:08:24.261Z"
   },
   {
    "duration": 160,
    "start_time": "2021-09-27T08:08:24.424Z"
   },
   {
    "duration": 15,
    "start_time": "2021-09-27T08:08:24.587Z"
   },
   {
    "duration": 113,
    "start_time": "2021-09-27T08:08:24.605Z"
   },
   {
    "duration": 15,
    "start_time": "2021-09-27T08:08:24.720Z"
   },
   {
    "duration": 36,
    "start_time": "2021-09-27T08:08:24.737Z"
   },
   {
    "duration": 65,
    "start_time": "2021-09-27T08:08:24.777Z"
   },
   {
    "duration": 30,
    "start_time": "2021-09-27T08:08:24.845Z"
   },
   {
    "duration": 18,
    "start_time": "2021-09-27T08:08:24.877Z"
   },
   {
    "duration": 98,
    "start_time": "2021-09-27T08:08:24.897Z"
   },
   {
    "duration": 13,
    "start_time": "2021-09-27T08:08:24.997Z"
   },
   {
    "duration": 73,
    "start_time": "2021-09-27T08:08:25.012Z"
   },
   {
    "duration": 4,
    "start_time": "2021-09-27T08:08:25.087Z"
   },
   {
    "duration": 10,
    "start_time": "2021-09-27T08:08:25.094Z"
   },
   {
    "duration": 9,
    "start_time": "2021-09-27T08:08:25.106Z"
   },
   {
    "duration": 23,
    "start_time": "2021-09-27T08:08:25.117Z"
   },
   {
    "duration": 27,
    "start_time": "2021-09-27T08:08:25.143Z"
   },
   {
    "duration": 94,
    "start_time": "2021-09-27T08:08:25.173Z"
   },
   {
    "duration": 98,
    "start_time": "2021-09-27T08:08:25.271Z"
   },
   {
    "duration": 8,
    "start_time": "2021-09-27T08:08:25.371Z"
   },
   {
    "duration": 7,
    "start_time": "2021-09-27T08:08:25.381Z"
   },
   {
    "duration": 7,
    "start_time": "2021-09-27T08:08:25.390Z"
   },
   {
    "duration": 8,
    "start_time": "2021-09-27T08:08:25.399Z"
   },
   {
    "duration": 12,
    "start_time": "2021-09-27T08:08:25.410Z"
   },
   {
    "duration": 43,
    "start_time": "2021-09-27T08:08:25.429Z"
   },
   {
    "duration": 93,
    "start_time": "2021-09-27T08:08:25.476Z"
   },
   {
    "duration": 96,
    "start_time": "2021-09-27T08:08:25.573Z"
   },
   {
    "duration": 14,
    "start_time": "2021-09-27T08:08:25.672Z"
   },
   {
    "duration": 14,
    "start_time": "2021-09-27T08:08:25.688Z"
   },
   {
    "duration": 19,
    "start_time": "2021-09-27T08:08:25.704Z"
   },
   {
    "duration": 15,
    "start_time": "2021-09-27T08:08:25.726Z"
   },
   {
    "duration": 21,
    "start_time": "2021-09-27T08:08:25.743Z"
   },
   {
    "duration": 23,
    "start_time": "2021-09-27T08:08:25.767Z"
   },
   {
    "duration": 34,
    "start_time": "2021-09-27T08:08:25.792Z"
   },
   {
    "duration": 100,
    "start_time": "2021-09-27T08:08:25.869Z"
   },
   {
    "duration": 16,
    "start_time": "2021-09-27T08:08:25.971Z"
   },
   {
    "duration": 26,
    "start_time": "2021-09-27T08:08:25.990Z"
   },
   {
    "duration": 15,
    "start_time": "2021-09-27T08:08:26.018Z"
   },
   {
    "duration": 11,
    "start_time": "2021-09-27T08:08:26.036Z"
   },
   {
    "duration": 9,
    "start_time": "2021-09-27T08:08:26.049Z"
   },
   {
    "duration": 16,
    "start_time": "2021-09-27T08:08:26.060Z"
   },
   {
    "duration": 5,
    "start_time": "2021-09-27T08:08:26.079Z"
   },
   {
    "duration": 13,
    "start_time": "2021-09-27T08:08:26.087Z"
   },
   {
    "duration": 10,
    "start_time": "2021-09-27T08:08:26.103Z"
   },
   {
    "duration": 9,
    "start_time": "2021-09-27T08:08:26.115Z"
   },
   {
    "duration": 43,
    "start_time": "2021-09-27T08:08:26.126Z"
   },
   {
    "duration": 98,
    "start_time": "2021-09-27T08:08:26.172Z"
   },
   {
    "duration": 5395,
    "start_time": "2021-09-27T08:08:26.273Z"
   },
   {
    "duration": 3,
    "start_time": "2021-09-27T08:08:31.672Z"
   },
   {
    "duration": 16,
    "start_time": "2021-09-27T08:08:31.679Z"
   },
   {
    "duration": 8,
    "start_time": "2021-09-27T08:08:31.698Z"
   },
   {
    "duration": 66,
    "start_time": "2021-09-27T08:08:31.709Z"
   },
   {
    "duration": 5490,
    "start_time": "2021-09-27T08:08:31.777Z"
   },
   {
    "duration": 3,
    "start_time": "2021-09-27T08:08:37.269Z"
   },
   {
    "duration": 21,
    "start_time": "2021-09-27T08:08:37.274Z"
   },
   {
    "duration": 18,
    "start_time": "2021-09-27T08:08:37.297Z"
   },
   {
    "duration": 15,
    "start_time": "2021-09-27T08:08:37.317Z"
   },
   {
    "duration": 5548,
    "start_time": "2021-09-27T08:08:37.370Z"
   },
   {
    "duration": 3,
    "start_time": "2021-09-27T08:08:42.920Z"
   },
   {
    "duration": 12,
    "start_time": "2021-09-27T08:08:42.925Z"
   },
   {
    "duration": 6,
    "start_time": "2021-09-27T08:08:42.940Z"
   },
   {
    "duration": 6,
    "start_time": "2021-09-27T08:08:42.968Z"
   },
   {
    "duration": 11,
    "start_time": "2021-09-27T08:09:00.905Z"
   },
   {
    "duration": 6,
    "start_time": "2021-09-27T08:09:52.624Z"
   },
   {
    "duration": 11,
    "start_time": "2021-09-27T08:09:53.104Z"
   },
   {
    "duration": 6,
    "start_time": "2021-09-27T08:10:05.683Z"
   },
   {
    "duration": 10,
    "start_time": "2021-09-27T08:10:06.136Z"
   },
   {
    "duration": 1401,
    "start_time": "2021-09-27T08:33:17.471Z"
   },
   {
    "duration": 173,
    "start_time": "2021-09-27T08:33:18.875Z"
   },
   {
    "duration": 155,
    "start_time": "2021-09-27T08:33:19.052Z"
   },
   {
    "duration": 190,
    "start_time": "2021-09-27T08:33:19.211Z"
   },
   {
    "duration": 15,
    "start_time": "2021-09-27T08:33:19.404Z"
   },
   {
    "duration": 94,
    "start_time": "2021-09-27T08:33:19.422Z"
   },
   {
    "duration": 14,
    "start_time": "2021-09-27T08:33:19.519Z"
   },
   {
    "duration": 33,
    "start_time": "2021-09-27T08:33:19.535Z"
   },
   {
    "duration": 66,
    "start_time": "2021-09-27T08:33:19.573Z"
   },
   {
    "duration": 36,
    "start_time": "2021-09-27T08:33:19.642Z"
   },
   {
    "duration": 17,
    "start_time": "2021-09-27T08:33:19.681Z"
   },
   {
    "duration": 105,
    "start_time": "2021-09-27T08:33:19.701Z"
   },
   {
    "duration": 14,
    "start_time": "2021-09-27T08:33:19.808Z"
   },
   {
    "duration": 93,
    "start_time": "2021-09-27T08:33:19.825Z"
   },
   {
    "duration": 5,
    "start_time": "2021-09-27T08:33:19.921Z"
   },
   {
    "duration": 7,
    "start_time": "2021-09-27T08:33:19.929Z"
   },
   {
    "duration": 33,
    "start_time": "2021-09-27T08:33:19.939Z"
   },
   {
    "duration": 20,
    "start_time": "2021-09-27T08:33:19.974Z"
   },
   {
    "duration": 11,
    "start_time": "2021-09-27T08:33:19.996Z"
   },
   {
    "duration": 67,
    "start_time": "2021-09-27T08:33:20.009Z"
   },
   {
    "duration": 7,
    "start_time": "2021-09-27T08:33:20.168Z"
   },
   {
    "duration": 8,
    "start_time": "2021-09-27T08:33:20.177Z"
   },
   {
    "duration": 8,
    "start_time": "2021-09-27T08:33:20.187Z"
   },
   {
    "duration": 6,
    "start_time": "2021-09-27T08:33:20.196Z"
   },
   {
    "duration": 8,
    "start_time": "2021-09-27T08:33:20.205Z"
   },
   {
    "duration": 55,
    "start_time": "2021-09-27T08:33:20.216Z"
   },
   {
    "duration": 8,
    "start_time": "2021-09-27T08:33:20.277Z"
   },
   {
    "duration": 81,
    "start_time": "2021-09-27T08:33:20.289Z"
   },
   {
    "duration": 96,
    "start_time": "2021-09-27T08:33:20.374Z"
   },
   {
    "duration": 10,
    "start_time": "2021-09-27T08:33:20.473Z"
   },
   {
    "duration": 8,
    "start_time": "2021-09-27T08:33:20.486Z"
   },
   {
    "duration": 4,
    "start_time": "2021-09-27T08:33:20.497Z"
   },
   {
    "duration": 6,
    "start_time": "2021-09-27T08:33:20.568Z"
   },
   {
    "duration": 34,
    "start_time": "2021-09-27T08:33:20.577Z"
   },
   {
    "duration": 17,
    "start_time": "2021-09-27T08:33:20.613Z"
   },
   {
    "duration": 137,
    "start_time": "2021-09-27T08:33:20.632Z"
   },
   {
    "duration": 8,
    "start_time": "2021-09-27T08:33:20.772Z"
   },
   {
    "duration": 5,
    "start_time": "2021-09-27T08:33:20.867Z"
   },
   {
    "duration": 13,
    "start_time": "2021-09-27T08:33:20.875Z"
   },
   {
    "duration": 9,
    "start_time": "2021-09-27T08:33:20.891Z"
   },
   {
    "duration": 17,
    "start_time": "2021-09-27T08:33:20.902Z"
   },
   {
    "duration": 10,
    "start_time": "2021-09-27T08:33:20.922Z"
   },
   {
    "duration": 34,
    "start_time": "2021-09-27T08:33:20.935Z"
   },
   {
    "duration": 18,
    "start_time": "2021-09-27T08:33:20.972Z"
   },
   {
    "duration": 12,
    "start_time": "2021-09-27T08:33:20.993Z"
   },
   {
    "duration": 21,
    "start_time": "2021-09-27T08:33:21.008Z"
   },
   {
    "duration": 12,
    "start_time": "2021-09-27T08:33:21.032Z"
   },
   {
    "duration": 30,
    "start_time": "2021-09-27T08:33:21.047Z"
   },
   {
    "duration": 89,
    "start_time": "2021-09-27T08:33:21.080Z"
   },
   {
    "duration": 5471,
    "start_time": "2021-09-27T08:33:21.173Z"
   },
   {
    "duration": 3,
    "start_time": "2021-09-27T08:33:26.646Z"
   },
   {
    "duration": 24,
    "start_time": "2021-09-27T08:33:26.652Z"
   },
   {
    "duration": 14,
    "start_time": "2021-09-27T08:33:26.678Z"
   },
   {
    "duration": 72,
    "start_time": "2021-09-27T08:33:26.695Z"
   },
   {
    "duration": 8641,
    "start_time": "2021-09-27T08:33:26.771Z"
   },
   {
    "duration": 4,
    "start_time": "2021-09-27T08:33:35.415Z"
   },
   {
    "duration": 12,
    "start_time": "2021-09-27T08:33:35.421Z"
   },
   {
    "duration": 7,
    "start_time": "2021-09-27T08:33:35.435Z"
   },
   {
    "duration": 108,
    "start_time": "2021-09-27T08:33:35.468Z"
   },
   {
    "duration": 5427,
    "start_time": "2021-09-27T08:33:35.579Z"
   },
   {
    "duration": 3,
    "start_time": "2021-09-27T08:33:41.008Z"
   },
   {
    "duration": 15,
    "start_time": "2021-09-27T08:33:41.013Z"
   },
   {
    "duration": 9,
    "start_time": "2021-09-27T08:33:41.030Z"
   },
   {
    "duration": 5,
    "start_time": "2021-09-27T08:33:41.068Z"
   },
   {
    "duration": 22,
    "start_time": "2021-09-27T08:33:41.076Z"
   },
   {
    "duration": 986,
    "start_time": "2021-10-04T03:35:14.513Z"
   },
   {
    "duration": 120,
    "start_time": "2021-10-04T03:35:15.501Z"
   },
   {
    "duration": 112,
    "start_time": "2021-10-04T03:35:15.623Z"
   },
   {
    "duration": 117,
    "start_time": "2021-10-04T03:35:15.737Z"
   },
   {
    "duration": 10,
    "start_time": "2021-10-04T03:35:15.855Z"
   },
   {
    "duration": 53,
    "start_time": "2021-10-04T03:35:15.867Z"
   },
   {
    "duration": 9,
    "start_time": "2021-10-04T03:35:15.922Z"
   },
   {
    "duration": 9,
    "start_time": "2021-10-04T03:35:15.934Z"
   },
   {
    "duration": 34,
    "start_time": "2021-10-04T03:35:15.945Z"
   },
   {
    "duration": 9,
    "start_time": "2021-10-04T03:35:16.000Z"
   },
   {
    "duration": 12,
    "start_time": "2021-10-04T03:35:16.010Z"
   },
   {
    "duration": 38,
    "start_time": "2021-10-04T03:35:16.023Z"
   },
   {
    "duration": 8,
    "start_time": "2021-10-04T03:35:16.062Z"
   },
   {
    "duration": 66,
    "start_time": "2021-10-04T03:35:16.072Z"
   },
   {
    "duration": 3,
    "start_time": "2021-10-04T03:35:16.140Z"
   },
   {
    "duration": 6,
    "start_time": "2021-10-04T03:35:16.144Z"
   },
   {
    "duration": 5,
    "start_time": "2021-10-04T03:35:16.151Z"
   },
   {
    "duration": 12,
    "start_time": "2021-10-04T03:35:16.158Z"
   },
   {
    "duration": 28,
    "start_time": "2021-10-04T03:35:16.172Z"
   },
   {
    "duration": 22,
    "start_time": "2021-10-04T03:35:16.202Z"
   },
   {
    "duration": 6,
    "start_time": "2021-10-04T03:35:16.300Z"
   },
   {
    "duration": 95,
    "start_time": "2021-10-04T03:35:16.307Z"
   },
   {
    "duration": 3,
    "start_time": "2021-10-04T03:35:16.407Z"
   },
   {
    "duration": 3,
    "start_time": "2021-10-04T03:35:16.413Z"
   },
   {
    "duration": 6,
    "start_time": "2021-10-04T03:35:16.417Z"
   },
   {
    "duration": 6,
    "start_time": "2021-10-04T03:35:16.424Z"
   },
   {
    "duration": 4,
    "start_time": "2021-10-04T03:35:16.432Z"
   },
   {
    "duration": 62,
    "start_time": "2021-10-04T03:35:16.438Z"
   },
   {
    "duration": 5,
    "start_time": "2021-10-04T03:35:16.502Z"
   },
   {
    "duration": 96,
    "start_time": "2021-10-04T03:35:16.509Z"
   },
   {
    "duration": 4,
    "start_time": "2021-10-04T03:35:16.607Z"
   },
   {
    "duration": 3,
    "start_time": "2021-10-04T03:35:16.612Z"
   },
   {
    "duration": 6,
    "start_time": "2021-10-04T03:35:16.616Z"
   },
   {
    "duration": 5,
    "start_time": "2021-10-04T03:35:16.623Z"
   },
   {
    "duration": 4,
    "start_time": "2021-10-04T03:35:16.629Z"
   },
   {
    "duration": 65,
    "start_time": "2021-10-04T03:35:16.635Z"
   },
   {
    "duration": 5,
    "start_time": "2021-10-04T03:35:16.702Z"
   },
   {
    "duration": 95,
    "start_time": "2021-10-04T03:35:16.708Z"
   },
   {
    "duration": 5,
    "start_time": "2021-10-04T03:35:16.804Z"
   },
   {
    "duration": 4,
    "start_time": "2021-10-04T03:35:16.810Z"
   },
   {
    "duration": 5,
    "start_time": "2021-10-04T03:35:16.816Z"
   },
   {
    "duration": 6,
    "start_time": "2021-10-04T03:35:16.822Z"
   },
   {
    "duration": 4,
    "start_time": "2021-10-04T03:35:16.830Z"
   },
   {
    "duration": 4,
    "start_time": "2021-10-04T03:35:16.836Z"
   },
   {
    "duration": 13,
    "start_time": "2021-10-04T03:35:16.841Z"
   },
   {
    "duration": 14,
    "start_time": "2021-10-04T03:35:16.856Z"
   },
   {
    "duration": 12,
    "start_time": "2021-10-04T03:35:16.871Z"
   },
   {
    "duration": 19,
    "start_time": "2021-10-04T03:35:16.885Z"
   },
   {
    "duration": 195,
    "start_time": "2021-10-04T03:35:16.905Z"
   }
  ],
  "kernelspec": {
   "display_name": "Python 3",
   "language": "python",
   "name": "python3"
  },
  "language_info": {
   "codemirror_mode": {
    "name": "ipython",
    "version": 3
   },
   "file_extension": ".py",
   "mimetype": "text/x-python",
   "name": "python",
   "nbconvert_exporter": "python",
   "pygments_lexer": "ipython3",
   "version": "3.8.5"
  },
  "toc": {
   "base_numbering": 1,
   "nav_menu": {},
   "number_sections": true,
   "sideBar": true,
   "skip_h1_title": true,
   "title_cell": "Table of Contents",
   "title_sidebar": "Contents",
   "toc_cell": false,
   "toc_position": {
    "height": "calc(100% - 180px)",
    "left": "10px",
    "top": "150px",
    "width": "289.6px"
   },
   "toc_section_display": true,
   "toc_window_display": false
  }
 },
 "nbformat": 4,
 "nbformat_minor": 2
}
